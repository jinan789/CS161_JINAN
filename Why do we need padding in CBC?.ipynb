{
 "cells": [
  {
   "cell_type": "markdown",
   "id": "knowing-argument",
   "metadata": {},
   "source": [
    "## Why do we need padding in CBC?\n",
    "\n",
    "***By Jinan jiang, jinan@berkeley.edu***\n",
    "\n",
    "The following demonstrates that CBC message length must be a multiple of block length, while CFB modes does not have such restriction.\n",
    "\n",
    "As you can see, CBC only works with messages with length of multiple of the block cipher, while CFB is okay either way."
   ]
  },
  {
   "cell_type": "code",
   "execution_count": 1,
   "id": "floppy-tattoo",
   "metadata": {},
   "outputs": [],
   "source": [
    "from demo_lib import *"
   ]
  },
  {
   "cell_type": "code",
   "execution_count": 3,
   "id": "legitimate-steam",
   "metadata": {},
   "outputs": [],
   "source": [
    "#feel free to change these parameters\n",
    "num_encs_per_display = 64"
   ]
  },
  {
   "cell_type": "markdown",
   "id": "convenient-pacific",
   "metadata": {},
   "source": [
    "***First let's look at CBC***\n",
    "\n",
    "**In CBC mode, messages are input into the block cipher,**"
   ]
  },
  {
   "cell_type": "code",
   "execution_count": 4,
   "id": "racial-handling",
   "metadata": {},
   "outputs": [
    {
     "name": "stdout",
     "output_type": "stream",
     "text": [
      "CBC can encrypt messages of length: [16, 32, 48, 64]\n",
      "\n",
      "CBC CANNOT encrypt message of length [17, 18, 19, 20, 21, 22, 23, 24, 25, 26, 27, 28, 29, 30, 31, 33, 34, 35, 36, 37, 38, 39, 40, 41, 42, 43, 44, 45, 46, 47, 49, 50, 51, 52, 53, 54, 55, 56, 57, 58, 59, 60, 61, 62, 63, 65, 66, 67, 68, 69, 70, 71, 72, 73, 74, 75, 76, 77, 78, 79]\n"
     ]
    }
   ],
   "source": [
    "message = b\"a 16-byte string\" #16 bytes\n",
    "enctyptable = []\n",
    "not_enctyptable = []\n",
    "\n",
    "for _ in range(num_encs_per_display): #different message length in each iteration\n",
    "    try:\n",
    "        CBC_enc(message = message, key = random_bytes(32)) #AES-CBC encryption\n",
    "        enctyptable.append(len(message))\n",
    "    except:\n",
    "        not_enctyptable.append(len(message)) #If AES-CBC errored, the message cannot be encrypted\n",
    "        \n",
    "    message += b'1' #add 1 byte to the message at each iteration\n",
    "    \n",
    "print(\"CBC can encrypt messages of length: \" + str(enctyptable) + '\\n')\n",
    "print(\"CBC CANNOT encrypt message of length \" + str(not_enctyptable))"
   ]
  },
  {
   "cell_type": "code",
   "execution_count": null,
   "id": "simplified-sponsorship",
   "metadata": {},
   "outputs": [],
   "source": [
    "message = b\"a 16-byte string\" #16 bytes\n",
    "enctyptable = []\n",
    "not_enctyptable = []\n",
    "\n",
    "key = os.urandom(32)\n",
    "iv = os.urandom(16)\n",
    "cipher = Cipher(algorithms.AES(key), modes.CFB(iv))\n",
    "\n",
    "for _ in range(64):\n",
    "    try:\n",
    "        encryptor = cipher.encryptor()\n",
    "        ct = encryptor.update(message) + encryptor.finalize()\n",
    "        enctyptable.append(len(message))\n",
    "    except:\n",
    "        not_enctyptable.append(len(message)) #If error, the message cannot be encrypted\n",
    "        \n",
    "    message += b'1' #add 1 byte to the message at each iteration\n",
    "    \n",
    "print(\"CFB can encrypt messages of length: \" + str(enctyptable) + '\\n')\n",
    "print(\"CFB CANNOT encrypt message of length \" + str(not_enctyptable))"
   ]
  },
  {
   "cell_type": "markdown",
   "id": "expressed-phone",
   "metadata": {},
   "source": [
    "**Now let's try adding some padding**\n",
    "\n",
    "first define a padding function"
   ]
  },
  {
   "cell_type": "code",
   "execution_count": null,
   "id": "centered-chart",
   "metadata": {},
   "outputs": [],
   "source": [
    "print(ct.decode(encoding='UTF-8',errors='ignore'))"
   ]
  },
  {
   "cell_type": "markdown",
   "id": "involved-habitat",
   "metadata": {},
   "source": [
    "There are other modes that you can select"
   ]
  },
  {
   "cell_type": "code",
   "execution_count": null,
   "id": "grave-clerk",
   "metadata": {},
   "outputs": [],
   "source": [
    "decryptor = cipher.decryptor()\n",
    "decryptor.update(ct) + decryptor.finalize()"
   ]
  },
  {
   "cell_type": "code",
   "execution_count": null,
   "id": "together-private",
   "metadata": {},
   "outputs": [],
   "source": [
    "\n",
    "str_original = '321'\n",
    "\n",
    "bytes_encoded = str_original.encode(encoding='utf-8')\n",
    "print(type(bytes_encoded))\n",
    "\n",
    "str_decoded = bytes_encoded.decode()\n",
    "print(type(str_decoded))\n",
    "\n",
    "print(bytes_encoded)\n",
    "print('Decoded String =', str_decoded)\n",
    "print('str_original equals str_decoded =', str_original == str_decoded)"
   ]
  },
  {
   "cell_type": "code",
   "execution_count": null,
   "id": "incident-cooling",
   "metadata": {},
   "outputs": [],
   "source": [
    "str_original = input('Please enter string data:\\n')\n",
    "\n",
    "bytes_encoded = str_original.encode()\n",
    "\n",
    "str_decoded = bytes_encoded.decode()\n",
    "\n",
    "print('Encoded bytes =', bytes_encoded)\n",
    "print('Decoded String =', str_decoded)\n",
    "print('str_original equals str_decoded =', str_original == str_decoded)"
   ]
  },
  {
   "cell_type": "code",
   "execution_count": null,
   "id": "meaningful-principal",
   "metadata": {},
   "outputs": [],
   "source": []
  },
  {
   "cell_type": "code",
   "execution_count": null,
   "id": "defensive-indicator",
   "metadata": {},
   "outputs": [],
   "source": [
    "message = b\"a 16-byte string\" #16 bytes\n",
    "\n",
    "key = os.urandom(32)\n",
    "iv = os.urandom(16)\n",
    "\n",
    "print(\"encrypting the same message in ECB multiple times: \\n\")\n",
    "\n",
    "for _ in range(8):\n",
    "    cipher = Cipher(algorithms.AES(key), modes.ECB())\n",
    "    encryptor = cipher.encryptor()\n",
    "    cypher_text = encryptor.update(message) + encryptor.finalize()\n",
    "    print(cypher_text)"
   ]
  },
  {
   "cell_type": "code",
   "execution_count": null,
   "id": "imported-alfred",
   "metadata": {},
   "outputs": [],
   "source": [
    "#IV reuse is bad: lose determinism\n",
    "\n",
    "message = b\"a 16-byte string\" #16 bytes\n",
    "\n",
    "key = os.urandom(32)\n",
    "iv = os.urandom(16)\n",
    "\n",
    "print(\"encrypt the same message in ECB multiple times: \\n\")\n",
    "for _ in range(8):\n",
    "    cipher = Cipher(algorithms.AES(key), modes.CBC(iv))\n",
    "    encryptor = cipher.encryptor()\n",
    "    cypher_text = encryptor.update(message) + encryptor.finalize()\n",
    "    print(cypher_text)"
   ]
  },
  {
   "cell_type": "code",
   "execution_count": null,
   "id": "grave-handling",
   "metadata": {},
   "outputs": [],
   "source": [
    "#without IV reuse:\n",
    "\n",
    "message = b\"a 16-byte string\" #16 bytes\n",
    "\n",
    "key = os.urandom(32)\n",
    "iv = os.urandom(16)\n",
    "\n",
    "print(\"encrypt the same message in ECB multiple times: \\n\")\n",
    "\n",
    "#encrypt the same message in ECB multiple times, so we have IND CPA:\n",
    "for _ in range(8):\n",
    "    iv = os.urandom(16) #new IV for each encryption\n",
    "    cipher = Cipher(algorithms.AES(key), modes.CBC(iv))\n",
    "    encryptor = cipher.encryptor()\n",
    "    cypher_text = encryptor.update(message) + encryptor.finalize()\n",
    "    print(cypher_text)"
   ]
  },
  {
   "cell_type": "code",
   "execution_count": null,
   "id": "fluid-assist",
   "metadata": {},
   "outputs": [],
   "source": [
    "#without IV reuse:\n",
    "\n",
    "message = b\"a 16-byte string\" #16 bytes\n",
    "\n",
    "key = os.urandom(32)\n",
    "iv = os.urandom(16)\n",
    "\n",
    "print(\"encrypt the same message in ECB multiple times: \\n\")\n",
    "\n",
    "#encrypt the same message in ECB multiple times, so we have IND CPA:\n",
    "for _ in range(8):\n",
    "    iv = os.urandom(16) #new IV for each encryption\n",
    "    cipher = Cipher(algorithms.AES(key), modes.CFB(iv))\n",
    "    encryptor = cipher.encryptor()\n",
    "    cypher_text = encryptor.update(message) + encryptor.finalize()\n",
    "    print(cypher_text)"
   ]
  },
  {
   "cell_type": "markdown",
   "id": "parental-nutrition",
   "metadata": {},
   "source": [
    "IV reuse is bad:"
   ]
  },
  {
   "cell_type": "code",
   "execution_count": null,
   "id": "thousand-activation",
   "metadata": {},
   "outputs": [],
   "source": [
    "#IV reuse in CTR is bad: lose determinism\n",
    "\n",
    "message = b\"a 16-byte string\" #16 bytes\n",
    "\n",
    "key = os.urandom(32)\n",
    "iv = os.urandom(16)\n",
    "\n",
    "print(\"encrypt the same message in ECB multiple times: \\n\")\n",
    "for _ in range(8):\n",
    "    message = b\"a 16-byte string\" + os.urandom(16)\n",
    "    cipher = Cipher(algorithms.AES(key), modes.CTR(iv))\n",
    "    encryptor = cipher.encryptor()\n",
    "    cypher_text = encryptor.update(message) + encryptor.finalize()\n",
    "    print(cypher_text)"
   ]
  },
  {
   "cell_type": "code",
   "execution_count": null,
   "id": "former-increase",
   "metadata": {},
   "outputs": [],
   "source": [
    "#IV reuse in CTR is bad: lose determinism\n",
    "\n",
    "message = b\"a 16-byte string\" #16 bytes\n",
    "\n",
    "key = os.urandom(32)\n",
    "iv = os.urandom(16)\n",
    "\n",
    "print(\"encrypt the same message in ECB multiple times: \\n\")\n",
    "for _ in range(8):\n",
    "    message = b\"a 16-byte string\" + os.urandom(16)\n",
    "    cipher = Cipher(algorithms.AES(key), modes.CBC(iv))\n",
    "    encryptor = cipher.encryptor()\n",
    "    cypher_text = encryptor.update(message) + encryptor.finalize()\n",
    "    print(cypher_text)"
   ]
  },
  {
   "cell_type": "code",
   "execution_count": null,
   "id": "instructional-approval",
   "metadata": {},
   "outputs": [],
   "source": [
    "#IV reuse in CTR is bad: lose determinism\n",
    "\n",
    "message = b\"a 16-byte string\" #16 bytes\n",
    "\n",
    "key = os.urandom(32)\n",
    "iv = os.urandom(16)\n",
    "\n",
    "print(\"encrypt the same message in ECB multiple times: \\n\")\n",
    "for _ in range(8):\n",
    "    message = b\"a 16-byte string\" + os.urandom(16)\n",
    "    cipher = Cipher(algorithms.AES(key), modes.OFB(iv))\n",
    "    encryptor = cipher.encryptor()\n",
    "    cypher_text = encryptor.update(message) + encryptor.finalize()\n",
    "    print(cypher_text)"
   ]
  },
  {
   "cell_type": "code",
   "execution_count": null,
   "id": "tender-venture",
   "metadata": {},
   "outputs": [],
   "source": []
  }
 ],
 "metadata": {
  "kernelspec": {
   "display_name": "Python 3",
   "language": "python",
   "name": "python3"
  },
  "language_info": {
   "codemirror_mode": {
    "name": "ipython",
    "version": 3
   },
   "file_extension": ".py",
   "mimetype": "text/x-python",
   "name": "python",
   "nbconvert_exporter": "python",
   "pygments_lexer": "ipython3",
   "version": "3.8.3"
  }
 },
 "nbformat": 4,
 "nbformat_minor": 5
}
