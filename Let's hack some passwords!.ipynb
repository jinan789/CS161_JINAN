{
 "cells": [
  {
   "cell_type": "code",
   "execution_count": null,
   "id": "fatty-rehabilitation",
   "metadata": {},
   "outputs": [],
   "source": [
    "you can try running this code to brute force... Although I wouldn't recommend that..."
   ]
  }
 ],
 "metadata": {
  "kernelspec": {
   "display_name": "Python 3",
   "language": "python",
   "name": "python3"
  },
  "language_info": {
   "codemirror_mode": {
    "name": "ipython",
    "version": 3
   },
   "file_extension": ".py",
   "mimetype": "text/x-python",
   "name": "python",
   "nbconvert_exporter": "python",
   "pygments_lexer": "ipython3",
   "version": "3.8.3"
  }
 },
 "nbformat": 4,
 "nbformat_minor": 5
}
