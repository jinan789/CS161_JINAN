{
 "cells": [
  {
   "cell_type": "code",
   "execution_count": 1,
   "id": "f743cbcf",
   "metadata": {},
   "outputs": [
    {
     "name": "stderr",
     "output_type": "stream",
     "text": [
      "/Users/jinanjiang/miniconda3/lib/python3.9/site-packages/requests/__init__.py:102: RequestsDependencyWarning: urllib3 (1.26.9) or chardet (5.1.0)/charset_normalizer (2.0.4) doesn't match a supported version!\n",
      "  warnings.warn(\"urllib3 ({}) or chardet ({})/charset_normalizer ({}) doesn't match a supported \"\n"
     ]
    }
   ],
   "source": [
    "from utils import *"
   ]
  },
  {
   "cell_type": "code",
   "execution_count": 3,
   "id": "a5c8db4b",
   "metadata": {},
   "outputs": [
    {
     "data": {
      "text/plain": [
       "['.DS_Store', '0xbafe01ff935c7305907c33bf824352ee5979b526']"
      ]
     },
     "execution_count": 3,
     "metadata": {},
     "output_type": "execute_result"
    }
   ],
   "source": [
    "path = 'dao_code_repository'\n",
    "os.listdir(path)"
   ]
  },
  {
   "cell_type": "code",
   "execution_count": 27,
   "id": "6fb92af8",
   "metadata": {},
   "outputs": [],
   "source": [
    "def get_all_annotated(cur_path):\n",
    "    files = [cur_path + '/' + i for i in os.listdir(cur_path)]\n",
    "    annotated_files = [f for f in files if f.endswith('_JINAN789.sol')]\n",
    "    folders = [f for f in files if os.path.isdir(f)]\n",
    "    for f in folders:\n",
    "        annotated_files += get_all_annotated(f)\n",
    "    return annotated_files"
   ]
  },
  {
   "cell_type": "code",
   "execution_count": 45,
   "id": "914caae1",
   "metadata": {},
   "outputs": [
    {
     "name": "stdout",
     "output_type": "stream",
     "text": [
      "number of annotated files:  5\n"
     ]
    }
   ],
   "source": [
    "annotated_files = get_all_annotated(path)\n",
    "print('number of annotated files: ', len(annotated_files))"
   ]
  },
  {
   "cell_type": "code",
   "execution_count": 46,
   "id": "a7a1215a",
   "metadata": {},
   "outputs": [
    {
     "name": "stdout",
     "output_type": "stream",
     "text": [
      "14\n"
     ]
    },
    {
     "data": {
      "text/plain": [
       "{'START_TAG_1': 4,\n",
       " 'START_TAG_2': 2,\n",
       " 'START_TAG_7': 1,\n",
       " 'START_TAG_3': 2,\n",
       " 'START_TAG_4': 3,\n",
       " 'START_TAG_6': 1,\n",
       " 'START_TAG_5': 1}"
      ]
     },
     "execution_count": 46,
     "metadata": {},
     "output_type": "execute_result"
    }
   ],
   "source": [
    "count_dict = dict()\n",
    "for file in annotated_files:\n",
    "    contents = read_from_file(file).split('\\n')\n",
    "    contents = [c for c in contents if c.startswith('@@@###$$$%%%^^^&&&***(((START_TAG_')]\n",
    "    for c in contents:\n",
    "        c = c.split('(((')[1].split('@@@')[0]\n",
    "        cur_c = count_dict.get(c, 0)\n",
    "        count_dict[c] = cur_c + 1\n",
    "        \n",
    "print(sum(count_dict.values()))\n",
    "count_dict"
   ]
  },
  {
   "cell_type": "code",
   "execution_count": 41,
   "id": "5b9833a8",
   "metadata": {},
   "outputs": [
    {
     "data": {
      "text/plain": [
       "11"
      ]
     },
     "execution_count": 41,
     "metadata": {},
     "output_type": "execute_result"
    }
   ],
   "source": []
  },
  {
   "cell_type": "code",
   "execution_count": null,
   "id": "f7b5d495",
   "metadata": {},
   "outputs": [],
   "source": []
  },
  {
   "cell_type": "code",
   "execution_count": null,
   "id": "e0dba12b",
   "metadata": {},
   "outputs": [],
   "source": []
  },
  {
   "cell_type": "code",
   "execution_count": null,
   "id": "9f0bb20c",
   "metadata": {},
   "outputs": [],
   "source": []
  },
  {
   "cell_type": "code",
   "execution_count": null,
   "id": "7d683aa2",
   "metadata": {},
   "outputs": [],
   "source": []
  },
  {
   "cell_type": "code",
   "execution_count": null,
   "id": "1afc31d1",
   "metadata": {},
   "outputs": [],
   "source": []
  },
  {
   "cell_type": "code",
   "execution_count": null,
   "id": "e99c8e09",
   "metadata": {},
   "outputs": [],
   "source": []
  },
  {
   "cell_type": "code",
   "execution_count": null,
   "id": "56801e89",
   "metadata": {},
   "outputs": [],
   "source": []
  },
  {
   "cell_type": "code",
   "execution_count": null,
   "id": "00789fbe",
   "metadata": {},
   "outputs": [],
   "source": [
    "target_codes = read_from_file('dao_code_repository/0xbafe01ff935c7305907c33bf824352ee5979b526/contracts/CarefulMath.sol')\n"
   ]
  }
 ],
 "metadata": {
  "kernelspec": {
   "display_name": "Python 3 (ipykernel)",
   "language": "python",
   "name": "python3"
  },
  "language_info": {
   "codemirror_mode": {
    "name": "ipython",
    "version": 3
   },
   "file_extension": ".py",
   "mimetype": "text/x-python",
   "name": "python",
   "nbconvert_exporter": "python",
   "pygments_lexer": "ipython3",
   "version": "3.9.12"
  }
 },
 "nbformat": 4,
 "nbformat_minor": 5
}
