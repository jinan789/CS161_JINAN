{
 "cells": [
  {
   "cell_type": "code",
   "execution_count": 1,
   "id": "052619c6",
   "metadata": {},
   "outputs": [],
   "source": [
    "import os"
   ]
  },
  {
   "cell_type": "code",
   "execution_count": null,
   "id": "2d79705d",
   "metadata": {},
   "outputs": [],
   "source": []
  },
  {
   "cell_type": "code",
   "execution_count": null,
   "id": "57933579",
   "metadata": {},
   "outputs": [],
   "source": []
  },
  {
   "cell_type": "code",
   "execution_count": 56,
   "id": "69686bab",
   "metadata": {},
   "outputs": [
    {
     "data": {
      "text/plain": [
       "['round_6.txt', 'round_5.txt', 'round_4.txt', '.DS_Store']"
      ]
     },
     "execution_count": 56,
     "metadata": {},
     "output_type": "execute_result"
    }
   ],
   "source": [
    "rounds"
   ]
  },
  {
   "cell_type": "code",
   "execution_count": 2,
   "id": "36d44988",
   "metadata": {},
   "outputs": [],
   "source": [
    "def read_from_file(path):\n",
    "    with open(path) as f:\n",
    "        return ''.join(f.readlines())"
   ]
  },
  {
   "cell_type": "code",
   "execution_count": 53,
   "id": "dde734d0",
   "metadata": {},
   "outputs": [
    {
     "ename": "AssertionError",
     "evalue": "",
     "output_type": "error",
     "traceback": [
      "\u001b[0;31m---------------------------------------------------------------------------\u001b[0m",
      "\u001b[0;31mAssertionError\u001b[0m                            Traceback (most recent call last)",
      "Cell \u001b[0;32mIn [53], line 2\u001b[0m\n\u001b[1;32m      1\u001b[0m rounds \u001b[38;5;241m=\u001b[39m os\u001b[38;5;241m.\u001b[39mlistdir(\u001b[38;5;124m'\u001b[39m\u001b[38;5;124mtables_count\u001b[39m\u001b[38;5;124m'\u001b[39m)\n\u001b[0;32m----> 2\u001b[0m \u001b[38;5;28;01massert\u001b[39;00m \u001b[38;5;28mall\u001b[39m([i\u001b[38;5;241m.\u001b[39mstartswith(\u001b[38;5;124m'\u001b[39m\u001b[38;5;124mround_\u001b[39m\u001b[38;5;124m'\u001b[39m) \u001b[38;5;129;01mand\u001b[39;00m i\u001b[38;5;241m.\u001b[39mendswith(\u001b[38;5;124m'\u001b[39m\u001b[38;5;124m.txt\u001b[39m\u001b[38;5;124m'\u001b[39m) \u001b[38;5;28;01mfor\u001b[39;00m i \u001b[38;5;129;01min\u001b[39;00m rounds])\n",
      "\u001b[0;31mAssertionError\u001b[0m: "
     ]
    }
   ],
   "source": [
    "rounds = os.listdir('tables_count')\n",
    "rounds = [i for i in rounds if i != ''.DS_Store'']\n",
    "assert all([i.startswith('round_') and i.endswith('.txt') for i in rounds])"
   ]
  },
  {
   "cell_type": "code",
   "execution_count": 55,
   "id": "0452ad7c",
   "metadata": {},
   "outputs": [
    {
     "name": "stdout",
     "output_type": "stream",
     "text": [
      "round_6.txt\n",
      "pass rate:  0.5294117647058824\n",
      "out of total cases:  17 \n",
      "\n",
      "round_5.txt\n",
      "pass rate:  0.5\n",
      "out of total cases:  24 \n",
      "\n",
      "round_4.txt\n",
      "pass rate:  0.5384615384615384\n",
      "out of total cases:  26 \n",
      "\n",
      ".DS_Store\n"
     ]
    },
    {
     "ename": "UnicodeDecodeError",
     "evalue": "'utf-8' codec can't decode byte 0xff in position 314: invalid start byte",
     "output_type": "error",
     "traceback": [
      "\u001b[0;31m---------------------------------------------------------------------------\u001b[0m",
      "\u001b[0;31mUnicodeDecodeError\u001b[0m                        Traceback (most recent call last)",
      "Cell \u001b[0;32mIn [55], line 9\u001b[0m\n\u001b[1;32m      6\u001b[0m cur_failes \u001b[38;5;241m=\u001b[39m \u001b[38;5;241m0\u001b[39m\n\u001b[1;32m      8\u001b[0m cur_file_path \u001b[38;5;241m=\u001b[39m \u001b[38;5;124m'\u001b[39m\u001b[38;5;124mtables_count/\u001b[39m\u001b[38;5;124m'\u001b[39m \u001b[38;5;241m+\u001b[39m cur_rount\n\u001b[0;32m----> 9\u001b[0m cur_txt \u001b[38;5;241m=\u001b[39m \u001b[43mread_from_file\u001b[49m\u001b[43m(\u001b[49m\u001b[43mcur_file_path\u001b[49m\u001b[43m)\u001b[49m\n\u001b[1;32m     10\u001b[0m cur_lines \u001b[38;5;241m=\u001b[39m cur_txt\u001b[38;5;241m.\u001b[39msplit(\u001b[38;5;124m'\u001b[39m\u001b[38;5;130;01m\\n\u001b[39;00m\u001b[38;5;124m'\u001b[39m)\n\u001b[1;32m     11\u001b[0m cur_lines \u001b[38;5;241m=\u001b[39m [i \u001b[38;5;28;01mfor\u001b[39;00m i \u001b[38;5;129;01min\u001b[39;00m cur_lines \u001b[38;5;28;01mif\u001b[39;00m i\u001b[38;5;241m.\u001b[39mstrip()\u001b[38;5;241m.\u001b[39mendswith(\u001b[38;5;124m'\u001b[39m\u001b[38;5;130;01m\\\\\u001b[39;00m\u001b[38;5;124m'\u001b[39m)]\n",
      "Cell \u001b[0;32mIn [2], line 3\u001b[0m, in \u001b[0;36mread_from_file\u001b[0;34m(path)\u001b[0m\n\u001b[1;32m      1\u001b[0m \u001b[38;5;28;01mdef\u001b[39;00m \u001b[38;5;21mread_from_file\u001b[39m(path):\n\u001b[1;32m      2\u001b[0m     \u001b[38;5;28;01mwith\u001b[39;00m \u001b[38;5;28mopen\u001b[39m(path) \u001b[38;5;28;01mas\u001b[39;00m f:\n\u001b[0;32m----> 3\u001b[0m         \u001b[38;5;28;01mreturn\u001b[39;00m \u001b[38;5;124m'\u001b[39m\u001b[38;5;124m'\u001b[39m\u001b[38;5;241m.\u001b[39mjoin(\u001b[43mf\u001b[49m\u001b[38;5;241;43m.\u001b[39;49m\u001b[43mreadlines\u001b[49m\u001b[43m(\u001b[49m\u001b[43m)\u001b[49m)\n",
      "File \u001b[0;32m~/miniconda3/lib/python3.9/codecs.py:322\u001b[0m, in \u001b[0;36mBufferedIncrementalDecoder.decode\u001b[0;34m(self, input, final)\u001b[0m\n\u001b[1;32m    319\u001b[0m \u001b[38;5;28;01mdef\u001b[39;00m \u001b[38;5;21mdecode\u001b[39m(\u001b[38;5;28mself\u001b[39m, \u001b[38;5;28minput\u001b[39m, final\u001b[38;5;241m=\u001b[39m\u001b[38;5;28;01mFalse\u001b[39;00m):\n\u001b[1;32m    320\u001b[0m     \u001b[38;5;66;03m# decode input (taking the buffer into account)\u001b[39;00m\n\u001b[1;32m    321\u001b[0m     data \u001b[38;5;241m=\u001b[39m \u001b[38;5;28mself\u001b[39m\u001b[38;5;241m.\u001b[39mbuffer \u001b[38;5;241m+\u001b[39m \u001b[38;5;28minput\u001b[39m\n\u001b[0;32m--> 322\u001b[0m     (result, consumed) \u001b[38;5;241m=\u001b[39m \u001b[38;5;28;43mself\u001b[39;49m\u001b[38;5;241;43m.\u001b[39;49m\u001b[43m_buffer_decode\u001b[49m\u001b[43m(\u001b[49m\u001b[43mdata\u001b[49m\u001b[43m,\u001b[49m\u001b[43m \u001b[49m\u001b[38;5;28;43mself\u001b[39;49m\u001b[38;5;241;43m.\u001b[39;49m\u001b[43merrors\u001b[49m\u001b[43m,\u001b[49m\u001b[43m \u001b[49m\u001b[43mfinal\u001b[49m\u001b[43m)\u001b[49m\n\u001b[1;32m    323\u001b[0m     \u001b[38;5;66;03m# keep undecoded input until the next call\u001b[39;00m\n\u001b[1;32m    324\u001b[0m     \u001b[38;5;28mself\u001b[39m\u001b[38;5;241m.\u001b[39mbuffer \u001b[38;5;241m=\u001b[39m data[consumed:]\n",
      "\u001b[0;31mUnicodeDecodeError\u001b[0m: 'utf-8' codec can't decode byte 0xff in position 314: invalid start byte"
     ]
    }
   ],
   "source": [
    "passed_type_to_line = dict()\n",
    "failed_type_to_line = dict()\n",
    "for cur_rount in rounds:\n",
    "    print(cur_rount)\n",
    "    cur_passes = 0\n",
    "    cur_failes = 0\n",
    "    \n",
    "    cur_file_path = 'tables_count/' + cur_rount\n",
    "    cur_txt = read_from_file(cur_file_path)\n",
    "    cur_lines = cur_txt.split('\\n')\n",
    "    cur_lines = [i for i in cur_lines if i.strip().endswith('\\\\')]\n",
    "    cur_lines = [[j.strip() for j in i.split('&')] for i in cur_lines]\n",
    "    cur_lines = [i for i in cur_lines if i[3] == 'N' or i[3] == 'Y']\n",
    "    for line in cur_lines:\n",
    "        if line[3] == 'Y':\n",
    "            cur_passes += 1\n",
    "            assert 'A' not in line[2]\n",
    "            l = passed_type_to_line.get(line[2], [])\n",
    "            l.append(list(line))\n",
    "            passed_type_to_line[line[2]] = l\n",
    "        else:\n",
    "            cur_failes += 1\n",
    "            assert line[2].startswith('A')\n",
    "            l = failed_type_to_line.get(line[2], [])\n",
    "            l.append(list(line))\n",
    "            failed_type_to_line[line[2]] = l\n",
    "    print('pass rate: ', cur_passes/(cur_passes + cur_failes))\n",
    "    print('out of total cases: ', (cur_passes + cur_failes), '\\n')\n",
    "            \n",
    "passed_type_to_count = dict()\n",
    "failed_type_to_count = dict()\n",
    "\n",
    "for i in passed_type_to_line:\n",
    "    passed_type_to_count[i] = len(passed_type_to_line[i])\n",
    "for i in failed_type_to_line:\n",
    "    failed_type_to_count[i] = len(failed_type_to_line[i])"
   ]
  },
  {
   "cell_type": "code",
   "execution_count": 35,
   "id": "f47f62a1",
   "metadata": {},
   "outputs": [
    {
     "data": {
      "text/plain": [
       "{'1': 15, '2': 4, '7': 3, '3': 1, '4': 1, '5': 1, '6': 1}"
      ]
     },
     "execution_count": 35,
     "metadata": {},
     "output_type": "execute_result"
    }
   ],
   "source": [
    "passed_type_to_count"
   ]
  },
  {
   "cell_type": "code",
   "execution_count": 36,
   "id": "268e2744",
   "metadata": {},
   "outputs": [
    {
     "data": {
      "text/plain": [
       "{'A5': 4,\n",
       " 'A4': 8,\n",
       " 'A2': 4,\n",
       " 'A8': 1,\n",
       " 'A3': 2,\n",
       " 'A9': 1,\n",
       " 'A1': 1,\n",
       " 'A6': 2,\n",
       " 'A7': 1}"
      ]
     },
     "execution_count": 36,
     "metadata": {},
     "output_type": "execute_result"
    }
   ],
   "source": [
    "failed_type_to_count"
   ]
  },
  {
   "cell_type": "code",
   "execution_count": null,
   "id": "a8d1e02b",
   "metadata": {},
   "outputs": [],
   "source": []
  },
  {
   "cell_type": "code",
   "execution_count": null,
   "id": "9033790e",
   "metadata": {},
   "outputs": [],
   "source": []
  },
  {
   "cell_type": "code",
   "execution_count": 48,
   "id": "fe5e9874",
   "metadata": {},
   "outputs": [],
   "source": [
    "import numpy as np\n",
    "import matplotlib.pyplot as plt\n",
    " \n",
    "font1 = {\n",
    "    'family' : 'Times New Roman',\n",
    "#     'family' : 'Arial',\n",
    "#     'family' : 'SimHei',\n",
    "    'weight' : 'normal',\n",
    "    'size'   : 36,\n",
    "}\n",
    "def make_plot_of_dict(d, x_label, y_label, title, save_as):\n",
    "\n",
    "    xs = d.keys()\n",
    "    ys = d.values()\n",
    "    \n",
    "    fig = plt.figure(figsize = (10, 5))\n",
    "\n",
    "    # creating the bar plot\n",
    "    plt.bar(xs, ys, color ='maroon',\n",
    "            width = 0.4)\n",
    "\n",
    "    #plt.xticks(fontsize=37)  # x轴刻度\n",
    "    #plt.yticks(fontsize=37)  # y轴刻度\n",
    "\n",
    "    plt.rcParams['xtick.direction'] = 'in'  #x轴刻度向内\n",
    "    plt.rcParams['ytick.direction'] = 'in'  #y轴刻度向内\n",
    "    plt.xticks(fontsize=20)  # x轴刻度\n",
    "    plt.yticks(fontsize=20)  # y轴刻度\n",
    "    \n",
    "    ax=plt.gca()  #获得坐标轴的句柄\n",
    "    ax.spines['bottom'].set_linewidth(3)  #设置底部坐标轴的粗细\n",
    "    ax.spines['left'].set_linewidth(3)  #设置左边坐标轴的粗细\n",
    "    ax.spines['right'].set_linewidth(3)  #设置右边坐标轴的粗细\n",
    "    ax.spines['top'].set_linewidth(3)  #设置上部坐标轴的粗细\n",
    "    ax.tick_params(which='both', width=3, pad=10)\n",
    "    ax.tick_params(which='major', length=9)\n",
    "    ax.tick_params(which='minor', length=5)\n",
    "    \n",
    "    plt.xlabel(x_label, fontsize=37,labelpad=20)\n",
    "    plt.ylabel(y_label, fontsize=37,labelpad=20)\n",
    "    plt.title(title)\n",
    "    plt.show()\n",
    "    fig.savefig(save_as + \".pdf\", bbox_inches='tight')\n",
    "\n"
   ]
  },
  {
   "cell_type": "code",
   "execution_count": 49,
   "id": "c501f563",
   "metadata": {},
   "outputs": [
    {
     "data": {
      "image/png": "[encoded data removed]",
      "text/plain": [
       "<Figure size 1000x500 with 1 Axes>"
      ]
     },
     "metadata": {},
     "output_type": "display_data"
    }
   ],
   "source": [
    "\n",
    "make_plot_of_dict(passed_type_to_count, 'type_ind', 'counts', 'test', 'test')"
   ]
  },
  {
   "cell_type": "code",
   "execution_count": 50,
   "id": "509fd638",
   "metadata": {},
   "outputs": [
    {
     "data": {
      "image/png": "[encoded data removed]",
      "text/plain": [
       "<Figure size 1000x500 with 1 Axes>"
      ]
     },
     "metadata": {},
     "output_type": "display_data"
    }
   ],
   "source": [
    "make_plot_of_dict(failed_type_to_count, 'type_ind', 'counts', 'test', 'test')"
   ]
  },
  {
   "cell_type": "code",
   "execution_count": null,
   "id": "65b99dc2",
   "metadata": {},
   "outputs": [],
   "source": []
  },
  {
   "cell_type": "code",
   "execution_count": null,
   "id": "4d1f6a75",
   "metadata": {},
   "outputs": [],
   "source": []
  },
  {
   "cell_type": "code",
   "execution_count": null,
   "id": "99f79d3b",
   "metadata": {},
   "outputs": [],
   "source": []
  },
  {
   "cell_type": "code",
   "execution_count": null,
   "id": "074e5a88",
   "metadata": {},
   "outputs": [],
   "source": []
  },
  {
   "cell_type": "code",
   "execution_count": 15,
   "id": "f32a6c99",
   "metadata": {},
   "outputs": [
    {
     "data": {
      "text/plain": [
       "[['Usage of array iteration for rewardInfo',\n",
       "  '4.1',\n",
       "  'A2',\n",
       "  'N',\n",
       "  'the target codes did involve a lot of memory operations, and we might consider adding a category called \"expensive contracts\" to indicate such, and propose potential methods for improvement (in this case, how to save away that many operations on memory arrays)  \\\\\\\\'],\n",
       " ['Repeated computation of `timeElapsed` and `tokenReward`',\n",
       "  '4.1',\n",
       "  '1',\n",
       "  'Y',\n",
       "  '\\\\\\\\'],\n",
       " ['Usage of division operation', '4.1', 'A1', 'N', '\\\\\\\\'],\n",
       " ['Redundant calculations', '4.2', 'A4', 'N', '\\\\\\\\'],\n",
       " ['Unnecessary casting', '4.2', 'A3', 'N', '\\\\\\\\'],\n",
       " ['Repeated loading of contract state variables', '4.3', 'A5', 'N', '\\\\\\\\'],\n",
       " ['Repetition of code logic', '4.3', '2', 'Y', '\\\\\\\\'],\n",
       " ['Unnecessary assembly usage', '4.3', 'A6', 'N', '\\\\\\\\'],\n",
       " ['Repeated calls to external contracts',\n",
       "  '4.4',\n",
       "  '1',\n",
       "  'Y',\n",
       "  'repeated calls to pair.token0() and pair.token1() \\\\\\\\'],\n",
       " ['Unnecessary condition checks', '4.4', 'A7', 'N', '\\\\\\\\'],\n",
       " ['Inefficient use of data types',\n",
       "  '4.4',\n",
       "  '3',\n",
       "  'Y',\n",
       "  'e.g. use uint32 instead of uint256 in \"for (uint32 i = 0; i < myArray.length; i++)\" \\\\\\\\'],\n",
       " ['Repeated conditional checks in different functions',\n",
       "  '4.5',\n",
       "  'A2',\n",
       "  'N',\n",
       "  '\\\\\\\\'],\n",
       " ['Repeated computation of rEthToken.balanceOf(address(this))',\n",
       "  '4.5',\n",
       "  '1',\n",
       "  'Y',\n",
       "  'rEthToken.balanceOf(address(this)) is repeated in \\\\_depositInternal \\\\\\\\'],\n",
       " ['Redundant Assignment in the \\\\_initializePool Function',\n",
       "  '4.6',\n",
       "  '4',\n",
       "  'Y',\n",
       "  '\\\\_token0 and \\\\_token1 are overwritten in the else case of the \\\\_initializePool function \\\\\\\\'],\n",
       " ['Unnecessary Constant Checking',\n",
       "  '4.6',\n",
       "  '5',\n",
       "  'Y',\n",
       "  'Constants, like UNISWAP\\\\_FEE, TICK\\\\_SPACING, etc., are used in require statements \\\\\\\\'],\n",
       " ['Redundant Zero-Value Check',\n",
       "  '4.6',\n",
       "  '6',\n",
       "  'Y',\n",
       "  \"There's a check in the addLiquidity function for `slippage >= 0`. Since slippage is a uint16, it can't be less than zero. This redundant check wastes gas. \\\\\\\\\"],\n",
       " ['Multiple existence checks', '4.7', '2', 'Y', '\\\\\\\\'],\n",
       " ['Repeated storage reads', '4.7', '1', 'Y', '\\\\\\\\'],\n",
       " ['Repetitive revert statements', '4.7', 'A6', 'N', '\\\\\\\\'],\n",
       " ['Repeated Calls to External Contract Functions', '4.8', '1', 'Y', '\\\\\\\\'],\n",
       " ['Duplicate Code in Loop', '4.8', '2', 'Y', '\\\\\\\\'],\n",
       " ['Redundant Function Calls', '4.9', '1', 'Y', '\\\\\\\\'],\n",
       " ['Unnecessary Storage Reads', '4.9', 'A4', 'N', '\\\\\\\\'],\n",
       " ['Condition-based Optimization',\n",
       "  '4.9',\n",
       "  'A4',\n",
       "  'N',\n",
       "  'however, looking at this, we do find that there are repeated accesses to variables like pot.rho() and pot.chi(). \\\\\\\\'],\n",
       " ['Repeated Calls to \\\\_msgSender', '4.10', '1', 'Y', '\\\\\\\\'],\n",
       " ['Repeated Storage Lookup', '4.10', 'A2', 'N', '\\\\\\\\']]"
      ]
     },
     "execution_count": 15,
     "metadata": {},
     "output_type": "execute_result"
    }
   ],
   "source": [
    "cur_lines"
   ]
  },
  {
   "cell_type": "code",
   "execution_count": 9,
   "id": "847295f7",
   "metadata": {},
   "outputs": [
    {
     "data": {
      "text/plain": [
       "['\\\\textbf{Pattern name}   & \\\\textbf{Location num}       & \\\\textbf{Categorization}  & \\\\textbf{Verified}  & \\\\textbf{Comments}  \\\\\\\\',\n",
       " 'Usage of array iteration for rewardInfo        & 4.1   &  A2 &   N     & the target codes did involve a lot of memory operations, and we might consider adding a category called \"expensive contracts\" to indicate such, and propose potential methods for improvement (in this case, how to save away that many operations on memory arrays)  \\\\\\\\',\n",
       " 'Repeated computation of `timeElapsed` and `tokenReward`         & 4.1    & 1  & Y  &        \\\\\\\\',\n",
       " 'Usage of division operation         & 4.1   &  A1  &   N     &   \\\\\\\\',\n",
       " 'Redundant calculations         & 4.2   &  A4  &   N    &  \\\\\\\\  ',\n",
       " 'Unnecessary casting         & 4.2   &  A3  &   N     &   \\\\\\\\',\n",
       " 'Repeated loading of contract state variables         & 4.3   &  A5  &   N    &  \\\\\\\\  ',\n",
       " 'Repetition of code logic         & 4.3   &  2  &   Y     &   \\\\\\\\',\n",
       " 'Unnecessary assembly usage         & 4.3   &  A6  &   N     &   \\\\\\\\',\n",
       " 'Repeated calls to external contracts         & 4.4   &  1  &   Y    &  repeated calls to pair.token0() and pair.token1() \\\\\\\\  ',\n",
       " 'Unnecessary condition checks         & 4.4   &  A7  &   N     &   \\\\\\\\',\n",
       " 'Inefficient use of data types        & 4.4   &  3  &   Y     &  e.g. use uint32 instead of uint256 in \"for (uint32 i = 0; i < myArray.length; i++)\" \\\\\\\\',\n",
       " 'Repeated conditional checks in different functions         & 4.5   &  A2  &   N    &   \\\\\\\\  ',\n",
       " 'Repeated computation of rEthToken.balanceOf(address(this))         & 4.5   &  1  &   Y     &  rEthToken.balanceOf(address(this)) is repeated in \\\\_depositInternal \\\\\\\\',\n",
       " 'Redundant Assignment in the \\\\_initializePool Function         & 4.6   &  4  &   Y    &  \\\\_token0 and \\\\_token1 are overwritten in the else case of the \\\\_initializePool function \\\\\\\\  ',\n",
       " 'Unnecessary Constant Checking         & 4.6   &  5  &   Y     &  Constants, like UNISWAP\\\\_FEE, TICK\\\\_SPACING, etc., are used in require statements \\\\\\\\',\n",
       " \"Redundant Zero-Value Check         & 4.6   &  6  &   Y     &  There's a check in the addLiquidity function for `slippage >= 0`. Since slippage is a uint16, it can't be less than zero. This redundant check wastes gas. \\\\\\\\\",\n",
       " 'Multiple existence checks         & 4.7   &  2  &   Y    &  \\\\\\\\  ',\n",
       " 'Repeated storage reads         & 4.7   &  1  &   Y     &   \\\\\\\\',\n",
       " 'Repetitive revert statements   & 4.7   &  A6  &   N     &   \\\\\\\\',\n",
       " 'Repeated Calls to External Contract Functions         & 4.8   &  1  &   Y    &  \\\\\\\\  ',\n",
       " 'Duplicate Code in Loop         & 4.8   &  2  &   Y     &   \\\\\\\\',\n",
       " 'Redundant Function Calls         & 4.9   &  1  &   Y    &  \\\\\\\\  ',\n",
       " 'Unnecessary Storage Reads         & 4.9   &  A4  &   N     &   \\\\\\\\',\n",
       " 'Condition-based Optimization  & 4.9   &  A4  &   N     &  however, looking at this, we do find that there are repeated accesses to variables like pot.rho() and pot.chi(). \\\\\\\\',\n",
       " 'Repeated Calls to \\\\_msgSender        & 4.10   &  1  &   Y    &  \\\\\\\\  ',\n",
       " 'Repeated Storage Lookup         & 4.10   &  A2  &   N     &   \\\\\\\\',\n",
       " '% \\\\textbf{Average Number}  & \\\\textbf{2.9025}    & \\\\textbf{2.1572}    & \\\\textbf{5.0597}             \\\\\\\\']"
      ]
     },
     "execution_count": 9,
     "metadata": {},
     "output_type": "execute_result"
    }
   ],
   "source": [
    "cur_lines"
   ]
  },
  {
   "cell_type": "code",
   "execution_count": null,
   "id": "a334f8e6",
   "metadata": {},
   "outputs": [],
   "source": []
  }
 ],
 "metadata": {
  "kernelspec": {
   "display_name": "Python 3 (ipykernel)",
   "language": "python",
   "name": "python3"
  },
  "language_info": {
   "codemirror_mode": {
    "name": "ipython",
    "version": 3
   },
   "file_extension": ".py",
   "mimetype": "text/x-python",
   "name": "python",
   "nbconvert_exporter": "python",
   "pygments_lexer": "ipython3",
   "version": "3.9.12"
  }
 },
 "nbformat": 4,
 "nbformat_minor": 5
}
