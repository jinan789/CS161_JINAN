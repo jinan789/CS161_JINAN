{
 "cells": [
  {
   "cell_type": "markdown",
   "id": "617e9085",
   "metadata": {},
   "source": [
    "# Sample code to test the API running the Python program"
   ]
  },
  {
   "cell_type": "code",
   "execution_count": 1,
   "id": "636a7234",
   "metadata": {},
   "outputs": [
    {
     "name": "stderr",
     "output_type": "stream",
     "text": [
      "/Users/jinanjiang/miniconda3/lib/python3.9/site-packages/requests/__init__.py:102: RequestsDependencyWarning: urllib3 (1.26.9) or chardet (5.1.0)/charset_normalizer (2.0.4) doesn't match a supported version!\n",
      "  warnings.warn(\"urllib3 ({}) or chardet ({})/charset_normalizer ({}) doesn't match a supported \"\n"
     ]
    }
   ],
   "source": [
    "from utils import *"
   ]
  },
  {
   "cell_type": "code",
   "execution_count": null,
   "id": "657d5676",
   "metadata": {},
   "outputs": [],
   "source": []
  },
  {
   "cell_type": "code",
   "execution_count": 2,
   "id": "1be63136",
   "metadata": {},
   "outputs": [],
   "source": [
    "paths = [i for i in os.listdir('cache') if i.endswith('.txt')]"
   ]
  },
  {
   "cell_type": "code",
   "execution_count": 3,
   "id": "3d04aab8",
   "metadata": {},
   "outputs": [
    {
     "name": "stdout",
     "output_type": "stream",
     "text": [
      "2033\n",
      "2504\n",
      "642\n",
      "894\n",
      "280\n",
      "1234\n",
      "1291\n",
      "800\n",
      "802\n"
     ]
    }
   ],
   "source": [
    "for p in paths:\n",
    "    print(len(read_from_file('cache/' + p)))"
   ]
  },
  {
   "cell_type": "code",
   "execution_count": 4,
   "id": "abbcfa8e",
   "metadata": {},
   "outputs": [],
   "source": []
  },
  {
   "cell_type": "code",
   "execution_count": 4,
   "id": "d57355b8",
   "metadata": {},
   "outputs": [],
   "source": [
    "def get_all_code_files_path(code_folder_name):\n",
    "    codes_path_lst = []\n",
    "    \n",
    "    l = list(os.walk('code_repository/' + code_folder_name))\n",
    "    for root, dirs, files in l:\n",
    "        codes_path_lst.extend([root + '/' +f for f in files if f.endswith('.sol') and not f.startswith('.')])\n",
    "    return codes_path_lst"
   ]
  },
  {
   "cell_type": "code",
   "execution_count": 5,
   "id": "70163567",
   "metadata": {},
   "outputs": [],
   "source": [
    "target_contract_name = 'Comptroller_0xBafE01ff935C7305907c33BF824352eE5979B526'\n",
    "\n",
    "comptroller_coldes_path = get_all_code_files_path(target_contract_name)"
   ]
  },
  {
   "cell_type": "code",
   "execution_count": 6,
   "id": "9e1a28c7",
   "metadata": {},
   "outputs": [
    {
     "name": "stdout",
     "output_type": "stream",
     "text": [
      "code_repository/Comptroller_0xBafE01ff935C7305907c33BF824352eE5979B526/EIP20NonStandardInterface.sol\n",
      "code_repository/Comptroller_0xBafE01ff935C7305907c33BF824352eE5979B526/EIP20NonStandardInterface.sol\n"
     ]
    },
    {
     "ename": "NameError",
     "evalue": "name 'RunTimeException' is not defined",
     "output_type": "error",
     "traceback": [
      "\u001b[0;31m---------------------------------------------------------------------------\u001b[0m",
      "\u001b[0;31mKeyboardInterrupt\u001b[0m                         Traceback (most recent call last)",
      "Cell \u001b[0;32mIn [6], line 17\u001b[0m\n\u001b[1;32m     16\u001b[0m     \u001b[38;5;28mprint\u001b[39m(code)\n\u001b[0;32m---> 17\u001b[0m     \u001b[43mtime\u001b[49m\u001b[38;5;241;43m.\u001b[39;49m\u001b[43msleep\u001b[49m\u001b[43m(\u001b[49m\u001b[43mrandom\u001b[49m\u001b[38;5;241;43m.\u001b[39;49m\u001b[43mrandint\u001b[49m\u001b[43m(\u001b[49m\u001b[38;5;241;43m5\u001b[39;49m\u001b[43m,\u001b[49m\u001b[38;5;241;43m10\u001b[39;49m\u001b[43m)\u001b[49m\u001b[43m)\u001b[49m\n\u001b[1;32m     18\u001b[0m \u001b[38;5;28;01mexcept\u001b[39;00m RunTimeException \u001b[38;5;28;01mas\u001b[39;00m e:\n",
      "\u001b[0;31mKeyboardInterrupt\u001b[0m: ",
      "\nDuring handling of the above exception, another exception occurred:\n",
      "\u001b[0;31mNameError\u001b[0m                                 Traceback (most recent call last)",
      "Cell \u001b[0;32mIn [6], line 18\u001b[0m\n\u001b[1;32m     16\u001b[0m     \u001b[38;5;28mprint\u001b[39m(code)\n\u001b[1;32m     17\u001b[0m     time\u001b[38;5;241m.\u001b[39msleep(random\u001b[38;5;241m.\u001b[39mrandint(\u001b[38;5;241m5\u001b[39m,\u001b[38;5;241m10\u001b[39m))\n\u001b[0;32m---> 18\u001b[0m \u001b[38;5;28;01mexcept\u001b[39;00m \u001b[43mRunTimeException\u001b[49m \u001b[38;5;28;01mas\u001b[39;00m e:\n\u001b[1;32m     19\u001b[0m     \u001b[38;5;28mprint\u001b[39m(e)\n",
      "\u001b[0;31mNameError\u001b[0m: name 'RunTimeException' is not defined"
     ]
    }
   ],
   "source": [
    "import time\n",
    "import random\n",
    "\n",
    "for code in comptroller_coldes_path:\n",
    "    try:\n",
    "        if code == 'code_repository/Comptroller_0xBafE01ff935C7305907c33BF824352eE5979B526/CTokenInterfaces.sol':\n",
    "            continue\n",
    "        if code == 'code_repository/Comptroller_0xBafE01ff935C7305907c33BF824352eE5979B526/Comptroller.sol':\n",
    "            continue\n",
    "        if code == 'code_repository/Comptroller_0xBafE01ff935C7305907c33BF824352eE5979B526/CToken.sol':\n",
    "            continue\n",
    "        if code == 'code_repository/Comptroller_0xBafE01ff935C7305907c33BF824352eE5979B526/ExponentialNoError.sol':\n",
    "            continue\n",
    "        print(code)\n",
    "        cur_code_summary = summarize_contract(code, use_cache = True, cache_prefix = 'cache/contract_summary_cache/')\n",
    "        print(code)\n",
    "        time.sleep(random.randint(5,10))\n",
    "    except RunTimeException as e:\n",
    "        print(e)"
   ]
  },
  {
   "cell_type": "code",
   "execution_count": 7,
   "id": "14303032",
   "metadata": {},
   "outputs": [],
   "source": [
    "import random"
   ]
  },
  {
   "cell_type": "code",
   "execution_count": 67,
   "id": "b16c305c",
   "metadata": {},
   "outputs": [],
   "source": [
    "input_codes = ['solmate/src/tokens/ERC20.sol', 'solmate/src/utils/SafeTransferLib.sol',\n",
    "              'RouterImmutables.sol', 'interfaces/IRewardsCollector.sol', 'RewardsCollector.sol']\n",
    "input_codes = ['code_repository/' + i for i in input_codes]"
   ]
  },
  {
   "cell_type": "code",
   "execution_count": 10,
   "id": "e8940c36",
   "metadata": {},
   "outputs": [],
   "source": [
    "def summarize_all_codes(input_codes, task_name):\n",
    "    DO_WAITING = False\n",
    "    # get summary from the given contracts\n",
    "    summary_of_all_contracts_parts = '\\n<START_CONTRACTS>\\n'\n",
    "    summary_of_all_functions_parts_lst = []\n",
    "    for code in input_codes:\n",
    "        if code == 'code_repository/Comptroller_0xBafE01ff935C7305907c33BF824352eE5979B526/CTokenInterfaces.sol':\n",
    "            continue\n",
    "        if code == 'code_repository/Comptroller_0xBafE01ff935C7305907c33BF824352eE5979B526/Comptroller.sol':\n",
    "            continue\n",
    "        if code == 'code_repository/Comptroller_0xBafE01ff935C7305907c33BF824352eE5979B526/CToken.sol':\n",
    "            continue\n",
    "        if code == 'code_repository/Comptroller_0xBafE01ff935C7305907c33BF824352eE5979B526/ExponentialNoError.sol':\n",
    "            continue\n",
    "            \n",
    "        cur_code_summary = summarize_contract(code, use_cache = True, cache_prefix = 'cache/contract_summary_cache/')\n",
    "\n",
    "        # processing function summary\n",
    "        code_summary_part = extract_tokens('FUNCTIONS', cur_code_summary).split('\\n')\n",
    "        code_summary_part = [i.strip() + ' From ' + code + '\\n' for i in code_summary_part if i]\n",
    "        summary_of_all_functions_parts_lst.extend(code_summary_part)\n",
    "\n",
    "        # processing contract summary\n",
    "        contract_summary_part = extract_tokens('CONTRACTS', cur_code_summary)\n",
    "        contract_summary_part = ''.join([text + ' ' for text in contract_summary_part.split('\\n')])\n",
    "        summary_of_all_contracts_parts += '- ' + code + ': ' + contract_summary_part + '\\n'\n",
    "    print('DONE summarizing contracts')\n",
    "\n",
    "    \n",
    "    summary_of_all_contracts_parts += '<END_CONTRACTS>\\n'\n",
    "    summary_of_all_functions_parts_lst_original_copy = list(summary_of_all_functions_parts_lst)\n",
    "\n",
    "    # filter the relevant contracts\n",
    "    if DO_WAITING:\n",
    "        time.sleep(random.randint(5,10))\n",
    "    relevant_contract_lst = extract_relevant_contract(summary_of_all_contracts_parts, task_name, use_cache = True, cache_prefix = 'cache/' + task_name + '/')\n",
    "    assert any([i.startswith('- ') for i in relevant_contract_lst.split('\\n')])\n",
    "    relevant_contract_lst = [i.split(': ')[0].split(' ')[1] for i in relevant_contract_lst.split('\\n') if i.startswith('- ')]\n",
    "    assert all([i in input_codes for i in relevant_contract_lst])\n",
    "    print('DONE finding relevant contracts to the task')\n",
    "\n",
    "    # (NO GPT here) extract functions that are in the relevant contracts\n",
    "    summary_of_all_functions_parts = '\\n<START_FUNCTIONS>\\n'\n",
    "    summary_of_all_functions_parts += ''.join([i for i in summary_of_all_functions_parts_lst if any([j in i for j in relevant_contract_lst])])\n",
    "    summary_of_all_functions_parts += '<END_FUNCTIONS>\\n'\n",
    "\n",
    "    print(summary_of_all_functions_parts)\n",
    "    # filter the relevant functions\n",
    "    if DO_WAITING:\n",
    "        time.sleep(random.randint(5,10))\n",
    "    relevant_function_lst = extract_relevant_function(summary_of_all_functions_parts, task_name, use_cache = True, cache_prefix = 'cache/' + task_name + '/')\n",
    "    assert all([i.startswith('- ') and '. From ' in i for i in relevant_function_lst.split('\\n') if i.startswith('- ')])\n",
    "    relevant_function_lst1 = [(i.split(': ')[0].split('- ')[1], i.split('. From ')[1].strip()) for i in relevant_function_lst.split('\\n')  if i.startswith('- ')]\n",
    "    assert all([i in input_codes for i in [j[1] for j in relevant_function_lst1]])\n",
    "    print('DONE finding relevant functions to the task')\n",
    "\n",
    "\n",
    "    # find a few shot example (1 for now)\n",
    "    if DO_WAITING:\n",
    "        time.sleep(random.randint(5,10))\n",
    "    few_shot_example = extract_few_shot_example(summary_of_all_functions_parts, task_name, use_cache = True, cache_prefix = 'cache/' + task_name + '/')\n",
    "    assert all(['. From ' in i for i in few_shot_example.split('\\n')])\n",
    "    few_shot_example1 = [i.strip() for i in few_shot_example.split('\\n') if len(i.strip())>0]\n",
    "    assert len(few_shot_example1) == 1\n",
    "    few_shot_example = few_shot_example1[0]\n",
    "    print('DONE finding few shot example')\n",
    "\n",
    "\n",
    "    # finally generate the codes\n",
    "    if DO_WAITING:\n",
    "        time.sleep(random.randint(5,10))\n",
    "    generated_codes = generate_codes(few_shot_example, relevant_function_lst, task_name, use_cache = True, cache_prefix = 'cache/' + task_name + '/')\n",
    "    print('DONE generating codes')\n",
    "    \n",
    "    return generated_codes\n",
    "\n"
   ]
  },
  {
   "cell_type": "code",
   "execution_count": 41,
   "id": "b1a59d66",
   "metadata": {},
   "outputs": [
    {
     "name": "stdout",
     "output_type": "stream",
     "text": [
      "DONE summarizing contracts\n",
      "DONE finding relevant contracts to the task\n",
      "\n",
      "<START_FUNCTIONS>\n",
      "- liquidateCalculateSeizeTokens(address cTokenBorrowed, address cTokenCollateral, uint repayAmount) external view returns (uint, uint): Calculates the amount of collateral tokens to be seized and the amount of borrowed tokens to be repaid when liquidating a loan. From code_repository/Comptroller_0xBafE01ff935C7305907c33BF824352eE5979B526/ComptrollerInterface.sol\n",
      "<END_FUNCTIONS>\n",
      "\n",
      "DONE finding relevant functions to the task\n",
      "DONE finding few shot example\n",
      "DONE generating codes\n",
      "num_of_contexts:  0\n",
      "\n",
      "***PROMPT: I want you to act as a software quality assurance tester for a new piece of Solidity codes. Your job is to test the functionality and performance of a set of given Solidity codes to see if they meet the required standards. The codes given to you have been improved in multiple rounds, and we want to test and see if any further improvements are needed.\n",
      "\n",
      "You will need to tell me \"True\" if you think there are any potential meaningful improvements that could be further made. Tell me \"False\" if you think the codes are good enough without major flaws or issues. Please only output \"True\" or \"False\", there is no need to include any explanations.\n",
      "\n",
      "The codes that have been improved for multiple rounds and are for you to examine are given below:\n",
      "The suggestions given by software quality assurance testers have been incorporated. Below is the improved Solidity code for the new LiquidationCalculator contract:\n",
      "\n",
      "```solidity\n",
      "pragma solidity ^0.6.12;\n",
      "\n",
      "import \"./ComptrollerInterface.sol\"; // Ensure the correct import path for ComptrollerInterface.sol\n",
      "\n",
      "contract LiquidationCalculator {\n",
      "    ComptrollerInterface public comptroller; // Declare a variable to hold the ComptrollerInterface reference\n",
      "\n",
      "    // Constructor that accepts the address of the ComptrollerInterface and initializes the `comptroller` variable\n",
      "    constructor(address _comptrollerAddress) public {\n",
      "        comptroller = ComptrollerInterface(_comptrollerAddress);\n",
      "    }\n",
      "\n",
      "    // Calculates and returns the number of collateral tokens to seize and the number of borrowed tokens to repay\n",
      "    function calculateTokensToSeize(\n",
      "        address cTokenBorrowed,\n",
      "        address cTokenCollateral,\n",
      "        uint256 actualRepayAmount\n",
      "    ) external view returns (uint256 collateralTokensToSeize, uint256 borrowedTokensToRepay) {\n",
      "        // Call liquidateCalculateSeizeTokens function from ComptrollerInterface with the given input parameters\n",
      "        (collateralTokensToSeize, borrowedTokensToRepay) = comptroller.liquidateCalculateSeizeTokens(\n",
      "            cTokenBorrowed,\n",
      "            cTokenCollateral,\n",
      "            actualRepayAmount\n",
      "        );\n",
      "    }\n",
      "}\n",
      "```\n",
      "\n",
      "The improved LiquidationCalculator contract ensures accurate import paths and simplifies some comments. The functionality remains the same. Deploy the contract with the address of the Comptroller implementation containing the liquidateCalculateSeizeTokens function and call the `calculateTokensToSeize` function with the required input parameters (cTokenBorrowed, cTokenCollateral, and actualRepayAmount) to get the number of collateral tokens to seize. Ensure the correct import path for ComptrollerInterface.sol within your project structure.\n",
      "\n",
      "***RESPONSE: False\n"
     ]
    }
   ],
   "source": [
    "target_contract_name = 'Comptroller_0xBafE01ff935C7305907c33BF824352eE5979B526'\n",
    "comptroller_coldes_path = get_all_code_files_path(target_contract_name)\n",
    "\n",
    "task_name = 'task2'\n",
    "generated_codes = summarize_all_codes(comptroller_coldes_path, task_name)\n",
    "\n",
    "# beginning a multi-round improvement\n",
    "MAX_ROUNDS = 5\n",
    "cur_round = 0\n",
    "while cur_round < MAX_ROUNDS:\n",
    "    code_quality_feedback = get_code_quality_feedback(generated_codes, task_name, cur_round = cur_round, use_cache = True, cache_prefix = 'cache/' + task_name + '/')\n",
    "    fixed_codes = fix_codes_based_on_feedback(generated_codes, task_name, cur_round = cur_round, use_cache = True, cache_prefix = 'cache/' + task_name + '/')\n",
    "\n",
    "    need_improvement = check_stopping_criteria(fixed_codes, task_name, cur_round, use_cache = True, cache_prefix = 'cache/' + task_name + '/')\n",
    "    is_true = int('True' in need_improvement)\n",
    "    is_false = int('False' in need_improvement)\n",
    "\n",
    "    assert is_true ^ is_false\n",
    "    assert is_true != is_false\n",
    "\n",
    "    cur_round += 1\n",
    "    \n",
    "    if is_false:\n",
    "        break\n",
    "    else:\n",
    "        continue\n"
   ]
  },
  {
   "cell_type": "code",
   "execution_count": null,
   "id": "844742bf",
   "metadata": {},
   "outputs": [],
   "source": []
  },
  {
   "cell_type": "code",
   "execution_count": 19,
   "id": "9270e156",
   "metadata": {},
   "outputs": [],
   "source": []
  },
  {
   "cell_type": "code",
   "execution_count": null,
   "id": "43daf1eb",
   "metadata": {},
   "outputs": [],
   "source": []
  },
  {
   "cell_type": "code",
   "execution_count": null,
   "id": "e50d8748",
   "metadata": {},
   "outputs": [],
   "source": []
  },
  {
   "cell_type": "code",
   "execution_count": null,
   "id": "7638caa5",
   "metadata": {},
   "outputs": [],
   "source": []
  },
  {
   "cell_type": "code",
   "execution_count": null,
   "id": "d342f45d",
   "metadata": {},
   "outputs": [],
   "source": []
  },
  {
   "cell_type": "code",
   "execution_count": null,
   "id": "54235821",
   "metadata": {},
   "outputs": [],
   "source": []
  },
  {
   "cell_type": "code",
   "execution_count": null,
   "id": "bbe174d8",
   "metadata": {},
   "outputs": [],
   "source": []
  },
  {
   "cell_type": "code",
   "execution_count": null,
   "id": "a8fe3266",
   "metadata": {},
   "outputs": [],
   "source": []
  },
  {
   "cell_type": "code",
   "execution_count": null,
   "id": "c649b218",
   "metadata": {},
   "outputs": [],
   "source": []
  },
  {
   "cell_type": "code",
   "execution_count": null,
   "id": "d7924539",
   "metadata": {},
   "outputs": [],
   "source": []
  },
  {
   "cell_type": "code",
   "execution_count": null,
   "id": "7b7351a6",
   "metadata": {},
   "outputs": [],
   "source": []
  },
  {
   "cell_type": "code",
   "execution_count": null,
   "id": "f78c3da4",
   "metadata": {},
   "outputs": [],
   "source": []
  },
  {
   "cell_type": "code",
   "execution_count": null,
   "id": "a743f766",
   "metadata": {},
   "outputs": [],
   "source": [
    "# TODO: consider adding format checking "
   ]
  },
  {
   "cell_type": "code",
   "execution_count": null,
   "id": "4f05d9f1",
   "metadata": {},
   "outputs": [],
   "source": [
    "The functionality I want you to write is to collect rewards and distribute them directly \n",
    "to a set of given addresses in a proportional manner. 3 parameters will be given, including \n",
    "the list of addresses to be distributed to, the proportion of each address, and the looksRareClaim \n",
    "amount that is to be distributed. \n",
    "\n",
    "# find the limitations of ChatGPT\n",
    "# 1. interface\n",
    "# 2. cross-contract\n",
    "# 3. assert (could it be missing from users that do have security backgrounds? This has security issues for \n",
    "#.       users that are less familar with Solidity)\n",
    "\n",
    "# "
   ]
  },
  {
   "cell_type": "code",
   "execution_count": null,
   "id": "c841e373",
   "metadata": {},
   "outputs": [],
   "source": []
  },
  {
   "cell_type": "code",
   "execution_count": 7,
   "id": "fd6eb286",
   "metadata": {},
   "outputs": [
    {
     "name": "stdout",
     "output_type": "stream",
     "text": [
      "num_of_contexts:  0\n",
      "I understand\n",
      "num_of_contexts:  1\n",
      "- constructor(string memory _name, string memory _symbol, uint8 _decimals): Initializes the token with its name, symbol, and decimal places.\n",
      "- approve(address spender, uint256 amount) public virtual returns (bool): Approves a specified spender to spend a specified amount of the token on behalf of the token holder (msg.sender).\n",
      "- transfer(address to, uint256 amount) public virtual returns (bool): Transfers a specified amount of the token from the sender (msg.sender) to a specified recipient.\n",
      "- transferFrom(address from, address to, uint256 amount) public virtual returns (bool): Transfers a specified amount of the token from a specified origin address to a specified recipient, considering the approved allowance.\n",
      "- permit(address owner, address spender, uint256 value, uint256 deadline, uint8 v, bytes32 r, bytes32 s) public virtual: Allows token owner to approve a spender using EIP-2612 permit by providing a valid signature.\n",
      "- DOMAIN_SEPARATOR() public view virtual returns (bytes32): Returns the EIP-712 domain separator which is used in the EIP-2612 permit function.\n",
      "- computeDomainSeparator() internal view virtual returns (bytes32): Computes the EIP-712 domain separator based on the token name, version, chainId, and contract address.\n",
      "- _mint(address to, uint256 amount) internal virtual: Mints a specified amount of the token and assigns it to a specified address. Increases the total supply of the token.\n",
      "- _burn(address from, uint256 amount) internal virtual: Burns a specified amount of the token from a specified address. Decreases the total supply of the token.\n",
      "\n",
      "Summary: This contract implements an ERC20 token with EIP-2612 permit functionality. It includes functions for approving, transferring, minting, burning, and signing off-chain approvals.\n"
     ]
    }
   ],
   "source": [
    "prompt = get_prompt_text_from_file('prompts_folder/summarize_contracts')\n",
    "r = gpt.get_response(prompt)\n",
    "print(r)\n",
    "\n",
    "prompt = get_prompt_text_from_file(\"ERC20.sol\")\n",
    "r = gpt.get_response(prompt)\n",
    "print(r)"
   ]
  },
  {
   "cell_type": "code",
   "execution_count": 72,
   "id": "7dd245d2",
   "metadata": {},
   "outputs": [
    {
     "data": {
      "text/plain": [
       "'The result of 2 * (100 + 300) / 40 is 20.'"
      ]
     },
     "execution_count": 72,
     "metadata": {},
     "output_type": "execute_result"
    }
   ],
   "source": [
    "r"
   ]
  },
  {
   "cell_type": "code",
   "execution_count": 24,
   "id": "45b4ef61",
   "metadata": {},
   "outputs": [],
   "source": [
    "gpt.clear_context()"
   ]
  },
  {
   "cell_type": "code",
   "execution_count": 67,
   "id": "5e63f58a",
   "metadata": {},
   "outputs": [
    {
     "data": {
      "text/plain": [
       "[{'role': 'user',\n",
       "  'content': 'I want you to act as a calculator. In the following conversations I will give you keep giving you 3 numbers (a, b, and c, in this order) and please return 2 * (a + b) / c to me.'},\n",
       " {'role': 'system',\n",
       "  'content': 'Of course! Please provide the first set of numbers (a, b, and c).'},\n",
       " {'role': 'user', 'content': '100 300 40'},\n",
       " {'role': 'system', 'content': 'The result for 2 * (100 + 300) / 40 is 20.'}]"
      ]
     },
     "execution_count": 67,
     "metadata": {},
     "output_type": "execute_result"
    }
   ],
   "source": [
    "gpt.context_messages"
   ]
  },
  {
   "cell_type": "code",
   "execution_count": null,
   "id": "9394f1d6",
   "metadata": {},
   "outputs": [],
   "source": []
  },
  {
   "cell_type": "code",
   "execution_count": 73,
   "id": "e03eb745",
   "metadata": {},
   "outputs": [],
   "source": []
  },
  {
   "cell_type": "markdown",
   "id": "138f59fe",
   "metadata": {},
   "source": [
    "# AttributeError: module �炦penai�� has no attribute �𦿞hatCompletion�糭nIf you find this error, you may try the following steps to solve it.\n",
    "\n",
    "Step 1: Upgrade openai to >= 0.27\n",
    "````\n",
    "pip install --upgrade openai\n",
    "````\n",
    "Step 2: Restart the application that you are running the Jupyter notebook"
   ]
  },
  {
   "cell_type": "code",
   "execution_count": null,
   "id": "218f09a0",
   "metadata": {},
   "outputs": [],
   "source": [
    "prompt = \"are you able to generate solidity codes?\"\n",
    "prompt = \"can you generate an ERC-20 contract for me\"\n",
    "\n",
    "prompt = \"how to write the ieee index terms\"\n",
    "prompt = \"what was the first question that i asked you?\"\n",
    "prompt = \"tell me more about the ieee question i asked\"\n",
    "\n",
    "prompt = \"I want you to act as a number adder. In the following conversations I will give you keep giving you 2 numbers and please return the sum of them to me.\"\n",
    "\n",
    "\n",
    "    \n",
    "messages = [\n",
    "    {\"role\": \"user\", \"content\": prompt},\n",
    "    {\"role\": \"system\", \"content\": \"Sure! I'm ready to add the numbers you provide. Please give me the first set of numbers.\"},\n",
    "    {\"role\": \"user\", \"content\": \"1 88\"}\n",
    "]\n",
    "\n",
    "# create a completion\n",
    "# engine= chatgpt | chatgpt-4 | chatgpt-4-32k | \n",
    "completion = openai.ChatCompletion.create(engine=\"chatgpt-4\", messages=[{\"role\": \"user\", \"content\": prompt}])\n",
    "completion = openai.ChatCompletion.create(engine=\"chatgpt-4\", messages=messages)\n",
    "\n",
    "\n",
    "\n",
    "# print the completion\n",
    "print(completion.choices[0].message.content)\n",
    "#print(completion)"
   ]
  },
  {
   "cell_type": "code",
   "execution_count": null,
   "id": "b870e9a3",
   "metadata": {},
   "outputs": [],
   "source": []
  },
  {
   "cell_type": "code",
   "execution_count": null,
   "id": "b5b8150d",
   "metadata": {},
   "outputs": [],
   "source": []
  },
  {
   "cell_type": "code",
   "execution_count": null,
   "id": "3d56118b",
   "metadata": {},
   "outputs": [],
   "source": []
  },
  {
   "cell_type": "code",
   "execution_count": null,
   "id": "214129ae",
   "metadata": {},
   "outputs": [],
   "source": [
    "summary_cache_path = 'cache/' + get_filename_from_path(contract_file_name + '_summary_cache.txt')\n",
    "    assert os.path.exists(summary_cache_path)\n",
    "    summary_of_contract = read_from_file(summary_cache_path)\n",
    "    \n",
    "    summary_texts = extract_tokens('CONTRACTS', summary_of_contract)"
   ]
  }
 ],
 "metadata": {
  "kernelspec": {
   "display_name": "Python 3 (ipykernel)",
   "language": "python",
   "name": "python3"
  },
  "language_info": {
   "codemirror_mode": {
    "name": "ipython",
    "version": 3
   },
   "file_extension": ".py",
   "mimetype": "text/x-python",
   "name": "python",
   "nbconvert_exporter": "python",
   "pygments_lexer": "ipython3",
   "version": "3.9.12"
  }
 },
 "nbformat": 4,
 "nbformat_minor": 5
}
