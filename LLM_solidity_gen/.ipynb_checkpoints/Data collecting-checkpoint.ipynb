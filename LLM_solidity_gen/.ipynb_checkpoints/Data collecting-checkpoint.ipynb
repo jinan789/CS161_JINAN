{
 "cells": [
  {
   "cell_type": "code",
   "execution_count": null,
   "id": "f536878c",
   "metadata": {},
   "outputs": [],
   "source": []
  },
  {
   "cell_type": "markdown",
   "id": "61399ff2",
   "metadata": {},
   "source": [
    "# COT feedback\n",
    "\n",
    "result: COT did not improve too much in this case\n",
    ", but manual inspection could be used to show a sample case of how detailed the step-by-step instruction is\n",
    " this shows 2 things:\n",
    "        1. the GPT model is already able to perform COT reasoning, at least on the task of Solidity code generation \n",
    "        2. the step by step COT instruction approach indeed provides good guidance in terms of how to implement codes\n",
    "Note: for those codes that are further improved by later steps, we should also explain why the COT did not cover such issues\n",
    "    \n",
    "    \n",
    "\n",
    "# Overview of results\n",
    "\n",
    "Most cases are fine\n",
    "Some issues are indeed found"
   ]
  },
  {
   "cell_type": "code",
   "execution_count": null,
   "id": "a9a87c33",
   "metadata": {},
   "outputs": [],
   "source": [
    "# COT stats\n",
    "\n",
    "categories: \n",
    "1. out of order (all steps present, some order is reversed)\n",
    "\n"
   ]
  },
  {
   "cell_type": "code",
   "execution_count": null,
   "id": "03e9bcfa",
   "metadata": {},
   "outputs": [],
   "source": [
    "# "
   ]
  },
  {
   "cell_type": "code",
   "execution_count": null,
   "id": "255da41c",
   "metadata": {},
   "outputs": [],
   "source": []
  },
  {
   "cell_type": "code",
   "execution_count": null,
   "id": "84f41aa4",
   "metadata": {},
   "outputs": [],
   "source": [
    "# note: the last step of code improvement :\n",
    "\n",
    "1. to enhance readability and maintainability\n",
    "2. naming of variables\n",
    "3. security checks and input/output validation"
   ]
  },
  {
   "cell_type": "code",
   "execution_count": null,
   "id": "104c4249",
   "metadata": {},
   "outputs": [],
   "source": []
  },
  {
   "cell_type": "code",
   "execution_count": null,
   "id": "756ae57e",
   "metadata": {},
   "outputs": [],
   "source": []
  },
  {
   "cell_type": "code",
   "execution_count": null,
   "id": "f3e29968",
   "metadata": {},
   "outputs": [],
   "source": []
  },
  {
   "cell_type": "code",
   "execution_count": null,
   "id": "ef1da274",
   "metadata": {},
   "outputs": [],
   "source": [
    "Note:\n",
    "    \n",
    "    1. in total, we ended up with ... files, and examined the code evolvement along these files.\n",
    "    \n",
    "    \n",
    "    \n",
    "Dicsuccion:\n",
    "    1. regarding the information to our modules, we could totally use a different way(software analyzed results) to feedback to the framework as information.\n",
    "        this largely improves the applicability and feasibility of our work\n",
    "    "
   ]
  },
  {
   "cell_type": "code",
   "execution_count": null,
   "id": "c7e4e25c",
   "metadata": {},
   "outputs": [],
   "source": []
  },
  {
   "cell_type": "code",
   "execution_count": null,
   "id": "079d194a",
   "metadata": {},
   "outputs": [],
   "source": []
  },
  {
   "cell_type": "code",
   "execution_count": null,
   "id": "231602ba",
   "metadata": {},
   "outputs": [],
   "source": []
  },
  {
   "cell_type": "code",
   "execution_count": null,
   "id": "32974f3d",
   "metadata": {},
   "outputs": [],
   "source": []
  },
  {
   "cell_type": "code",
   "execution_count": null,
   "id": "907ce7e2",
   "metadata": {},
   "outputs": [],
   "source": []
  },
  {
   "cell_type": "code",
   "execution_count": null,
   "id": "f979705d",
   "metadata": {},
   "outputs": [],
   "source": [
    "def get_cdf(kvic_in, non_kvic_in, normalize = False):\n",
    "    # note: faster cdf: collect all data into a dictionary, sort it, and add up along the way\n",
    "    max_coord = max(max(kvic_in), max(non_kvic_in))\n",
    "    max_coord = int(max_coord) + 1\n",
    "    x = list(range(0, max_coord)) # equally slice the x range into 10000\n",
    "    y_kvic = [0] * max_coord\n",
    "    y_non_kvic = [0] * max_coord\n",
    "\n",
    "    for i in range(len(kvic_in)):\n",
    "        for j in range(len(x)):\n",
    "            if kvic_in[i] <= x[j]:\n",
    "                y_kvic[j] += 1\n",
    "\n",
    "\n",
    "    for i in range(len(non_kvic_in)):\n",
    "        for j in range(len(x)):\n",
    "            if non_kvic_in[i] <= x[j]:\n",
    "                y_non_kvic[j] += 1\n",
    "    \n",
    "    if normalize:\n",
    "        y_kvic = [i/len(kvic_in) for i in y_kvic] \n",
    "        y_non_kvic = [i/len(non_kvic_in) for i in y_non_kvic] \n",
    "    return x, y_kvic, y_non_kvic\n",
    "\n",
    "def make_plot_cdf(x, y_non_kvic, y_kvic, title):\n",
    "    # f = plt.figure()\n",
    "    plt.rcParams['figure.figsize'] = (12.0, 8.0)  # 图像大小\n",
    "    plt.rcParams['xtick.direction'] = 'in'  #x轴刻度向内\n",
    "    plt.rcParams['ytick.direction'] = 'in'  #y轴刻度向内\n",
    "    f = plt.figure()\n",
    "    plt.xlabel(title,fontsize=37,labelpad=20)  # x轴\n",
    "    plt.ylabel(\"CDF\",fontsize=37,labelpad=20)  # y轴\n",
    "    plt.semilogx(x,y_kvic,lw=5,marker='o',markersize=15,markevery=0.05,label='KVIC')  # KVIC 图像\n",
    "    plt.semilogx(x,y_non_kvic,lw=5,marker='v',markersize=15,markevery=0.05,linestyle='--',label='Non-KVIC')  # 非 KVIC 图像\n",
    "    plt.xticks(fontsize=37)  # x轴刻度\n",
    "    plt.yticks(fontsize=37)  # y轴刻度\n",
    "    plt.legend(prop=font1)  # 图例\n",
    "    ax=plt.gca()  #获得坐标轴的句柄\n",
    "    ax.spines['bottom'].set_linewidth(3)  #设置底部坐标轴的粗细\n",
    "    ax.spines['left'].set_linewidth(3)  #设置左边坐标轴的粗细\n",
    "    ax.spines['right'].set_linewidth(3)  #设置右边坐标轴的粗细\n",
    "    ax.spines['top'].set_linewidth(3)  #设置上部坐标轴的粗细\n",
    "    ax.tick_params(which='both', width=3, pad=10)\n",
    "    ax.tick_params(which='major', length=9)\n",
    "    ax.tick_params(which='minor', length=5)\n",
    "    plt.show()\n",
    "    # plt.savefig('01_Added_lines_of_each_commit.pdf')\n",
    "    f.savefig(title + \".pdf\", bbox_inches='tight')"
   ]
  },
  {
   "cell_type": "code",
   "execution_count": null,
   "id": "57490e66",
   "metadata": {},
   "outputs": [],
   "source": []
  }
 ],
 "metadata": {
  "kernelspec": {
   "display_name": "Python 3 (ipykernel)",
   "language": "python",
   "name": "python3"
  },
  "language_info": {
   "codemirror_mode": {
    "name": "ipython",
    "version": 3
   },
   "file_extension": ".py",
   "mimetype": "text/x-python",
   "name": "python",
   "nbconvert_exporter": "python",
   "pygments_lexer": "ipython3",
   "version": "3.9.12"
  }
 },
 "nbformat": 4,
 "nbformat_minor": 5
}
