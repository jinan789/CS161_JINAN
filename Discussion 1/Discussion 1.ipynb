{
 "cells": [
  {
   "cell_type": "markdown",
   "id": "freelance-advisory",
   "metadata": {},
   "source": [
    "# Discussion 1\n",
    "***By Jinan Jiang, contact jinan@berkeley.edu for corrections***"
   ]
  },
  {
   "cell_type": "markdown",
   "id": "formed-guatemala",
   "metadata": {},
   "source": [
    "---"
   ]
  },
  {
   "cell_type": "markdown",
   "id": "fabulous-consumption",
   "metadata": {},
   "source": [
    "## 1. GDB commands  \n",
    "\n",
    "Let's use the following C code to demonstrate some frequently used GDB commands in this class:  \n",
    "\n",
    "```c\n",
    "int main() {}\n",
    "\n",
    "```"
   ]
  },
  {
   "cell_type": "markdown",
   "id": "handled-dispute",
   "metadata": {},
   "source": [
    "Let's use GDB to try to accomplish the following:\n",
    "- What is the address of buf?\n",
    "- What are the bytes stored in buf before executing write(buf)? What about after?\n",
    "\n",
    "- What is the beginning address of the function write in the code section of memory?"
   ]
  },
  {
   "cell_type": "markdown",
   "id": "indonesian-sunset",
   "metadata": {},
   "source": [
    "Some useful GDB commands:  \n",
    "(the format ABC/A means either the command ABC or A works. Feel free to look them up or try them out to see what each command does)\n",
    "- **layout split**\n",
    "- **break/b**\n",
    "- **delete/d**\n",
    "- **continue/c**\n",
    "- **run/r**\n",
    "- **refresh**\n",
    "- **next/n**\n",
    "- **step/s**\n",
    "- **quit/q**\n",
    "- **print/p**\n",
    "- **info frame/i f**"
   ]
  },
  {
   "cell_type": "markdown",
   "id": "genuine-ballet",
   "metadata": {},
   "source": [
    "---\n",
    "<!-- - **layout split**: shows a visual layout\n",
    "- **break/b**: sets a break point at a particular line (e.g. b 11)\n",
    "- **delete/d**: deletes a break point at a particular line (e.g. d 11)\n",
    "- **continue/c**: Continues running the program until the next breakpoint or error\n",
    "- **run/r**: start running the program in GDB\n",
    "- **refresh**: refresh the GDB layout\n",
    "- **next/n**: like \"step over\" in IntelliJ, \n",
    "- **step/s**: like \"strp into\" in IntelliJ, \n",
    "- **quit/q**: quits GDB -->"
   ]
  },
  {
   "cell_type": "markdown",
   "id": "sharing-retrieval",
   "metadata": {},
   "source": [
    "### VIM\n",
    "Check out this doc from CS 61C if you need a quick intro to VIM: https://docs.google.com/document/d/1WQF6hQK8CXtlGynSAIX7Rts6q8lykarrqX-zkb9ZDyc/view"
   ]
  },
  {
   "cell_type": "code",
   "execution_count": null,
   "id": "broad-bundle",
   "metadata": {},
   "outputs": [],
   "source": []
  }
 ],
 "metadata": {
  "kernelspec": {
   "display_name": "Python 3",
   "language": "python",
   "name": "python3"
  },
  "language_info": {
   "codemirror_mode": {
    "name": "ipython",
    "version": 3
   },
   "file_extension": ".py",
   "mimetype": "text/x-python",
   "name": "python",
   "nbconvert_exporter": "python",
   "pygments_lexer": "ipython3",
   "version": "3.8.3"
  }
 },
 "nbformat": 4,
 "nbformat_minor": 5
}
