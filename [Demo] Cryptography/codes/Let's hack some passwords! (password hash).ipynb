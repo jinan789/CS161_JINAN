{
 "cells": [
  {
   "cell_type": "markdown",
   "id": "charitable-enclosure",
   "metadata": {},
   "source": [
    "# Let's hack some passwords!\n",
    "***By Jinan Jiang***  \n",
    "  \n",
    "Let's hack ***cs161.org***! We will explore different methods ***cs161.org*** can employ to store its username-password pairs, and how safe each password management method is in the face of attackers.   \n",
    "\n",
    "Feel free to look into the library codes to try adding in different passwords."
   ]
  },
  {
   "cell_type": "code",
   "execution_count": 2,
   "id": "shared-alexander",
   "metadata": {},
   "outputs": [],
   "source": [
    "from demo_lib import *"
   ]
  },
  {
   "cell_type": "markdown",
   "id": "earned-bobby",
   "metadata": {},
   "source": [
    "---"
   ]
  },
  {
   "cell_type": "markdown",
   "id": "basic-strength",
   "metadata": {},
   "source": [
    "## Case 1: All passwords stored in the clear\n",
    "***This is a trivial case, but let's still take a look anyways:***"
   ]
  },
  {
   "cell_type": "code",
   "execution_count": 3,
   "id": "outstanding-signature",
   "metadata": {},
   "outputs": [
    {
     "name": "stdout",
     "output_type": "stream",
     "text": [
      "The passwords we obtained are: \n",
      "\n",
      "Jinan:  b'jinan_password'\n",
      "EvanBot:  b'apassword'\n",
      "Alice:  b'123456'\n",
      "Bob:  b'IamBob'\n",
      "Eve:  b'hello'\n",
      "Mallory:  b'qwerty'\n"
     ]
    }
   ],
   "source": [
    "#Assume hack_for_passwords(url, pwd_type) hacks a URL \n",
    "#don't take this function too seriously (it can't actually hack websites)... \n",
    "#look at my library source code if you're curious :)\n",
    "passwords = hack_url_for_passwords(url = \"https://cs161.org/\", pwd_type = \"plain passwords\")\n",
    "\n",
    "print(\"The passwords we obtained are: \\n\")\n",
    "for (k, v) in passwords.items():\n",
    "    print(k + \":  \" + str(v))"
   ]
  },
  {
   "cell_type": "markdown",
   "id": "practical-advice",
   "metadata": {},
   "source": [
    "***Obviously, storing passwords in the clear is a bad idea, because anyone who obtained the database records can read every user's password***"
   ]
  },
  {
   "cell_type": "markdown",
   "id": "subsequent-lying",
   "metadata": {},
   "source": [
    "---"
   ]
  },
  {
   "cell_type": "markdown",
   "id": "together-couple",
   "metadata": {},
   "source": [
    "## Case 2: All passwords are hashed\n",
    "We learned that cryptographic hash functions generate hash codes that look random (i.e. it is hard to obtain the original message being hashed given only the hashcodes; this property is called ***pre-image resistance***).  \n",
    "\n",
    "***Does this mean that if we hash all the passwords that we store, attackers who obtain the database records cannot read  users' password anymore?***"
   ]
  },
  {
   "cell_type": "code",
   "execution_count": 4,
   "id": "sudden-motivation",
   "metadata": {},
   "outputs": [
    {
     "name": "stdout",
     "output_type": "stream",
     "text": [
      "The passwords we obtained are: \n",
      "\n",
      "Jinan:  ede2e7cea8d3b99797410aff29ea479a01dc6a803aafe3b90322a3fc6ffd101c\n",
      "EvanBot:  739145a8634b184276559a2f3055353db3b261109649ef78445149415f0b4dee\n",
      "Alice:  8d969eef6ecad3c29a3a629280e686cf0c3f5d5a86aff3ca12020c923adc6c92\n",
      "Bob:  4fb9e69a7e3e920ee8458f999e8072185c326f49f5ecd62b2b25c1b722fb4792\n",
      "Eve:  2cf24dba5fb0a30e26e83b2ac5b9e29e1b161e5c1fa7425e73043362938b9824\n",
      "Mallory:  65e84be33532fb784c48129675f9eff3a682b27168c0ea744b2cf58ee02337c5\n"
     ]
    }
   ],
   "source": [
    "passwords = hack_url_for_passwords(url = \"https://cs161.org/\", pwd_type = \"hashed passwords\")\n",
    "print(\"The passwords we obtained are: \\n\")\n",
    "for (k, v) in passwords.items():\n",
    "    print(k + \":  \" + str(v))"
   ]
  },
  {
   "cell_type": "markdown",
   "id": "digital-elite",
   "metadata": {},
   "source": [
    "***Well, this looks very random and seems like attackers won't be able to tell the original password. However, don't forget that hash functions are deterministic, which means same passwords will be hashed into the same hash code.***\n",
    "\n",
    "***As a result, we can use a rainbow tables, a pre-computed table of hash codes of common passwords, to help us learn some passwords***"
   ]
  },
  {
   "cell_type": "markdown",
   "id": "correct-feature",
   "metadata": {},
   "source": [
    "<img src=\"./images/rainbow_table_1.png\" width=\"650\"/>  \n",
    "\n",
    "***Some passwords are not found since they are not common and thus not in the table. Nevertheless, many people don't choose a good password and we need to count on safer approaches to store user passwords; see Case 3!***"
   ]
  },
  {
   "cell_type": "markdown",
   "id": "present-controversy",
   "metadata": {},
   "source": [
    "---"
   ]
  },
  {
   "cell_type": "markdown",
   "id": "affected-doctor",
   "metadata": {},
   "source": [
    "## Case 3: All passwords are hashed with salt\n",
    "\n",
    "***Let's look at what happens if passwords are hashed with salt. Adding random salt to each password introduces a good source of entropy.***"
   ]
  },
  {
   "cell_type": "code",
   "execution_count": 5,
   "id": "unexpected-marina",
   "metadata": {},
   "outputs": [
    {
     "name": "stdout",
     "output_type": "stream",
     "text": [
      "The passwords we obtained are: \n",
      "\n",
      "Jinan:  {'password': '9266c8c9f7979ec950fdc8dd94be3cf473a9a54911731a1e46d67fdae8547d56', 'salt': 'bd33956ae61315019c53f8228d53500f'}\n",
      "EvanBot:  {'password': 'a282b7b3a1bf2d91412d1ce593f803a9507579e4d33a02e3f9c5e2383f839983', 'salt': 'e6001f4072f65c4d12a7bc402b64d1f8'}\n",
      "Alice:  {'password': 'e571870bf235b002df792cd9ade55b927de5570eda7ccb2881b6fdbdf4442604', 'salt': 'e853f3a3bc590b97c19f040f133ca737'}\n",
      "Bob:  {'password': '64f91c1e4e8fd3e3d752d2c55579276446cdba224cf082f5dbe93d4e1f307ba4', 'salt': 'd863b6d47961a10654bebb2f3b75815f'}\n",
      "Eve:  {'password': '56c6f26e9ae47e9c64a0febd376560e0e3f2b68ee54d9c64ae87d1ee2d382d8e', 'salt': 'b8dc955d2a12c8fee872374a4e3f3989'}\n",
      "Mallory:  {'password': '2e95d1cf12165b2635c9fde45044b95540fc3236228dd31a3595333b94090168', 'salt': '9044fcbe4631f54e09e48feaa8af3a6c'}\n"
     ]
    }
   ],
   "source": [
    "passwords = hack_url_for_passwords(url = \"https://cs161.org/\", pwd_type = \"hashed passwords with salt\")\n",
    "\n",
    "print(\"The passwords we obtained are: \\n\")\n",
    "for (k, v) in passwords.items():\n",
    "    print(k + \":  \" + str(v))"
   ]
  },
  {
   "cell_type": "markdown",
   "id": "utility-serve",
   "metadata": {},
   "source": [
    "***Not surprisingly, the rainbow table doesn't work anymore!***  \n",
    "\n",
    "***Feel free to copy and paste the salted password hash to some online rainbow table website and verify that!***\n",
    "<img src=\"./images/rainbow_table_2.png\" width=\"650\"/>"
   ]
  },
  {
   "cell_type": "markdown",
   "id": "antique-ukraine",
   "metadata": {},
   "source": [
    "---"
   ]
  },
  {
   "cell_type": "code",
   "execution_count": null,
   "id": "597c5493",
   "metadata": {},
   "outputs": [],
   "source": []
  },
  {
   "cell_type": "code",
   "execution_count": null,
   "id": "a3e346ea",
   "metadata": {},
   "outputs": [],
   "source": []
  }
 ],
 "metadata": {
  "kernelspec": {
   "display_name": "Python 3 (ipykernel)",
   "language": "python",
   "name": "python3"
  },
  "language_info": {
   "codemirror_mode": {
    "name": "ipython",
    "version": 3
   },
   "file_extension": ".py",
   "mimetype": "text/x-python",
   "name": "python",
   "nbconvert_exporter": "python",
   "pygments_lexer": "ipython3",
   "version": "3.9.12"
  }
 },
 "nbformat": 4,
 "nbformat_minor": 5
}
