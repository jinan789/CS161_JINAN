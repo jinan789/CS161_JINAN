{
 "cells": [
  {
   "cell_type": "markdown",
   "id": "pharmaceutical-dominican",
   "metadata": {},
   "source": [
    "# Why is ECB flawed?\n",
    "\n",
    "***By Jinan Jiang***"
   ]
  },
  {
   "cell_type": "code",
   "execution_count": 2,
   "id": "african-album",
   "metadata": {},
   "outputs": [],
   "source": [
    "from demo_lib import *"
   ]
  },
  {
   "cell_type": "code",
   "execution_count": 3,
   "id": "lasting-rover",
   "metadata": {},
   "outputs": [],
   "source": [
    "#feel free to change these parameters\n",
    "num_encs_per_display = 8"
   ]
  },
  {
   "cell_type": "markdown",
   "id": "bottom-packaging",
   "metadata": {},
   "source": [
    "---"
   ]
  },
  {
   "cell_type": "markdown",
   "id": "historical-matter",
   "metadata": {},
   "source": [
    "## ECB is deterministic\n",
    "\n",
    "Without using IV to incorporate extra randomness in each encryption, ECB mode will output the same cipher text whenever you encrypt the same plaintext.  \n",
    "\n",
    "Let's explore how this means we can lose IND-CPA when using ECB\n",
    "![image info](./images/ECB_encryption.png)"
   ]
  },
  {
   "cell_type": "code",
   "execution_count": 4,
   "id": "growing-teaching",
   "metadata": {},
   "outputs": [
    {
     "name": "stdout",
     "output_type": "stream",
     "text": [
      "encrypting the same message with the same key in ECB multiple times yield the same cipher text: \n",
      "\n",
      "9a96f2defc59a5879ac51fdca3fb5dc8\n",
      "9a96f2defc59a5879ac51fdca3fb5dc8\n",
      "9a96f2defc59a5879ac51fdca3fb5dc8\n",
      "9a96f2defc59a5879ac51fdca3fb5dc8\n",
      "9a96f2defc59a5879ac51fdca3fb5dc8\n",
      "9a96f2defc59a5879ac51fdca3fb5dc8\n",
      "9a96f2defc59a5879ac51fdca3fb5dc8\n",
      "9a96f2defc59a5879ac51fdca3fb5dc8\n"
     ]
    }
   ],
   "source": [
    "message = b\"a 16-byte string\" #16 bytes\n",
    "key = random_bytes(32)\n",
    "\n",
    "print(\"encrypting the same message with the same key in ECB multiple times yield the same cipher text: \\n\")\n",
    "\n",
    "for _ in range(num_encs_per_display):\n",
    "    cypher_text = AES_ECB_enc(data = message, key = key)\n",
    "    print(cypher_text.hex())"
   ]
  },
  {
   "cell_type": "markdown",
   "id": "disabled-greek",
   "metadata": {},
   "source": [
    "***we can use the following function to break IND-CPA***"
   ]
  },
  {
   "cell_type": "code",
   "execution_count": 5,
   "id": "accepting-commissioner",
   "metadata": {},
   "outputs": [],
   "source": [
    "def break_ind_cpa(mode):\n",
    "    #let m0 and m1 start with same bytes\n",
    "    m0 = b'1' * 16 + random_bytes(32)\n",
    "    m1 = b'2' * 16 + random_bytes(32)\n",
    "    \n",
    "    ind_cpa = ind_cpa_game(mode)\n",
    "    challange_text = ind_cpa.send_messages(m0, m1)\n",
    "    \n",
    "    cipher_text_m0 = ind_cpa.query_message(m0)\n",
    "    if cipher_text_m0[:16] == challange_text[:16]:\n",
    "        #if first block of the challenge ciphertext is the same as that of \n",
    "        #    m0, we know that m0 was encrypted\n",
    "        return ind_cpa.is_guess_correct(m0)\n",
    "    else:\n",
    "        #otherwise, m1 was encrypted, and we guess m1\n",
    "        return ind_cpa.is_guess_correct(m1)\n",
    "    \n",
    "def calc_success_rate(mode, num_tries):\n",
    "    success_rate = 0\n",
    "    for _ in range(100):\n",
    "        if break_ind_cpa(mode):\n",
    "            success_rate += 1\n",
    "    return success_rate"
   ]
  },
  {
   "cell_type": "code",
   "execution_count": 6,
   "id": "eight-programmer",
   "metadata": {},
   "outputs": [],
   "source": [
    "#feel free to change these parameters\n",
    "num_iterations = 5"
   ]
  },
  {
   "cell_type": "code",
   "execution_count": 7,
   "id": "official-medicare",
   "metadata": {},
   "outputs": [
    {
     "name": "stdout",
     "output_type": "stream",
     "text": [
      "Using the above method, the emperical chances of winning the IND-CPA game in the ECB mode are :\n",
      "100%\n",
      "100%\n",
      "100%\n",
      "100%\n",
      "100%\n"
     ]
    }
   ],
   "source": [
    "print(\"Using the above method, the emperical chances of winning the IND-CPA game in the ECB mode are :\")\n",
    "for _ in range(num_iterations):\n",
    "    success_rate = calc_success_rate(mode = modes.ECB, num_tries = 100)\n",
    "    print (str(success_rate) + '%')"
   ]
  },
  {
   "cell_type": "markdown",
   "id": "parental-programming",
   "metadata": {},
   "source": [
    "In contrast, let's look at CBC and CFB\n",
    "\n",
    "**Even though the first block (16 bytes) of input into CBC and CFB modes are the same, the use of IV adds in extra randomness such that the block of ciphertexts corresponding to the same plaintexts will look different.**  \n",
    "\n",
    "**Therefore, the above method of breaking IND-CPA won't work in CBC or CFB anymore:**"
   ]
  },
  {
   "cell_type": "code",
   "execution_count": 8,
   "id": "complete-campus",
   "metadata": {},
   "outputs": [
    {
     "name": "stdout",
     "output_type": "stream",
     "text": [
      "Using the above method, the emperical chances of winning the IND-CPA game in the CBC mode are :\n",
      "44%\n",
      "51%\n",
      "48%\n",
      "47%\n",
      "50%\n"
     ]
    }
   ],
   "source": [
    "print(\"Using the above method, the emperical chances of winning the IND-CPA game in the CBC mode are :\")\n",
    "for _ in range(num_iterations):\n",
    "    success_rate = calc_success_rate(mode = modes.CBC, num_tries = 100)\n",
    "    print (str(success_rate) + '%')"
   ]
  },
  {
   "cell_type": "markdown",
   "id": "acceptable-pepper",
   "metadata": {},
   "source": [
    "**Which is about 50%; it didn't win the IND-CPA game!**"
   ]
  },
  {
   "cell_type": "code",
   "execution_count": 9,
   "id": "essential-voluntary",
   "metadata": {},
   "outputs": [
    {
     "name": "stdout",
     "output_type": "stream",
     "text": [
      "Using the above method, the emperical chances of winning the IND-CPA game in the CFB mode are :\n",
      "44%\n",
      "46%\n",
      "51%\n",
      "49%\n",
      "53%\n"
     ]
    }
   ],
   "source": [
    "print(\"Using the above method, the emperical chances of winning the IND-CPA game in the CFB mode are :\")\n",
    "for _ in range(5):\n",
    "    success_rate = calc_success_rate(mode = modes.CFB, num_tries = 100)\n",
    "    print (str(success_rate) + '%')"
   ]
  },
  {
   "cell_type": "markdown",
   "id": "varying-pottery",
   "metadata": {},
   "source": [
    "---"
   ]
  },
  {
   "cell_type": "markdown",
   "id": "solid-prediction",
   "metadata": {},
   "source": [
    "## On the other hand, CBC is not"
   ]
  },
  {
   "cell_type": "code",
   "execution_count": 10,
   "id": "frequent-pixel",
   "metadata": {},
   "outputs": [
    {
     "name": "stdout",
     "output_type": "stream",
     "text": [
      "encrypting the same message with the same key in CBC multiple times: \n",
      "\n",
      "d807f1e945bde697153412a33f926228\n",
      "2ac2508ba9f491d63797c9e686d2fb1a\n",
      "e0dc2239f7ed712d7e2456baccfade77\n",
      "4a8a22e52e58733462fdd9051fa07a1b\n",
      "d03a2dd00687e7fa06df6e98ec3e58f1\n",
      "0c4536256e2687b1f98b6048b68a0e55\n",
      "971fd5ab86cb9604bab1ed7881236547\n",
      "40e83533ddc3e4e764266b6ffb55582e\n"
     ]
    }
   ],
   "source": [
    "message = b\"a 16-byte string\" #16 bytes\n",
    "key = random_bytes(32)\n",
    "\n",
    "print(\"encrypting the same message with the same key in CBC multiple times: \\n\")\n",
    "\n",
    "for _ in range(num_encs_per_display):\n",
    "    cypher_text = AES_CBC_enc(data = message, key = key, iv = random_bytes(16))\n",
    "    print(cypher_text.hex())"
   ]
  },
  {
   "cell_type": "markdown",
   "id": "stuffed-supplement",
   "metadata": {},
   "source": [
    "---"
   ]
  },
  {
   "cell_type": "markdown",
   "id": "contained-presence",
   "metadata": {},
   "source": [
    "## Let's also look at CFB if you are curious"
   ]
  },
  {
   "cell_type": "code",
   "execution_count": 11,
   "id": "romance-victoria",
   "metadata": {},
   "outputs": [
    {
     "name": "stdout",
     "output_type": "stream",
     "text": [
      "encrypting the same message with the same key in CFB multiple times: \n",
      "\n",
      "78a8ca3490f6dbb44800d8215c582add\n",
      "8fce2fe5bf7ffa6b289cd1f55d83fa86\n",
      "c519316add75fa6a84f8d7fffb775521\n",
      "b24ff7ba921c2a2a6b2cdaf10da1abf8\n",
      "25e45596658108eb2c0fbdba01cb13cd\n",
      "bb739da6c9f3b4518102b61608888981\n",
      "3239b90c573f7c76a6272a28d6c328ab\n",
      "87d0178a5b84b1486a0e32ae129d9df7\n"
     ]
    }
   ],
   "source": [
    "message = b\"a 16-byte string\" #16 bytes\n",
    "key = random_bytes(32)\n",
    "\n",
    "print(\"encrypting the same message with the same key in CFB multiple times: \\n\")\n",
    "\n",
    "for _ in range(num_encs_per_display):\n",
    "    cypher_text = AES_CFB_enc(data = message, key = key, iv = random_bytes(16))\n",
    "    print(cypher_text.hex())"
   ]
  },
  {
   "cell_type": "code",
   "execution_count": null,
   "id": "after-remark",
   "metadata": {},
   "outputs": [],
   "source": []
  },
  {
   "cell_type": "code",
   "execution_count": null,
   "id": "9c82bce8",
   "metadata": {},
   "outputs": [],
   "source": []
  },
  {
   "cell_type": "code",
   "execution_count": null,
   "id": "3661b2db",
   "metadata": {},
   "outputs": [],
   "source": []
  }
 ],
 "metadata": {
  "kernelspec": {
   "display_name": "Python 3 (ipykernel)",
   "language": "python",
   "name": "python3"
  },
  "language_info": {
   "codemirror_mode": {
    "name": "ipython",
    "version": 3
   },
   "file_extension": ".py",
   "mimetype": "text/x-python",
   "name": "python",
   "nbconvert_exporter": "python",
   "pygments_lexer": "ipython3",
   "version": "3.9.12"
  }
 },
 "nbformat": 4,
 "nbformat_minor": 5
}
