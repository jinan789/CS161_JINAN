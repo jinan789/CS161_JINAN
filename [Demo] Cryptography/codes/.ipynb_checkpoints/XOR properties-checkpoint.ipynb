{
 "cells": [
  {
   "cell_type": "markdown",
   "id": "protected-fleet",
   "metadata": {},
   "source": [
    "## XOR Demos\n",
    "***By Jinan Jiang***  \n",
    "  \n",
    "In this demo you will be shown examples of some XOR properties. Feel free to change the code and try out different calculations/parameters!"
   ]
  },
  {
   "cell_type": "markdown",
   "id": "figured-sodium",
   "metadata": {},
   "source": [
    "## XOR review\n",
    "***(source: https://textbook.cs161.org/crypto/symmetric.html)***\n",
    "\n",
    "Symmetric-key encryption often relies on the bitwise XOR (exclusive-or)\n",
    "operation (written as $$\\oplus$$), so let's review the definition of XOR.\n",
    "\n",
    "$$\n",
    "\\begin{aligned}\n",
    "0 \\oplus 0 &= 0 \\\\\n",
    "0 \\oplus 1 &= 1 \\\\\n",
    "1 \\oplus 0 &= 1 \\\\\n",
    "1 \\oplus 1 &= 0\n",
    "\\end{aligned}\n",
    "$$\n",
    "\n",
    "Given this definition, we can derive some useful properties:\n",
    "\n",
    "$$\n",
    "\\begin{aligned}\n",
    "x \\oplus 0 &= x & &\\text{0 is the identity} \\\\\n",
    "x \\oplus x &= 0 & &\\text{$x$ is its own inverse} \\\\\n",
    "x \\oplus y &= y \\oplus x & &\\text{commutative property} \\\\\n",
    "(x \\oplus y) \\oplus z &= x \\oplus (y \\oplus z) & &\\text{associative property}\n",
    "\\end{aligned}\n",
    "$$"
   ]
  },
  {
   "cell_type": "code",
   "execution_count": 2,
   "id": "relevant-costs",
   "metadata": {},
   "outputs": [],
   "source": [
    "from demo_lib import *"
   ]
  },
  {
   "cell_type": "code",
   "execution_count": 3,
   "id": "increased-disposition",
   "metadata": {},
   "outputs": [],
   "source": [
    "#feel free to change these parameters\n",
    "bit_str_len = 16\n",
    "num_loops_per_display = 16"
   ]
  },
  {
   "cell_type": "code",
   "execution_count": 4,
   "id": "confused-heath",
   "metadata": {},
   "outputs": [
    {
     "name": "stdout",
     "output_type": "stream",
     "text": [
      "[Demo]: x is its own inverse\n",
      "As you can see, any bit string XOR'ed with itself yields 0 \n",
      "\n",
      "If x = 44638     Then x^x = 0\n",
      "If x = 19099     Then x^x = 0\n",
      "If x = 20005     Then x^x = 0\n",
      "If x = 56762     Then x^x = 0\n",
      "If x = 24714     Then x^x = 0\n",
      "If x = 13093     Then x^x = 0\n",
      "If x = 35962     Then x^x = 0\n",
      "If x = 48916     Then x^x = 0\n",
      "If x = 32428     Then x^x = 0\n",
      "If x = 43172     Then x^x = 0\n",
      "If x = 17035     Then x^x = 0\n",
      "If x = 20245     Then x^x = 0\n",
      "If x = 36514     Then x^x = 0\n",
      "If x = 21168     Then x^x = 0\n",
      "If x = 12986     Then x^x = 0\n",
      "If x = 44584     Then x^x = 0\n"
     ]
    }
   ],
   "source": [
    "print(\"[Demo]: x is its own inverse\")\n",
    "print(\"As you can see, any bit string XOR'ed with itself yields 0 \\n\")\n",
    "\n",
    "for _ in range(num_loops_per_display):\n",
    "    x = random_bits(bit_str_len)\n",
    "    print(\"If x = \" + str(x) + \"     \" + \"Then x^x = \" + str(x ^ x))"
   ]
  },
  {
   "cell_type": "code",
   "execution_count": 5,
   "id": "behind-nutrition",
   "metadata": {},
   "outputs": [
    {
     "name": "stdout",
     "output_type": "stream",
     "text": [
      "[Demo]: 0 is the identity\n",
      "As you can see, XORing any bit string with 0 does not change the bit string \n",
      "\n",
      "If x = 44062     Then x^0 = 44062\n",
      "If x = 57298     Then x^0 = 57298\n",
      "If x = 55247     Then x^0 = 55247\n",
      "If x = 56580     Then x^0 = 56580\n",
      "If x = 44632     Then x^0 = 44632\n",
      "If x = 38652     Then x^0 = 38652\n",
      "If x = 9752     Then x^0 = 9752\n",
      "If x = 39448     Then x^0 = 39448\n",
      "If x = 2473     Then x^0 = 2473\n",
      "If x = 18534     Then x^0 = 18534\n",
      "If x = 61846     Then x^0 = 61846\n",
      "If x = 18388     Then x^0 = 18388\n",
      "If x = 9192     Then x^0 = 9192\n",
      "If x = 12196     Then x^0 = 12196\n",
      "If x = 37710     Then x^0 = 37710\n",
      "If x = 62229     Then x^0 = 62229\n"
     ]
    }
   ],
   "source": [
    "print(\"[Demo]: 0 is the identity\")\n",
    "print(\"As you can see, XORing any bit string with 0 does not change the bit string \\n\")\n",
    "\n",
    "for _ in range(num_loops_per_display):\n",
    "    x = random_bits(bit_str_len)\n",
    "    y = random_bits(bit_str_len)\n",
    "    print(\"If x = \" + str(x) + \"     \" + \"Then x^0 = \" + str(x ^ 0))"
   ]
  },
  {
   "cell_type": "code",
   "execution_count": 6,
   "id": "bronze-poultry",
   "metadata": {},
   "outputs": [
    {
     "name": "stdout",
     "output_type": "stream",
     "text": [
      "[Demo]: cumulative property\n",
      "As you can see, x^y is the same as y^x \n",
      "\n",
      "If x = 18386     Then x^y = 51676     and y^x = 51676\n",
      "If x = 5202     Then x^y = 38351     and y^x = 38351\n",
      "If x = 27087     Then x^y = 2451     and y^x = 2451\n",
      "If x = 42002     Then x^y = 51037     and y^x = 51037\n",
      "If x = 40073     Then x^y = 57761     and y^x = 57761\n",
      "If x = 6834     Then x^y = 30002     and y^x = 30002\n",
      "If x = 13685     Then x^y = 61421     and y^x = 61421\n",
      "If x = 55110     Then x^y = 54450     and y^x = 54450\n",
      "If x = 36136     Then x^y = 57815     and y^x = 57815\n",
      "If x = 1847     Then x^y = 5380     and y^x = 5380\n",
      "If x = 62935     Then x^y = 14912     and y^x = 14912\n",
      "If x = 45831     Then x^y = 29133     and y^x = 29133\n",
      "If x = 54978     Then x^y = 14858     and y^x = 14858\n",
      "If x = 12943     Then x^y = 53935     and y^x = 53935\n",
      "If x = 23572     Then x^y = 31028     and y^x = 31028\n",
      "If x = 57211     Then x^y = 11751     and y^x = 11751\n"
     ]
    }
   ],
   "source": [
    "print(\"[Demo]: cumulative property\")\n",
    "print(\"As you can see, x^y is the same as y^x \\n\")\n",
    "\n",
    "for _ in range(num_loops_per_display):\n",
    "    x = random_bits(bit_str_len)\n",
    "    y = random_bits(bit_str_len)\n",
    "    print(\"If x = \" + str(x) + \"     \" + \"Then x^y = \" + str(x ^ y) + \"     \" + \"and y^x = \" + str(y ^ x))"
   ]
  },
  {
   "cell_type": "code",
   "execution_count": 7,
   "id": "falling-clinton",
   "metadata": {},
   "outputs": [
    {
     "name": "stdout",
     "output_type": "stream",
     "text": [
      "[Demo]: x^y^y = x\n",
      "Proof: x^y^y = x^(y^y) = x^0 = x \n",
      "\n",
      "If x = 34850 and y = 43694     Then x^y^y = 34850\n",
      "If x = 17903 and y = 63765     Then x^y^y = 17903\n",
      "If x = 31805 and y = 14829     Then x^y^y = 31805\n",
      "If x = 12509 and y = 33948     Then x^y^y = 12509\n",
      "If x = 7032 and y = 11123     Then x^y^y = 7032\n",
      "If x = 9876 and y = 47953     Then x^y^y = 9876\n",
      "If x = 3182 and y = 24548     Then x^y^y = 3182\n",
      "If x = 53960 and y = 43862     Then x^y^y = 53960\n",
      "If x = 9444 and y = 59361     Then x^y^y = 9444\n",
      "If x = 53359 and y = 58628     Then x^y^y = 53359\n",
      "If x = 20819 and y = 58020     Then x^y^y = 20819\n",
      "If x = 21473 and y = 39871     Then x^y^y = 21473\n",
      "If x = 58067 and y = 37197     Then x^y^y = 58067\n",
      "If x = 59203 and y = 13070     Then x^y^y = 59203\n",
      "If x = 37976 and y = 12954     Then x^y^y = 37976\n",
      "If x = 20416 and y = 28559     Then x^y^y = 20416\n"
     ]
    }
   ],
   "source": [
    "print(\"[Demo]: x^y^y = x\")\n",
    "print(\"Proof: x^y^y = x^(y^y) = x^0 = x \\n\")\n",
    "\n",
    "for _ in range(16):\n",
    "    x = random_bits(bit_str_len)\n",
    "    y = random_bits(bit_str_len)\n",
    "    print(\"If x = \" + str(x) + \" and y = \" + str(y) + \"     \" + \"Then x^y^y = \" + str(x ^ y ^ y))"
   ]
  },
  {
   "cell_type": "code",
   "execution_count": null,
   "id": "intermediate-wrapping",
   "metadata": {},
   "outputs": [],
   "source": []
  },
  {
   "cell_type": "code",
   "execution_count": null,
   "id": "e5138981",
   "metadata": {},
   "outputs": [],
   "source": []
  }
 ],
 "metadata": {
  "kernelspec": {
   "display_name": "Python 3 (ipykernel)",
   "language": "python",
   "name": "python3"
  },
  "language_info": {
   "codemirror_mode": {
    "name": "ipython",
    "version": 3
   },
   "file_extension": ".py",
   "mimetype": "text/x-python",
   "name": "python",
   "nbconvert_exporter": "python",
   "pygments_lexer": "ipython3",
   "version": "3.9.12"
  }
 },
 "nbformat": 4,
 "nbformat_minor": 5
}
