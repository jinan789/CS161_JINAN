{
 "cells": [
  {
   "cell_type": "markdown",
   "id": "ordinary-nepal",
   "metadata": {},
   "source": [
    "# Why is it bad to reuse IV?\n",
    "\n",
    "***By Jinan Jiang***"
   ]
  },
  {
   "cell_type": "code",
   "execution_count": 2,
   "id": "positive-sentence",
   "metadata": {},
   "outputs": [],
   "source": [
    "from demo_lib import *"
   ]
  },
  {
   "cell_type": "code",
   "execution_count": 3,
   "id": "ultimate-trash",
   "metadata": {},
   "outputs": [],
   "source": [
    "#feel free to change these parameters\n",
    "num_encs_per_display = 16"
   ]
  },
  {
   "cell_type": "markdown",
   "id": "coupled-martial",
   "metadata": {},
   "source": [
    "---"
   ]
  },
  {
   "cell_type": "markdown",
   "id": "charming-density",
   "metadata": {},
   "source": [
    "## Losing determinism in CBC"
   ]
  },
  {
   "cell_type": "code",
   "execution_count": 4,
   "id": "stunning-protein",
   "metadata": {},
   "outputs": [
    {
     "name": "stdout",
     "output_type": "stream",
     "text": [
      "Reusing IV to encrypt the same plaintext multiple times in CBC: \n",
      "\n",
      "16eddcff4e3641c2d312140970b9b9d9\n",
      "16eddcff4e3641c2d312140970b9b9d9\n",
      "16eddcff4e3641c2d312140970b9b9d9\n",
      "16eddcff4e3641c2d312140970b9b9d9\n",
      "16eddcff4e3641c2d312140970b9b9d9\n",
      "16eddcff4e3641c2d312140970b9b9d9\n",
      "16eddcff4e3641c2d312140970b9b9d9\n",
      "16eddcff4e3641c2d312140970b9b9d9\n",
      "16eddcff4e3641c2d312140970b9b9d9\n",
      "16eddcff4e3641c2d312140970b9b9d9\n",
      "16eddcff4e3641c2d312140970b9b9d9\n",
      "16eddcff4e3641c2d312140970b9b9d9\n",
      "16eddcff4e3641c2d312140970b9b9d9\n",
      "16eddcff4e3641c2d312140970b9b9d9\n",
      "16eddcff4e3641c2d312140970b9b9d9\n",
      "16eddcff4e3641c2d312140970b9b9d9\n"
     ]
    }
   ],
   "source": [
    "message = b\"a 16-byte string\" #16 bytes\n",
    "print(\"Reusing IV to encrypt the same plaintext multiple times in CBC: \\n\")\n",
    "\n",
    "key = random_bytes(32)\n",
    "iv = random_bytes(16)\n",
    "\n",
    "for _ in range(num_encs_per_display):\n",
    "    cypher_text = AES_CBC_enc(data = message, key = key, iv = iv)\n",
    "    print(cypher_text.hex())"
   ]
  },
  {
   "cell_type": "code",
   "execution_count": 5,
   "id": "listed-boutique",
   "metadata": {},
   "outputs": [
    {
     "name": "stdout",
     "output_type": "stream",
     "text": [
      "Not reusing IV to encrypt the same plaintext multiple times in CBC: \n",
      "\n",
      "a8f986cfc5ef4452ba3e5bf164e2ec6d\n",
      "25526fc85a332f7005758ed9b0c5d55b\n",
      "8cdd153c531b1e26c27d92fe5fc7556d\n",
      "b7928a938dc30acb2f2430486941ad3e\n",
      "a0a13bafc4e6b1dd0ef2a5d60cf9a1df\n",
      "9807fc702478d7541c814e9e0cf8b5a6\n",
      "496e4ff87bb0f3444ee9cdf86b4bc489\n",
      "c50a3ee724c5d9d4ebdf4826b1ed986e\n",
      "b719fa773a643bafc15f720a04af8b00\n",
      "cd16797a292139e83c8a47d7ef7975b9\n",
      "36adbc7c753f5f7ebd4f8c33ee33457d\n",
      "3cca5c396bc774592a35436360687990\n",
      "5f05cbf0fc7ceb689fa20f15d49ed779\n",
      "34a107f6306c887919895efb07bcf20d\n",
      "0222bcf7a2e0bd8ccc6d4babf0ad8df7\n",
      "38a9bd6d0f2fe58ec384f8ee3495351e\n"
     ]
    }
   ],
   "source": [
    "message = b\"a 16-byte string\" #16 bytes\n",
    "print(\"Not reusing IV to encrypt the same plaintext multiple times in CBC: \\n\")\n",
    "\n",
    "key = random_bytes(32)\n",
    "\n",
    "for _ in range(num_encs_per_display):\n",
    "    \n",
    "    iv = random_bytes(16) # new IV each time\n",
    "    \n",
    "    cypher_text = AES_CBC_enc(data = message, key = key, iv = iv)\n",
    "    print(cypher_text.hex())"
   ]
  },
  {
   "cell_type": "markdown",
   "id": "fifteen-aluminum",
   "metadata": {},
   "source": [
    "## Losing determinism in CTR"
   ]
  },
  {
   "cell_type": "code",
   "execution_count": 6,
   "id": "twelve-rapid",
   "metadata": {},
   "outputs": [
    {
     "name": "stdout",
     "output_type": "stream",
     "text": [
      "Reusing IV to encrypt the same plaintext multiple times in CTR: \n",
      "\n",
      "d5ea71589ef1852bd1a514e28ec71e10\n",
      "d5ea71589ef1852bd1a514e28ec71e10\n",
      "d5ea71589ef1852bd1a514e28ec71e10\n",
      "d5ea71589ef1852bd1a514e28ec71e10\n",
      "d5ea71589ef1852bd1a514e28ec71e10\n",
      "d5ea71589ef1852bd1a514e28ec71e10\n",
      "d5ea71589ef1852bd1a514e28ec71e10\n",
      "d5ea71589ef1852bd1a514e28ec71e10\n",
      "d5ea71589ef1852bd1a514e28ec71e10\n",
      "d5ea71589ef1852bd1a514e28ec71e10\n",
      "d5ea71589ef1852bd1a514e28ec71e10\n",
      "d5ea71589ef1852bd1a514e28ec71e10\n",
      "d5ea71589ef1852bd1a514e28ec71e10\n",
      "d5ea71589ef1852bd1a514e28ec71e10\n",
      "d5ea71589ef1852bd1a514e28ec71e10\n",
      "d5ea71589ef1852bd1a514e28ec71e10\n"
     ]
    }
   ],
   "source": [
    "message = b\"a 16-byte string\" #16 bytes\n",
    "print(\"Reusing IV to encrypt the same plaintext multiple times in CTR: \\n\")\n",
    "\n",
    "key = random_bytes(32)\n",
    "iv = random_bytes(16)\n",
    "\n",
    "for _ in range(num_encs_per_display):\n",
    "    cypher_text = AES_CTR_enc(data = message, key = key, iv = iv)\n",
    "    print(cypher_text.hex())"
   ]
  },
  {
   "cell_type": "code",
   "execution_count": 7,
   "id": "brown-processing",
   "metadata": {},
   "outputs": [
    {
     "name": "stdout",
     "output_type": "stream",
     "text": [
      "Not reusing IV to encrypt the same plaintext multiple times in CTR: \n",
      "\n",
      "77fa5731984815202fa3d06e58c41a1d\n",
      "1d076ebc8db00c708f8de1acdc3fc77e\n",
      "c44d865b372d9ae926d8041c1258b135\n",
      "7be15b1f3f0a9ca49c921b6f89c1d381\n",
      "48442273a534fd15a531f3cb6aaaf29f\n",
      "8fbf31c87a253ea9f6a7696f1e343113\n",
      "b8ddbbcb9f48ef276ce3e8f796bd261e\n",
      "22d7b96d80d04d8fc09a5f14739f7c94\n",
      "b179932e08192994b9f36407f3c5f6a4\n",
      "7f4c747c121be354601dba390eebd4e4\n",
      "829eb8952070bd54914293f80d7431b8\n",
      "3568160c645c1d22c4a96c3ccb53dbad\n",
      "e147659c370930736685c5683bff95e0\n",
      "c54d64d7fba6b996f911f8235813313e\n",
      "84031ed5fa58aff643afeea579cceb81\n",
      "37983585ae81ace93051ef75812833f1\n"
     ]
    }
   ],
   "source": [
    "message = b\"a 16-byte string\" #16 bytes\n",
    "print(\"Not reusing IV to encrypt the same plaintext multiple times in CTR: \\n\")\n",
    "\n",
    "key = random_bytes(32)\n",
    "\n",
    "for _ in range(num_encs_per_display):\n",
    "    \n",
    "    iv = random_bytes(16) # new IV each time\n",
    "    \n",
    "    cypher_text = AES_CTR_enc(data = message, key = key, iv = iv)\n",
    "    print(cypher_text.hex())"
   ]
  },
  {
   "cell_type": "markdown",
   "id": "organic-observation",
   "metadata": {},
   "source": [
    "## Losing partial determinism in CTR"
   ]
  },
  {
   "cell_type": "code",
   "execution_count": 8,
   "id": "aging-palestinian",
   "metadata": {},
   "outputs": [
    {
     "name": "stdout",
     "output_type": "stream",
     "text": [
      "Reusing IV to encrypt partially same plaintext multiple times in CTR: \n",
      "\n",
      "2ff90d9455e39762d61cce7013e12a2970c0e0764101b64da03cf289fe36d512\n",
      "2ff90d9455e39762d61cce7013e12a2956e6e657252ba399e31cf74fd10db442\n",
      "2ff90d9455e39762d61cce7013e12a296f2a100c6a7604109e677a563f22191a\n",
      "2ff90d9455e39762d61cce7013e12a290d0e8140c195ee8f36ce2b4e5dd8540c\n",
      "2ff90d9455e39762d61cce7013e12a290d78f86883076023c14e411e2e6c690e\n",
      "2ff90d9455e39762d61cce7013e12a29bf9c45da522330b5f66f628dd1723b3d\n",
      "2ff90d9455e39762d61cce7013e12a29e993f83b1e639c2ccb34ebbb9cdabfce\n",
      "2ff90d9455e39762d61cce7013e12a296fbf8469cc734d9b3a47476780b4473b\n",
      "2ff90d9455e39762d61cce7013e12a29c24d1b0a130a7e32fc2f2c05e064ada3\n",
      "2ff90d9455e39762d61cce7013e12a2921aa3c02aad992d9f38f61ee2be04fb0\n",
      "2ff90d9455e39762d61cce7013e12a293309ad1c6ca3a13924e0d1d71a89dccf\n",
      "2ff90d9455e39762d61cce7013e12a294bc5fee7f954c3159c1553ca8778c137\n",
      "2ff90d9455e39762d61cce7013e12a297e578c15ea444df36b820f469dbf09c3\n",
      "2ff90d9455e39762d61cce7013e12a2944b4ec0e7047073a8c65caf5bb3f54b2\n",
      "2ff90d9455e39762d61cce7013e12a291c373776d3e70fea4b7fa7a443fd6023\n",
      "2ff90d9455e39762d61cce7013e12a296d1ca2945c3b5f71e3c8493abcb8981c\n"
     ]
    }
   ],
   "source": [
    "print(\"Reusing IV to encrypt partially same plaintext multiple times in CTR: \\n\")\n",
    "\n",
    "key = random_bytes(32)\n",
    "iv = random_bytes(16)\n",
    "\n",
    "for _ in range(num_encs_per_display):\n",
    "    message = b\"a 16-byte string\" + random_bytes(16)\n",
    "    cypher_text = AES_CTR_enc(data = message, key = key, iv = iv)\n",
    "    print(cypher_text.hex())"
   ]
  },
  {
   "cell_type": "code",
   "execution_count": 9,
   "id": "worldwide-aquatic",
   "metadata": {},
   "outputs": [
    {
     "name": "stdout",
     "output_type": "stream",
     "text": [
      "Reusing IV to encrypt partially same plaintext multiple times in CTR: \n",
      "\n",
      "0457e7bf5a6fa9cf07cb478a07894072490068e6471252c36f238a55c3b105d0\n",
      "e41b3e42312d2b300e43a2397dff0efb490068e6471252c36f238a55c3b105d0\n",
      "0719cb776dd682196db55547ac607666490068e6471252c36f238a55c3b105d0\n",
      "b715c5d6ab17fab0b9d3d97b1a7828c8490068e6471252c36f238a55c3b105d0\n",
      "dd120ae93c9fd36c398f00851a24102d490068e6471252c36f238a55c3b105d0\n",
      "8fe9007901a5d49180d1e4012b7aab73490068e6471252c36f238a55c3b105d0\n",
      "0d58c3aba28d6e581eb9d40cbc3884ba490068e6471252c36f238a55c3b105d0\n",
      "6b7ae1a99e9f80feabba66eb1f8abc51490068e6471252c36f238a55c3b105d0\n",
      "62d0afba97f5c05948e0c3192e97d4b4490068e6471252c36f238a55c3b105d0\n",
      "c34fc13e46537fbfe83eb7bb39e3cd62490068e6471252c36f238a55c3b105d0\n",
      "765e9e6ce4dd90ff59edfcd4b951ee36490068e6471252c36f238a55c3b105d0\n",
      "97381a9f822400ab8aa72002828c2028490068e6471252c36f238a55c3b105d0\n",
      "7d2231c1898c1b2677acfe1f74a2a94f490068e6471252c36f238a55c3b105d0\n",
      "ee3def98e8748c67e7a323014a57943a490068e6471252c36f238a55c3b105d0\n",
      "dabd15432d53cc6c788ee04eb4bbfbd9490068e6471252c36f238a55c3b105d0\n",
      "e70e33b621da026feaf98ee547a20e90490068e6471252c36f238a55c3b105d0\n"
     ]
    }
   ],
   "source": [
    "print(\"Reusing IV to encrypt partially same plaintext multiple times in CTR: \\n\")\n",
    "\n",
    "key = random_bytes(32)\n",
    "iv = random_bytes(16)\n",
    "\n",
    "for _ in range(num_encs_per_display):\n",
    "    message = random_bytes(16) + b\"a 16-byte string\"\n",
    "    cypher_text = AES_CTR_enc(data = message, key = key, iv = iv)\n",
    "    print(cypher_text.hex())"
   ]
  },
  {
   "cell_type": "code",
   "execution_count": null,
   "id": "unnecessary-alexander",
   "metadata": {},
   "outputs": [],
   "source": []
  },
  {
   "cell_type": "code",
   "execution_count": null,
   "id": "306e456e",
   "metadata": {},
   "outputs": [],
   "source": []
  },
  {
   "cell_type": "code",
   "execution_count": null,
   "id": "b1640966",
   "metadata": {},
   "outputs": [],
   "source": []
  }
 ],
 "metadata": {
  "kernelspec": {
   "display_name": "Python 3 (ipykernel)",
   "language": "python",
   "name": "python3"
  },
  "language_info": {
   "codemirror_mode": {
    "name": "ipython",
    "version": 3
   },
   "file_extension": ".py",
   "mimetype": "text/x-python",
   "name": "python",
   "nbconvert_exporter": "python",
   "pygments_lexer": "ipython3",
   "version": "3.9.12"
  }
 },
 "nbformat": 4,
 "nbformat_minor": 5
}
