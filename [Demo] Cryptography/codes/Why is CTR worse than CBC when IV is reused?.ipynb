{
 "cells": [
  {
   "cell_type": "markdown",
   "id": "fewer-notebook",
   "metadata": {},
   "source": [
    "# Why CTR is worse than CBC when IV is reused?\n",
    "\n",
    "***By Jinan Jiang***"
   ]
  },
  {
   "cell_type": "code",
   "execution_count": 3,
   "id": "enabling-harvest",
   "metadata": {},
   "outputs": [],
   "source": [
    "from demo_lib import *"
   ]
  },
  {
   "cell_type": "code",
   "execution_count": 4,
   "id": "civic-rubber",
   "metadata": {},
   "outputs": [],
   "source": [
    "#feel free to change these parameters\n",
    "num_encs_per_display = 16"
   ]
  },
  {
   "cell_type": "markdown",
   "id": "uniform-petite",
   "metadata": {},
   "source": [
    "---"
   ]
  },
  {
   "cell_type": "markdown",
   "id": "underlying-embassy",
   "metadata": {},
   "source": [
    "## Reusing IV in CBC: can tell up to which blocks are identical"
   ]
  },
  {
   "cell_type": "code",
   "execution_count": 5,
   "id": "short-veteran",
   "metadata": {},
   "outputs": [
    {
     "name": "stdout",
     "output_type": "stream",
     "text": [
      "Reusing IV in CTR:\n",
      "First few blocks are identical, which we can tell\n",
      "and later blocks start looking random since we areencrypting random messages in later blocks \n",
      "\n",
      "ee45ec520e4fb031fbe3f57c9999eeaf7f30250eb6af9e11d1921228ac31fd0d\n",
      "ee45ec520e4fb031fbe3f57c9999eeaf07d846cce021aa14b4e47898925b5d6a\n",
      "ee45ec520e4fb031fbe3f57c9999eeaf58f4f2a12756217ad56166b4d551954b\n",
      "ee45ec520e4fb031fbe3f57c9999eeafcabb1fa95bfdd0f6973f0bcce70bb421\n",
      "ee45ec520e4fb031fbe3f57c9999eeaf4d02746d82b16b02edcf96760eefb7c3\n",
      "ee45ec520e4fb031fbe3f57c9999eeafb2d9356910a8d1b467a1b820601baa01\n",
      "ee45ec520e4fb031fbe3f57c9999eeaf24b94e4a4298fe9225949db53e21fc97\n",
      "ee45ec520e4fb031fbe3f57c9999eeaf053ebf3aff35acb1bf3be3aacec81e8b\n",
      "ee45ec520e4fb031fbe3f57c9999eeafb72e57afaba57169b1d097bc11f2e140\n",
      "ee45ec520e4fb031fbe3f57c9999eeaf084f15d72dc3e380c9fd002a436b03d8\n",
      "ee45ec520e4fb031fbe3f57c9999eeaf7d9e4222c0af2146cb199ca59d709c95\n",
      "ee45ec520e4fb031fbe3f57c9999eeaf03ec8506258deab9ec4bce8a16cc2a96\n",
      "ee45ec520e4fb031fbe3f57c9999eeaf0af073b7b93b0451e60c8b99de4693b8\n",
      "ee45ec520e4fb031fbe3f57c9999eeafa325dade604285e72251fe290a541d4a\n",
      "ee45ec520e4fb031fbe3f57c9999eeaf06f159b681bb5d5c8f484f2bded10d3b\n",
      "ee45ec520e4fb031fbe3f57c9999eeaf1c79a842a865fc836d482c3aa959cc5c\n"
     ]
    }
   ],
   "source": [
    "message = b\"a 16-byte string\" #16 bytes\n",
    "print(\"Reusing IV in CTR:\")\n",
    "print(\"First few blocks are identical, which we can tell\")\n",
    "print(\"and later blocks start looking random since we are\" \n",
    "      + \"encrypting random messages in later blocks \\n\")\n",
    "\n",
    "key = random_bytes(32)\n",
    "iv = random_bytes(16)\n",
    "\n",
    "for _ in range(num_encs_per_display):\n",
    "    message = b\"a 16-byte string\" + random_bytes(16)\n",
    "    cypher_text = AES_CBC_enc(data = message, key = key, iv = iv)\n",
    "    print(cypher_text.hex())"
   ]
  },
  {
   "cell_type": "code",
   "execution_count": 6,
   "id": "abstract-activity",
   "metadata": {},
   "outputs": [
    {
     "name": "stdout",
     "output_type": "stream",
     "text": [
      "Reusing IV in CBC:\n",
      "Later half have identical plaintext, but we cannot tell \n",
      "\n",
      "9be4d0ac7f7576628282a37870be95d0c4b4a1645e7bf420b80570243252edcc\n",
      "2b078a9c0c48cc1ef911e10881a913070cb592731320f9bd3925638a295b67aa\n",
      "4c0dcdb315ef84772350b2ff2045e4399d31d2c94847f6bd8e118500f5bee474\n",
      "bca5418548cdaed999413ab0829873031fe54137d047b31ab5ec96872ac972f0\n",
      "502c3b8727b28b12395e92a3ae0d2c82ec8ebe9dcaea296c1e61444bd74e2033\n",
      "d939c5d7cff7cadb20994e9d80e3825e5f91df6ff14563b803d7bc1895978776\n",
      "5bff5da9756fe127c3d58afadf46d819e8ad56b9f353230ef65a85470109f3a8\n",
      "0c17a5b513bd2671a49600e12c7e4833087e63bda22b4ce3d2d409721c9f75bb\n",
      "d2776cb65d9096f9ac00789d716aab6770341b0a7bb25a12f5b0a5273f89d5c2\n",
      "2a50ed57598d90e167710eedca8d3db1bc26ec8f362911feff4ca17365d8324f\n",
      "4d5200dd48c79ab99853bdb58816fc0ac0ad77a95048834ab72ab237bde975b9\n",
      "986b03e513aa698d673438b2b915369373aa830c01af3f66c4ee1ba343683fa8\n",
      "f9626126e5fb7df253c1900486e962682652ca97e72f308de1a25c524c2e9a10\n",
      "c6f940d60f1a510f7cc2cf26d133ddfcfb364bfe8a0cd940a3dcd036956f358a\n",
      "53fe28ad8254ff6d35e7e39a7aaa7c47723a622930bdf70e60f02e584b418def\n",
      "81ecfc7323a7c5f2a8751fe79c394613dc36da69e52eec1680167c9875b39df6\n"
     ]
    }
   ],
   "source": [
    "print(\"Reusing IV in CBC:\")\n",
    "print(\"Later half have identical plaintext, but we cannot tell \\n\")\n",
    "\n",
    "key = random_bytes(32)\n",
    "iv = random_bytes(16)\n",
    "\n",
    "for _ in range(num_encs_per_display):\n",
    "    message = random_bytes(16) + b\"a 16-byte string\"\n",
    "    cypher_text = AES_CBC_enc(data = message, key = key, iv = iv)\n",
    "    print(cypher_text.hex())"
   ]
  },
  {
   "cell_type": "markdown",
   "id": "wanted-virus",
   "metadata": {},
   "source": [
    "---"
   ]
  },
  {
   "cell_type": "markdown",
   "id": "checked-mouse",
   "metadata": {},
   "source": [
    "## Reusing IV in CTR: can tell which blocks are identical (worse)"
   ]
  },
  {
   "cell_type": "code",
   "execution_count": 7,
   "id": "adopted-plastic",
   "metadata": {},
   "outputs": [
    {
     "name": "stdout",
     "output_type": "stream",
     "text": [
      "Reusing IV in CTR:\n",
      "We can tell the first few blocks are identical \n",
      "\n",
      "33f1a7267a523240b0b322b0f1a016c2f0c8f5b11a3e00bd453669d03542abf5\n",
      "33f1a7267a523240b0b322b0f1a016c2fa1e6038ef02f534d0d08b4a01373d80\n",
      "33f1a7267a523240b0b322b0f1a016c24769d6f39fb16432fa6c545fd4e7be37\n",
      "33f1a7267a523240b0b322b0f1a016c2e11cc9c61c6ca58dac3e64dba9c7fe10\n",
      "33f1a7267a523240b0b322b0f1a016c231a081bc2c62d03a3e0ed2c0d58c6b11\n",
      "33f1a7267a523240b0b322b0f1a016c283ade42f8874c0cc3d57831d99d4659a\n",
      "33f1a7267a523240b0b322b0f1a016c2da491bc9d1903e7cfae7d5dd9da3b0ce\n",
      "33f1a7267a523240b0b322b0f1a016c29093b6fcd744a2b93198a58f6aa46db6\n",
      "33f1a7267a523240b0b322b0f1a016c2e37122079bd59204c13213bdda54b009\n",
      "33f1a7267a523240b0b322b0f1a016c29fe278381eeef90690e433d4d22a55b1\n",
      "33f1a7267a523240b0b322b0f1a016c297a17665bcf29dffd0d3d7fbfc5ec59e\n",
      "33f1a7267a523240b0b322b0f1a016c2b4be043aeafc95b7837d47aa246c4c51\n",
      "33f1a7267a523240b0b322b0f1a016c2a87f1ac75ef8d353bc4ec5b037f15abb\n",
      "33f1a7267a523240b0b322b0f1a016c20e7e03abf990fc1537efe7e8294b9fd2\n",
      "33f1a7267a523240b0b322b0f1a016c2ab5a697cc16160cc2d8c24532025793f\n",
      "33f1a7267a523240b0b322b0f1a016c2523bd790e6a65905f592ed9f00cf2d1a\n"
     ]
    }
   ],
   "source": [
    "print(\"Reusing IV in CTR:\")\n",
    "print(\"We can tell the first few blocks are identical \\n\")\n",
    "\n",
    "key = random_bytes(32)\n",
    "iv = random_bytes(16)\n",
    "\n",
    "for _ in range(num_encs_per_display):\n",
    "    message = b\"a 16-byte string\" + random_bytes(16)\n",
    "    cypher_text = AES_CTR_enc(data = message, key = key, iv = iv)\n",
    "    print(cypher_text.hex())"
   ]
  },
  {
   "cell_type": "code",
   "execution_count": 8,
   "id": "hawaiian-consent",
   "metadata": {},
   "outputs": [
    {
     "name": "stdout",
     "output_type": "stream",
     "text": [
      "Reusing IV in CTR:\n",
      "We can tell the last few blocks are identical \n",
      "\n",
      "0ca8791246a0f2a594ac2e98006776f06d0a4d819d8530d3e7a39681b4fba514\n",
      "9c7c64e01d79c8992948affcc329ab746d0a4d819d8530d3e7a39681b4fba514\n",
      "a01ef6362417bd245a88b8602d841c926d0a4d819d8530d3e7a39681b4fba514\n",
      "50fc6f1fbe5a079ec103285ff34e3f986d0a4d819d8530d3e7a39681b4fba514\n",
      "b5b472ec6f19a894283bd2b0959e124f6d0a4d819d8530d3e7a39681b4fba514\n",
      "2016e22423adca62880baa5f690264846d0a4d819d8530d3e7a39681b4fba514\n",
      "2c22b7828d3c300cbbb4fc972f296bed6d0a4d819d8530d3e7a39681b4fba514\n",
      "d5ba038f2b9f8320cefebc36a7c245096d0a4d819d8530d3e7a39681b4fba514\n",
      "cfa04a29c67ee5f9d80839554d42b6f96d0a4d819d8530d3e7a39681b4fba514\n",
      "fdec1421caeec7cf1a57454166f371846d0a4d819d8530d3e7a39681b4fba514\n",
      "0a4135a3ceac13f93e038e33a6eff6276d0a4d819d8530d3e7a39681b4fba514\n",
      "b0421eec4856d1c49cd15924e3e36a586d0a4d819d8530d3e7a39681b4fba514\n",
      "3512c8780c6bdaff9ce84e3d62498e566d0a4d819d8530d3e7a39681b4fba514\n",
      "a678a62c8c8d6f23652ec01b8ab680736d0a4d819d8530d3e7a39681b4fba514\n",
      "624e271c5c7d0aa154f9151522b764c76d0a4d819d8530d3e7a39681b4fba514\n",
      "c364a6b4eae17ba43f97c4de7b8a61336d0a4d819d8530d3e7a39681b4fba514\n"
     ]
    }
   ],
   "source": [
    "print(\"Reusing IV in CTR:\")\n",
    "print(\"We can tell the last few blocks are identical \\n\")\n",
    "\n",
    "key = random_bytes(32)\n",
    "iv = random_bytes(16)\n",
    "\n",
    "for _ in range(num_encs_per_display):\n",
    "    message = random_bytes(16) + b\"a 16-byte string\"\n",
    "    cypher_text = AES_CTR_enc(data = message, key = key, iv = iv)\n",
    "    print(cypher_text.hex())"
   ]
  },
  {
   "cell_type": "markdown",
   "id": "underlying-villa",
   "metadata": {},
   "source": [
    "---"
   ]
  },
  {
   "cell_type": "markdown",
   "id": "subtle-department",
   "metadata": {},
   "source": [
    "## Still, keep in mind to never reuse IV :)"
   ]
  },
  {
   "cell_type": "markdown",
   "id": "beneficial-experiment",
   "metadata": {},
   "source": [
    "---"
   ]
  },
  {
   "cell_type": "code",
   "execution_count": null,
   "id": "established-production",
   "metadata": {},
   "outputs": [],
   "source": []
  }
 ],
 "metadata": {
  "kernelspec": {
   "display_name": "Python 3 (ipykernel)",
   "language": "python",
   "name": "python3"
  },
  "language_info": {
   "codemirror_mode": {
    "name": "ipython",
    "version": 3
   },
   "file_extension": ".py",
   "mimetype": "text/x-python",
   "name": "python",
   "nbconvert_exporter": "python",
   "pygments_lexer": "ipython3",
   "version": "3.9.12"
  }
 },
 "nbformat": 4,
 "nbformat_minor": 5
}
