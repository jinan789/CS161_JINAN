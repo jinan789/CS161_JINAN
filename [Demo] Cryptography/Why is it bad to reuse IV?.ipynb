{
 "cells": [
  {
   "cell_type": "markdown",
   "id": "ordinary-nepal",
   "metadata": {},
   "source": [
    "# Why is it bad to reuse IV?\n",
    "\n",
    "***By Jinan Jiang, jinan@berkeley.edu***"
   ]
  },
  {
   "cell_type": "code",
   "execution_count": 2,
   "id": "positive-sentence",
   "metadata": {},
   "outputs": [],
   "source": [
    "from crypto_demo_lib import *"
   ]
  },
  {
   "cell_type": "code",
   "execution_count": 6,
   "id": "ultimate-trash",
   "metadata": {},
   "outputs": [],
   "source": [
    "#feel free to change these parameters\n",
    "num_encs_per_display = 16"
   ]
  },
  {
   "cell_type": "markdown",
   "id": "coupled-martial",
   "metadata": {},
   "source": [
    "---"
   ]
  },
  {
   "cell_type": "markdown",
   "id": "charming-density",
   "metadata": {},
   "source": [
    "## Losing determinism in CBC"
   ]
  },
  {
   "cell_type": "code",
   "execution_count": 23,
   "id": "stunning-protein",
   "metadata": {},
   "outputs": [
    {
     "name": "stdout",
     "output_type": "stream",
     "text": [
      "Reusing IV to encrypt the same plaintext multiple times in CBC: \n",
      "\n",
      "03d98e280df430602ab4f23ad90b7d25\n",
      "03d98e280df430602ab4f23ad90b7d25\n",
      "03d98e280df430602ab4f23ad90b7d25\n",
      "03d98e280df430602ab4f23ad90b7d25\n",
      "03d98e280df430602ab4f23ad90b7d25\n",
      "03d98e280df430602ab4f23ad90b7d25\n",
      "03d98e280df430602ab4f23ad90b7d25\n",
      "03d98e280df430602ab4f23ad90b7d25\n",
      "03d98e280df430602ab4f23ad90b7d25\n",
      "03d98e280df430602ab4f23ad90b7d25\n",
      "03d98e280df430602ab4f23ad90b7d25\n",
      "03d98e280df430602ab4f23ad90b7d25\n",
      "03d98e280df430602ab4f23ad90b7d25\n",
      "03d98e280df430602ab4f23ad90b7d25\n",
      "03d98e280df430602ab4f23ad90b7d25\n",
      "03d98e280df430602ab4f23ad90b7d25\n"
     ]
    }
   ],
   "source": [
    "message = b\"a 16-byte string\" #16 bytes\n",
    "print(\"Reusing IV to encrypt the same plaintext multiple times in CBC: \\n\")\n",
    "\n",
    "key = random_bytes(32)\n",
    "iv = random_bytes(16)\n",
    "\n",
    "for _ in range(num_encs_per_display):\n",
    "    cypher_text = AES_CBC_enc(data = message, key = key, iv = iv)\n",
    "    print(cypher_text.hex())"
   ]
  },
  {
   "cell_type": "code",
   "execution_count": 24,
   "id": "listed-boutique",
   "metadata": {},
   "outputs": [
    {
     "name": "stdout",
     "output_type": "stream",
     "text": [
      "Not reusing IV to encrypt the same plaintext multiple times in CBC: \n",
      "\n",
      "8788ffc0320fdad53b9dee24bfabfd30\n",
      "9d9936f3363f4fd8c731001424a0f125\n",
      "6874f5d7087dedc19cde3e9b576ffd98\n",
      "ea5f509101082910971f0b796f6b0a6b\n",
      "0354e00b15a3cd5882f9d9390b0ed34b\n",
      "5a58f1d4a77a80569d5060f40066d365\n",
      "45077da1a5e310597a31b941fa96bdc4\n",
      "76432c8313bd199fef927d695a6941f5\n",
      "f3c43241ed404a7b6aac6d18f354b3f8\n",
      "8c07d1898fce3b14514035815df9b8eb\n",
      "17d30187a1d8378a69783bdf1dc469f7\n",
      "576a3f3513706da25071b041164abe30\n",
      "d2712fecd5c7396cb99f66ee78da1424\n",
      "4ac2796f445568db921d79e981debe05\n",
      "37a3bcc33c1d5fce2ca99255a5ff020a\n",
      "a6c3fb95f3142792c8a99f924dee5fa6\n"
     ]
    }
   ],
   "source": [
    "message = b\"a 16-byte string\" #16 bytes\n",
    "print(\"Not reusing IV to encrypt the same plaintext multiple times in CBC: \\n\")\n",
    "\n",
    "key = random_bytes(32)\n",
    "\n",
    "for _ in range(num_encs_per_display):\n",
    "    \n",
    "    iv = random_bytes(16) # new IV each time\n",
    "    \n",
    "    cypher_text = AES_CBC_enc(data = message, key = key, iv = iv)\n",
    "    print(cypher_text.hex())"
   ]
  },
  {
   "cell_type": "markdown",
   "id": "fifteen-aluminum",
   "metadata": {},
   "source": [
    "## Losing determinism in CTR"
   ]
  },
  {
   "cell_type": "code",
   "execution_count": 25,
   "id": "twelve-rapid",
   "metadata": {},
   "outputs": [
    {
     "name": "stdout",
     "output_type": "stream",
     "text": [
      "Reusing IV to encrypt the same plaintext multiple times in CTR: \n",
      "\n",
      "020fbcfb0f98512510e60033d777c279\n",
      "020fbcfb0f98512510e60033d777c279\n",
      "020fbcfb0f98512510e60033d777c279\n",
      "020fbcfb0f98512510e60033d777c279\n",
      "020fbcfb0f98512510e60033d777c279\n",
      "020fbcfb0f98512510e60033d777c279\n",
      "020fbcfb0f98512510e60033d777c279\n",
      "020fbcfb0f98512510e60033d777c279\n",
      "020fbcfb0f98512510e60033d777c279\n",
      "020fbcfb0f98512510e60033d777c279\n",
      "020fbcfb0f98512510e60033d777c279\n",
      "020fbcfb0f98512510e60033d777c279\n",
      "020fbcfb0f98512510e60033d777c279\n",
      "020fbcfb0f98512510e60033d777c279\n",
      "020fbcfb0f98512510e60033d777c279\n",
      "020fbcfb0f98512510e60033d777c279\n"
     ]
    }
   ],
   "source": [
    "message = b\"a 16-byte string\" #16 bytes\n",
    "print(\"Reusing IV to encrypt the same plaintext multiple times in CTR: \\n\")\n",
    "\n",
    "key = random_bytes(32)\n",
    "iv = random_bytes(16)\n",
    "\n",
    "for _ in range(num_encs_per_display):\n",
    "    cypher_text = AES_CTR_enc(data = message, key = key, iv = iv)\n",
    "    print(cypher_text.hex())"
   ]
  },
  {
   "cell_type": "code",
   "execution_count": 26,
   "id": "brown-processing",
   "metadata": {},
   "outputs": [
    {
     "name": "stdout",
     "output_type": "stream",
     "text": [
      "Not reusing IV to encrypt the same plaintext multiple times in CTR: \n",
      "\n",
      "62b98bfcf4d5cdcc8ad8678b29a1dfd3\n",
      "fb97a00ebac0115a10a5ac88790f0ac4\n",
      "6a4d237ed1203d7d0e1ca0cb0f2148f0\n",
      "712314b12547dd8c1c18de88d512ed5a\n",
      "ebe197adc5c4f7694296dacec76d13ff\n",
      "3efb241ac6d37bf71bef6d6b1c63dc93\n",
      "39d6f591ab7f653831e1286da34fbb32\n",
      "e9f1b7e3378b39ad50c162806211b3dc\n",
      "b8ad5a2e8662dd43236f8d7f6d5b393c\n",
      "8f5df7ba6a70dca5bf7362170a19cf51\n",
      "c61898b221ca8576d5e6238e5a3c03a1\n",
      "42f63bd7b1963852f420b8370a4fedaf\n",
      "e3d96680fdf20e69f0f3d7ceb03a51d3\n",
      "7a2f46784435cd110502d36174e5934a\n",
      "af6196b86aafb01ad0a37c205275d039\n",
      "685293a70c6bfadca830868fddcc3734\n"
     ]
    }
   ],
   "source": [
    "message = b\"a 16-byte string\" #16 bytes\n",
    "print(\"Not reusing IV to encrypt the same plaintext multiple times in CTR: \\n\")\n",
    "\n",
    "key = random_bytes(32)\n",
    "\n",
    "for _ in range(num_encs_per_display):\n",
    "    \n",
    "    iv = random_bytes(16) # new IV each time\n",
    "    \n",
    "    cypher_text = AES_CTR_enc(data = message, key = key, iv = iv)\n",
    "    print(cypher_text.hex())"
   ]
  },
  {
   "cell_type": "markdown",
   "id": "organic-observation",
   "metadata": {},
   "source": [
    "## Losing partial determinism in CTR"
   ]
  },
  {
   "cell_type": "code",
   "execution_count": 28,
   "id": "aging-palestinian",
   "metadata": {},
   "outputs": [
    {
     "name": "stdout",
     "output_type": "stream",
     "text": [
      "Reusing IV to encrypt partially same plaintext multiple times in CTR: \n",
      "\n",
      "1d69f1a70e911b8591c851bfd54b96ef1ab5ad970ea2015d5318d93417824279\n",
      "1d69f1a70e911b8591c851bfd54b96ef6eb817c1a2438fd14c3e27da29a9db30\n",
      "1d69f1a70e911b8591c851bfd54b96ef0b20d3dd10d60ae5dce812f6f2a0f386\n",
      "1d69f1a70e911b8591c851bfd54b96ef811b1d376c2d7597f4e312803c25f090\n",
      "1d69f1a70e911b8591c851bfd54b96efc000d9dabe79483588a1f3a2df87a646\n",
      "1d69f1a70e911b8591c851bfd54b96ef58c761d5f290a04e661a204d0fdf62f0\n",
      "1d69f1a70e911b8591c851bfd54b96efc9aa3ae5df6a21363c8872aa4d4a9ade\n",
      "1d69f1a70e911b8591c851bfd54b96efcfc95e14fba2cf729839b1d9c4ecd26b\n",
      "1d69f1a70e911b8591c851bfd54b96ef7f197ebc2b6549f1da5f37d32bb5793b\n",
      "1d69f1a70e911b8591c851bfd54b96effb4fa2c8f37f78b3ef53f1bb28cb606e\n",
      "1d69f1a70e911b8591c851bfd54b96ef41ba2d447ed571de63e7d92045308c5e\n",
      "1d69f1a70e911b8591c851bfd54b96efd11d776fcd950c70f31167adf443d4c5\n",
      "1d69f1a70e911b8591c851bfd54b96ef6f1fe559b1dfa97c3b99e39675973689\n",
      "1d69f1a70e911b8591c851bfd54b96ef996506770f1d0344ae213ebe49c1187b\n",
      "1d69f1a70e911b8591c851bfd54b96efa5383eeb311c02cbe27e9ba1489f1a1f\n",
      "1d69f1a70e911b8591c851bfd54b96ef62cfda7604fea6fd0d9d85e99e45087e\n"
     ]
    }
   ],
   "source": [
    "print(\"Reusing IV to encrypt partially same plaintext multiple times in CTR: \\n\")\n",
    "\n",
    "key = random_bytes(32)\n",
    "iv = random_bytes(16)\n",
    "\n",
    "for _ in range(num_encs_per_display):\n",
    "    message = b\"a 16-byte string\" + random_bytes(16)\n",
    "    cypher_text = AES_CTR_enc(data = message, key = key, iv = iv)\n",
    "    print(cypher_text.hex())"
   ]
  },
  {
   "cell_type": "code",
   "execution_count": 29,
   "id": "worldwide-aquatic",
   "metadata": {},
   "outputs": [
    {
     "name": "stdout",
     "output_type": "stream",
     "text": [
      "Reusing IV to encrypt partially same plaintext multiple times in CTR: \n",
      "\n",
      "3b4deab774bef677c31c298ca63e0fa73d95fcc23188f6e0af1bd6141f31c08d\n",
      "c4d65b39e16db034a0f3a50d42d04e343d95fcc23188f6e0af1bd6141f31c08d\n",
      "732212046f4736388c2ccbe9042fa7503d95fcc23188f6e0af1bd6141f31c08d\n",
      "39407c922123ed66b6047869a67bacf23d95fcc23188f6e0af1bd6141f31c08d\n",
      "f423968bee02f0d0e3b39988412c409b3d95fcc23188f6e0af1bd6141f31c08d\n",
      "5c7e5c3512e3fbd288c78947fb5c67063d95fcc23188f6e0af1bd6141f31c08d\n",
      "7ca18722992bdabbfacc41b8f09bd94a3d95fcc23188f6e0af1bd6141f31c08d\n",
      "02b8ed7faabfe38223374392007772cf3d95fcc23188f6e0af1bd6141f31c08d\n",
      "d455b914eb67dba831acb641930273433d95fcc23188f6e0af1bd6141f31c08d\n",
      "09163c26af4fe2e44adf3f44f2ad3c343d95fcc23188f6e0af1bd6141f31c08d\n",
      "c9e6472ca83b99b748f7bcd1be8f24e83d95fcc23188f6e0af1bd6141f31c08d\n",
      "94d3ca822809dd9a9605d0aaa03bf31f3d95fcc23188f6e0af1bd6141f31c08d\n",
      "146ca5623472d45484221a9aa9558c3e3d95fcc23188f6e0af1bd6141f31c08d\n",
      "542ef175be8a7fbb5acb99a1f5023f853d95fcc23188f6e0af1bd6141f31c08d\n",
      "3c0eff63e54d7beba1a120e2ea99333b3d95fcc23188f6e0af1bd6141f31c08d\n",
      "7f449b984c0390070a585a585b1b40823d95fcc23188f6e0af1bd6141f31c08d\n"
     ]
    }
   ],
   "source": [
    "print(\"Reusing IV to encrypt partially same plaintext multiple times in CTR: \\n\")\n",
    "\n",
    "key = random_bytes(32)\n",
    "iv = random_bytes(16)\n",
    "\n",
    "for _ in range(num_encs_per_display):\n",
    "    message = random_bytes(16) + b\"a 16-byte string\"\n",
    "    cypher_text = AES_CTR_enc(data = message, key = key, iv = iv)\n",
    "    print(cypher_text.hex())"
   ]
  },
  {
   "cell_type": "code",
   "execution_count": null,
   "id": "unnecessary-alexander",
   "metadata": {},
   "outputs": [],
   "source": []
  }
 ],
 "metadata": {
  "kernelspec": {
   "display_name": "Python 3",
   "language": "python",
   "name": "python3"
  },
  "language_info": {
   "codemirror_mode": {
    "name": "ipython",
    "version": 3
   },
   "file_extension": ".py",
   "mimetype": "text/x-python",
   "name": "python",
   "nbconvert_exporter": "python",
   "pygments_lexer": "ipython3",
   "version": "3.8.3"
  }
 },
 "nbformat": 4,
 "nbformat_minor": 5
}
