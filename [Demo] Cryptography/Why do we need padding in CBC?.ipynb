{
 "cells": [
  {
   "cell_type": "markdown",
   "id": "knowing-argument",
   "metadata": {},
   "source": [
    "# Why do we need padding in CBC?\n",
    "\n",
    "***By Jinan Jiang, jinan@berkeley.edu***\n",
    "\n",
    "The following demonstrates that CBC message length must be a multiple of block length, while CFB modes does not have such restriction.\n",
    "\n",
    "As you can see, CBC only works with messages with length of multiple of the block cipher, while CFB is okay either way.  \n",
    "\n",
    "The same reasoning applies to other modes of operation that we learned in the class."
   ]
  },
  {
   "cell_type": "code",
   "execution_count": 1,
   "id": "floppy-tattoo",
   "metadata": {},
   "outputs": [],
   "source": [
    "from crypto_demo_lib import *"
   ]
  },
  {
   "cell_type": "code",
   "execution_count": 2,
   "id": "specialized-natural",
   "metadata": {},
   "outputs": [],
   "source": [
    "#feel free to change these parameters\n",
    "num_encs_per_display = 64"
   ]
  },
  {
   "cell_type": "markdown",
   "id": "convenient-pacific",
   "metadata": {},
   "source": [
    "## First let's look at CBC"
   ]
  },
  {
   "cell_type": "code",
   "execution_count": null,
   "id": "rental-shade",
   "metadata": {},
   "outputs": [],
   "source": []
  },
  {
   "cell_type": "code",
   "execution_count": 9,
   "id": "racial-handling",
   "metadata": {},
   "outputs": [
    {
     "name": "stdout",
     "output_type": "stream",
     "text": [
      "CBC can encrypt plaintexts of length: [16, 32, 48, 64]\n",
      "\n",
      "CBC CANNOT encrypt plaintexts of length [17, 18, 19, 20, 21, 22, 23, 24, 25, 26, 27, 28, 29, 30, 31, 33, 34, 35, 36, 37, 38, 39, 40, 41, 42, 43, 44, 45, 46, 47, 49, 50, 51, 52, 53, 54, 55, 56, 57, 58, 59, 60, 61, 62, 63, 65, 66, 67, 68, 69, 70, 71, 72, 73, 74, 75, 76, 77, 78, 79]\n"
     ]
    }
   ],
   "source": [
    "message = b\"a 16-byte string\" #16 bytes\n",
    "enctyptable = []\n",
    "not_enctyptable = []\n",
    "\n",
    "for _ in range(num_encs_per_display): #different message length in each iteration\n",
    "    try:\n",
    "        AES_CBC_enc(data = message, key = random_bytes(32)) #AES-CBC encryption\n",
    "        enctyptable.append(len(message))\n",
    "    except:\n",
    "        not_enctyptable.append(len(message)) #If AES-CBC errored, the message cannot be encrypted\n",
    "        \n",
    "    message += b'1' #add 1 byte to the message at each iteration\n",
    "    \n",
    "print(\"CBC can encrypt plaintexts of length: \" + str(enctyptable) + '\\n')\n",
    "print(\"CBC CANNOT encrypt plaintexts of length \" + str(not_enctyptable))"
   ]
  },
  {
   "cell_type": "markdown",
   "id": "specified-invite",
   "metadata": {},
   "source": [
    "## What about CFB?"
   ]
  },
  {
   "cell_type": "code",
   "execution_count": 10,
   "id": "simplified-sponsorship",
   "metadata": {},
   "outputs": [
    {
     "name": "stdout",
     "output_type": "stream",
     "text": [
      "CFB can encrypt plaintexts of length: [16, 17, 18, 19, 20, 21, 22, 23, 24, 25, 26, 27, 28, 29, 30, 31, 32, 33, 34, 35, 36, 37, 38, 39, 40, 41, 42, 43, 44, 45, 46, 47, 48, 49, 50, 51, 52, 53, 54, 55, 56, 57, 58, 59, 60, 61, 62, 63, 64, 65, 66, 67, 68, 69, 70, 71, 72, 73, 74, 75, 76, 77, 78, 79]\n",
      "\n",
      "CFB CANNOT encrypt plaintexts of length []\n"
     ]
    }
   ],
   "source": [
    "message = b\"a 16-byte string\" #16 bytes\n",
    "enctyptable = []\n",
    "not_enctyptable = []\n",
    "\n",
    "for _ in range(num_encs_per_display):\n",
    "    try:\n",
    "        AES_CFB_enc(data = message, key = random_bytes(32)) #AES-CFB encryption\n",
    "        enctyptable.append(len(message))\n",
    "    except:\n",
    "        not_enctyptable.append(len(message)) #If error, the message cannot be encrypted\n",
    "        \n",
    "    message += b'1' #add 1 byte to the message at each iteration\n",
    "    \n",
    "print(\"CFB can encrypt plaintexts of length: \" + str(enctyptable) + '\\n')\n",
    "print(\"CFB CANNOT encrypt plaintexts of length \" + str(not_enctyptable))"
   ]
  },
  {
   "cell_type": "markdown",
   "id": "cutting-scenario",
   "metadata": {},
   "source": [
    "---"
   ]
  },
  {
   "cell_type": "markdown",
   "id": "jewish-valley",
   "metadata": {},
   "source": [
    "## Why is this the case?\n",
    "\n",
    "***In a more fundamental level, you can see that plaintexts in the CBC mode must pass through an AES block cipher, which means any input must be a multiple of the size of a block.***\n",
    "\n",
    "![image info](./images/CBC_encryption.png)"
   ]
  },
  {
   "cell_type": "markdown",
   "id": "identified-peninsula",
   "metadata": {},
   "source": [
    "***While for CFB modes, the plaintext is XOR'ed with the output of AES block cipher, which is kind of like an \"one time pad\". This means we can use as many bits that are output from the block cipher as we need to XOR the plaintext, and discard the rest.***\n",
    "\n",
    "![image info](./images/CFB_encryption.png)"
   ]
  },
  {
   "cell_type": "markdown",
   "id": "strange-concert",
   "metadata": {},
   "source": [
    "---"
   ]
  },
  {
   "cell_type": "markdown",
   "id": "expressed-phone",
   "metadata": {},
   "source": [
    "## Now let's try padding plaintexts in CBC"
   ]
  },
  {
   "cell_type": "code",
   "execution_count": 11,
   "id": "sonic-skiing",
   "metadata": {},
   "outputs": [
    {
     "name": "stdout",
     "output_type": "stream",
     "text": [
      "With padding, CBC can encrypt plaintexts of length: [16, 17, 18, 19, 20, 21, 22, 23, 24, 25, 26, 27, 28, 29, 30, 31, 32, 33, 34, 35, 36, 37, 38, 39, 40, 41, 42, 43, 44, 45, 46, 47, 48, 49, 50, 51, 52, 53, 54, 55, 56, 57, 58, 59, 60, 61, 62, 63, 64, 65, 66, 67, 68, 69, 70, 71, 72, 73, 74, 75, 76, 77, 78, 79]\n",
      "\n",
      "With padding, CBC CANNOT encrypt plaintexts of length []\n"
     ]
    }
   ],
   "source": [
    "message = b\"a 16-byte string\" #16 bytes\n",
    "enctyptable = []\n",
    "not_enctyptable = []\n",
    "\n",
    "for _ in range(num_encs_per_display): #different message length in each iteration\n",
    "    try:\n",
    "        padded_message = add_padding(message)\n",
    "        AES_CBC_enc(data = padded_message, key = random_bytes(32)) #AES-CBC encryption\n",
    "        enctyptable.append(len(message))\n",
    "    except:\n",
    "        not_enctyptable.append(len(message)) #If AES-CBC errored, the message cannot be encrypted\n",
    "        \n",
    "    message += b'1' #add 1 byte to the message at each iteration\n",
    "    \n",
    "print(\"With padding, CBC can encrypt plaintexts of length: \" + str(enctyptable) + '\\n')\n",
    "print(\"With padding, CBC CANNOT encrypt plaintexts of length \" + str(not_enctyptable))"
   ]
  },
  {
   "cell_type": "markdown",
   "id": "sophisticated-south",
   "metadata": {},
   "source": [
    "***With padding, CBC no longer has the restraint on plaintext length. It can encrypt messages of arbitraly length!***\n",
    "\n",
    "***Feel free to call the functions AES_CBC_dec and remove_padding to verify that this scheme indeed works***"
   ]
  },
  {
   "cell_type": "markdown",
   "id": "described-description",
   "metadata": {},
   "source": [
    "---"
   ]
  },
  {
   "cell_type": "code",
   "execution_count": null,
   "id": "advisory-discrimination",
   "metadata": {},
   "outputs": [],
   "source": []
  }
 ],
 "metadata": {
  "kernelspec": {
   "display_name": "Python 3",
   "language": "python",
   "name": "python3"
  },
  "language_info": {
   "codemirror_mode": {
    "name": "ipython",
    "version": 3
   },
   "file_extension": ".py",
   "mimetype": "text/x-python",
   "name": "python",
   "nbconvert_exporter": "python",
   "pygments_lexer": "ipython3",
   "version": "3.8.3"
  }
 },
 "nbformat": 4,
 "nbformat_minor": 5
}
