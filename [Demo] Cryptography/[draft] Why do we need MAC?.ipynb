{
 "cells": [
  {
   "cell_type": "code",
   "execution_count": 1,
   "id": "waiting-technician",
   "metadata": {},
   "outputs": [
    {
     "ename": "SyntaxError",
     "evalue": "invalid syntax (<ipython-input-1-d8853f62866a>, line 1)",
     "output_type": "error",
     "traceback": [
      "\u001b[0;36m  File \u001b[0;32m\"<ipython-input-1-d8853f62866a>\"\u001b[0;36m, line \u001b[0;32m1\u001b[0m\n\u001b[0;31m    you might argue that if someone changed the message, if you send a password, people can change it, without you noticing.\u001b[0m\n\u001b[0m        ^\u001b[0m\n\u001b[0;31mSyntaxError\u001b[0m\u001b[0;31m:\u001b[0m invalid syntax\n"
     ]
    }
   ],
   "source": [
    "you might argue that if someone changed the message, if you send a password, people can change it, without you noticing.\n",
    "\n",
    "in the cases where one particular block is money amount: Jinan is happy. Bob is sad."
   ]
  },
  {
   "cell_type": "code",
   "execution_count": 3,
   "id": "divided-marathon",
   "metadata": {},
   "outputs": [],
   "source": [
    "from crypto_demo_lib import *"
   ]
  },
  {
   "cell_type": "markdown",
   "id": "processed-bedroom",
   "metadata": {},
   "source": [
    "For example, if you want to share an IV with someone else:\n",
    "\n",
    "(this has the consequence of making someone else fail to get the correct IV without knowing it, thus getting confusing message.)"
   ]
  },
  {
   "cell_type": "code",
   "execution_count": 10,
   "id": "simple-sussex",
   "metadata": {},
   "outputs": [
    {
     "name": "stdout",
     "output_type": "stream",
     "text": [
      "IV to be shared is: b126ab9f0b9d55d63938cf6036980c97f5e149249522dfb94d18386c7442bf48\n",
      "Cipher text is: 901fe4436656ac3fc5a54f6901d9306e09c38c3b62f1157548638c1d023964ab\n"
     ]
    }
   ],
   "source": [
    "iv_to_be_shared = random_bytes(32)\n",
    "sym_key = random_bytes(32)\n",
    "\n",
    "cipher_text = AES_CBC_enc(iv_to_be_shared, sym_key)\n",
    "print(\"IV to be shared is: \" + str(iv_to_be_shared.hex()))\n",
    "print(\"Cipher text is: \" + str(cipher_text.hex()))"
   ]
  },
  {
   "cell_type": "code",
   "execution_count": null,
   "id": "worth-commodity",
   "metadata": {},
   "outputs": [],
   "source": [
    "Then let's change one byte to the attacker's choice:"
   ]
  }
 ],
 "metadata": {
  "kernelspec": {
   "display_name": "Python 3",
   "language": "python",
   "name": "python3"
  },
  "language_info": {
   "codemirror_mode": {
    "name": "ipython",
    "version": 3
   },
   "file_extension": ".py",
   "mimetype": "text/x-python",
   "name": "python",
   "nbconvert_exporter": "python",
   "pygments_lexer": "ipython3",
   "version": "3.8.3"
  }
 },
 "nbformat": 4,
 "nbformat_minor": 5
}
