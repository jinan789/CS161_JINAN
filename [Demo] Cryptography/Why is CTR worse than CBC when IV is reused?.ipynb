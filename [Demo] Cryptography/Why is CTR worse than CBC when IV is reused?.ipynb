{
 "cells": [
  {
   "cell_type": "markdown",
   "id": "fewer-notebook",
   "metadata": {},
   "source": [
    "# Why CTR is worse than CBC when IV is reused?\n",
    "\n",
    "***By Jinan Jiang, contact jinan@berkeley.edu for corrections***"
   ]
  },
  {
   "cell_type": "code",
   "execution_count": 2,
   "id": "enabling-harvest",
   "metadata": {},
   "outputs": [],
   "source": [
    "from crypto_demo_lib import *"
   ]
  },
  {
   "cell_type": "code",
   "execution_count": 3,
   "id": "civic-rubber",
   "metadata": {},
   "outputs": [],
   "source": [
    "#feel free to change these parameters\n",
    "num_encs_per_display = 16"
   ]
  },
  {
   "cell_type": "markdown",
   "id": "uniform-petite",
   "metadata": {},
   "source": [
    "---"
   ]
  },
  {
   "cell_type": "markdown",
   "id": "underlying-embassy",
   "metadata": {},
   "source": [
    "## Reusing IV in CBC: can tell up to which blocks are identical"
   ]
  },
  {
   "cell_type": "code",
   "execution_count": 13,
   "id": "short-veteran",
   "metadata": {},
   "outputs": [
    {
     "name": "stdout",
     "output_type": "stream",
     "text": [
      "Reusing IV in CTR:\n",
      "First few blocks are identical, which we can tell\n",
      "and later blocks start looking random since we areencrypting random messages in later blocks \n",
      "\n",
      "ff1e4a4b4f53df713cc7e5fcce31d3c707a096c6a83a78b02b34bbfc2763b623\n",
      "ff1e4a4b4f53df713cc7e5fcce31d3c7f36d6f18ed80dbe2dc7f07ea87b0d8a4\n",
      "ff1e4a4b4f53df713cc7e5fcce31d3c7522a55209ea94754999950ee614241b6\n",
      "ff1e4a4b4f53df713cc7e5fcce31d3c7ec7e200657a0a9c7c0e058f78cb4e23a\n",
      "ff1e4a4b4f53df713cc7e5fcce31d3c7e6b3df3b3bba958ef130285bad653587\n",
      "ff1e4a4b4f53df713cc7e5fcce31d3c73a9216fd8dedf59b27691d456c5017c4\n",
      "ff1e4a4b4f53df713cc7e5fcce31d3c796df994d9e88540ec3fd58587908e2b1\n",
      "ff1e4a4b4f53df713cc7e5fcce31d3c7f6a6524fb6feb5397c1b98a2b9415cd0\n",
      "ff1e4a4b4f53df713cc7e5fcce31d3c728ea6024c0d675ada80245aea05b405b\n",
      "ff1e4a4b4f53df713cc7e5fcce31d3c7b2f0ee0e6c9bb7b65bea483cb4ee7172\n",
      "ff1e4a4b4f53df713cc7e5fcce31d3c7eb909663b8402b14559be1b0bf02f445\n",
      "ff1e4a4b4f53df713cc7e5fcce31d3c743c208ab8a193b77a89948f11785d02e\n",
      "ff1e4a4b4f53df713cc7e5fcce31d3c7d918d2f020f8b6406eea9fa0ef6efbc3\n",
      "ff1e4a4b4f53df713cc7e5fcce31d3c71090697cf7cf899483257b738342c3ee\n",
      "ff1e4a4b4f53df713cc7e5fcce31d3c7baea18f23169cfae3c1d7f6eb8c8d8fb\n",
      "ff1e4a4b4f53df713cc7e5fcce31d3c7a3c84d744dd8a5fe214b94d14963e7d4\n"
     ]
    }
   ],
   "source": [
    "message = b\"a 16-byte string\" #16 bytes\n",
    "print(\"Reusing IV in CTR:\")\n",
    "print(\"First few blocks are identical, which we can tell\")\n",
    "print(\"and later blocks start looking random since we are\" \n",
    "      + \"encrypting random messages in later blocks \\n\")\n",
    "\n",
    "key = random_bytes(32)\n",
    "iv = random_bytes(16)\n",
    "\n",
    "for _ in range(num_encs_per_display):\n",
    "    message = b\"a 16-byte string\" + random_bytes(16)\n",
    "    cypher_text = AES_CBC_enc(data = message, key = key, iv = iv)\n",
    "    print(cypher_text.hex())"
   ]
  },
  {
   "cell_type": "code",
   "execution_count": 14,
   "id": "abstract-activity",
   "metadata": {},
   "outputs": [
    {
     "name": "stdout",
     "output_type": "stream",
     "text": [
      "Reusing IV in CBC:\n",
      "Later half have identical plaintext, but we cannot tell \n",
      "\n",
      "e3ddda71105ab1093e55ba361c78f51629f324c757c7c74bd62814534ceb3820\n",
      "0d40272b5503bf6928e00a3a4f81a42b0cb7d247a533dff760f4537eb3f7a35c\n",
      "f011a8e30b969f435bf0b60d1021eace7921c5336b91c9d33deca835e4688677\n",
      "8bb66b0b2338fd8431831271b6d33d94ff5e51780ab2dcf542d91477dd8704f3\n",
      "ad1cac6c73659be0fa68b3a76c3412986726ce28c99f2de9e2df8be42025447b\n",
      "7b54b4fc876cb896dcc26d9896ecd6447ac209b0ceb648317b90431a594674fc\n",
      "38d45dcec35ef78ddc37f8580a1c99fd57ed57813c6ccc263f5131c508cfc08f\n",
      "a7dbc7b4b431ee38fef54bbce22c5937f8f665b4a81fa60468e9f1786ecf0d28\n",
      "2ae307f607815b23fdc445fdfb04d0723514ded5f9665d24418109031cfc2db0\n",
      "2137b2ce94d2659e5eb614a4d5bd19ee5c435d84e5c64c6a97af6261ac77a769\n",
      "c56534170ed00ccf802fdb74bac00f4da7ffabe3394f1dfa49e4dcb4c3e3edb9\n",
      "98812fb89c9fd35d02d58e44f2a84ad38f64385be535a76a383f8b3afe180b52\n",
      "0a30334b6814042a591523c7995f1a7880b4df5c17d4ed079a71c70f18e94b7b\n",
      "fc6806abeabf645d7406930a764729b4a00f915ffa456c1cca38608e55db0cbb\n",
      "c47d1dd4fbff2c6ae773500b4ce374435ed40a263a22ae93bb0694befbda8237\n",
      "704dc7becf8a793b04691dcd76d0e41338df1ec2183239e3be1fa3d18f8888e9\n"
     ]
    }
   ],
   "source": [
    "print(\"Reusing IV in CBC:\")\n",
    "print(\"Later half have identical plaintext, but we cannot tell \\n\")\n",
    "\n",
    "key = random_bytes(32)\n",
    "iv = random_bytes(16)\n",
    "\n",
    "for _ in range(num_encs_per_display):\n",
    "    message = random_bytes(16) + b\"a 16-byte string\"\n",
    "    cypher_text = AES_CBC_enc(data = message, key = key, iv = iv)\n",
    "    print(cypher_text.hex())"
   ]
  },
  {
   "cell_type": "markdown",
   "id": "wanted-virus",
   "metadata": {},
   "source": [
    "---"
   ]
  },
  {
   "cell_type": "markdown",
   "id": "checked-mouse",
   "metadata": {},
   "source": [
    "## Reusing IV in CTR: can tell which blocks are identical (worse)"
   ]
  },
  {
   "cell_type": "code",
   "execution_count": 17,
   "id": "adopted-plastic",
   "metadata": {},
   "outputs": [
    {
     "name": "stdout",
     "output_type": "stream",
     "text": [
      "Reusing IV in CTR:\n",
      "We can tell the first few blocks are identical \n",
      "\n",
      "657697823f98c38ecc15ec144fdbe54b6e11d82a71ddcff08c1ea2376ba116cb\n",
      "657697823f98c38ecc15ec144fdbe54bffb461954f1c20c830da2abc119ca90f\n",
      "657697823f98c38ecc15ec144fdbe54badc842765ddea53c2a052f9731f7dd42\n",
      "657697823f98c38ecc15ec144fdbe54bccdf3274da80b1cf0e57107620f185e1\n",
      "657697823f98c38ecc15ec144fdbe54b2a1e8a3fdb0f9a23c3a311f87fd85d07\n",
      "657697823f98c38ecc15ec144fdbe54bc15d3c72c9b96a55b096ab5c0bbd18a0\n",
      "657697823f98c38ecc15ec144fdbe54b8de8ab5ea0c4ebe44f88b9c484d97213\n",
      "657697823f98c38ecc15ec144fdbe54bb0d7518a4cab46d5bd948f6d12e67d5d\n",
      "657697823f98c38ecc15ec144fdbe54b3eefd81c11bcf5920ab4f2a93af3365a\n",
      "657697823f98c38ecc15ec144fdbe54b9f878b9fd291b56df2dcc46db4558f52\n",
      "657697823f98c38ecc15ec144fdbe54b48cbf77447ac19befe189493ffd70355\n",
      "657697823f98c38ecc15ec144fdbe54bcb24cf9581b13800a04ff516dcad9d73\n",
      "657697823f98c38ecc15ec144fdbe54b40b3dc8e004a0d9caf7f1b385e5fcb2a\n",
      "657697823f98c38ecc15ec144fdbe54b773bd01b95c763faf13fc5ceaeab5df6\n",
      "657697823f98c38ecc15ec144fdbe54b7f635781e1a530c0d962feef2ac8ddb5\n",
      "657697823f98c38ecc15ec144fdbe54beba98edf16ecafaf7d05ef3974ddf14b\n"
     ]
    }
   ],
   "source": [
    "print(\"Reusing IV in CTR:\")\n",
    "print(\"We can tell the first few blocks are identical \\n\")\n",
    "\n",
    "key = random_bytes(32)\n",
    "iv = random_bytes(16)\n",
    "\n",
    "for _ in range(num_encs_per_display):\n",
    "    message = b\"a 16-byte string\" + random_bytes(16)\n",
    "    cypher_text = AES_CTR_enc(data = message, key = key, iv = iv)\n",
    "    print(cypher_text.hex())"
   ]
  },
  {
   "cell_type": "code",
   "execution_count": 16,
   "id": "hawaiian-consent",
   "metadata": {},
   "outputs": [
    {
     "name": "stdout",
     "output_type": "stream",
     "text": [
      "Reusing IV in CTR:\n",
      "We can tell the last few blocks are identical \n",
      "\n",
      "1b4c49f9e7adfd786ae37529fd201fbb5388a9fe75d573ae15d40f0d2f6327ee\n",
      "d27d5e40118ac2c75e1bd4d0034ce7ed5388a9fe75d573ae15d40f0d2f6327ee\n",
      "8cd06a3d2fdd70487bcdf88bd033e6795388a9fe75d573ae15d40f0d2f6327ee\n",
      "6763d1aeff76f32fb2c04b1f238a6eac5388a9fe75d573ae15d40f0d2f6327ee\n",
      "596c30198b4a4499e3e0e61da701cc885388a9fe75d573ae15d40f0d2f6327ee\n",
      "388faaff1722fe091fbe12d051838c3f5388a9fe75d573ae15d40f0d2f6327ee\n",
      "5920034852c6f15b60c264e5cd5ff9155388a9fe75d573ae15d40f0d2f6327ee\n",
      "61763ef8dca99eea0dfc344da92e738e5388a9fe75d573ae15d40f0d2f6327ee\n",
      "30f2d4bef6b361c87898a7afcbd51dc95388a9fe75d573ae15d40f0d2f6327ee\n",
      "7cd5812e1dfaa89a3cb4ee176d00adf65388a9fe75d573ae15d40f0d2f6327ee\n",
      "2b5a51e31ea9a8e7dcb9b8cae890d6515388a9fe75d573ae15d40f0d2f6327ee\n",
      "a06badee85e11a6d39198ed2c1a66b6c5388a9fe75d573ae15d40f0d2f6327ee\n",
      "711dd23adaa9a9c3cca0a09d0a1ef1d05388a9fe75d573ae15d40f0d2f6327ee\n",
      "7e7713c113810d4f2c101a742f98b6305388a9fe75d573ae15d40f0d2f6327ee\n",
      "8ed99e8377b889d696ada27d5b96ad9c5388a9fe75d573ae15d40f0d2f6327ee\n",
      "ae03448734364fb4f9f3239ccb63955e5388a9fe75d573ae15d40f0d2f6327ee\n"
     ]
    }
   ],
   "source": [
    "print(\"Reusing IV in CTR:\")\n",
    "print(\"We can tell the last few blocks are identical \\n\")\n",
    "\n",
    "key = random_bytes(32)\n",
    "iv = random_bytes(16)\n",
    "\n",
    "for _ in range(num_encs_per_display):\n",
    "    message = random_bytes(16) + b\"a 16-byte string\"\n",
    "    cypher_text = AES_CTR_enc(data = message, key = key, iv = iv)\n",
    "    print(cypher_text.hex())"
   ]
  },
  {
   "cell_type": "markdown",
   "id": "underlying-villa",
   "metadata": {},
   "source": [
    "---"
   ]
  },
  {
   "cell_type": "markdown",
   "id": "subtle-department",
   "metadata": {},
   "source": [
    "## Still, keep in mind to never reuse IV :)"
   ]
  },
  {
   "cell_type": "markdown",
   "id": "beneficial-experiment",
   "metadata": {},
   "source": [
    "---"
   ]
  },
  {
   "cell_type": "code",
   "execution_count": null,
   "id": "established-production",
   "metadata": {},
   "outputs": [],
   "source": []
  }
 ],
 "metadata": {
  "kernelspec": {
   "display_name": "Python 3",
   "language": "python",
   "name": "python3"
  },
  "language_info": {
   "codemirror_mode": {
    "name": "ipython",
    "version": 3
   },
   "file_extension": ".py",
   "mimetype": "text/x-python",
   "name": "python",
   "nbconvert_exporter": "python",
   "pygments_lexer": "ipython3",
   "version": "3.8.3"
  }
 },
 "nbformat": 4,
 "nbformat_minor": 5
}
