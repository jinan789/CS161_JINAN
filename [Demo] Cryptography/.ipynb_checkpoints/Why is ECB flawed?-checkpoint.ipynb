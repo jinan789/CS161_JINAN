{
 "cells": [
  {
   "cell_type": "markdown",
   "id": "pharmaceutical-dominican",
   "metadata": {},
   "source": [
    "# Why is ECB flawed?\n",
    "\n",
    "***By Jinan Jiang, contact jinan@berkeley.edu for corrections***"
   ]
  },
  {
   "cell_type": "code",
   "execution_count": 1,
   "id": "african-album",
   "metadata": {},
   "outputs": [],
   "source": [
    "from crypto_demo_lib import *"
   ]
  },
  {
   "cell_type": "code",
   "execution_count": 28,
   "id": "lasting-rover",
   "metadata": {},
   "outputs": [],
   "source": [
    "#feel free to change these parameters\n",
    "num_encs_per_display = 8"
   ]
  },
  {
   "cell_type": "markdown",
   "id": "bottom-packaging",
   "metadata": {},
   "source": [
    "---"
   ]
  },
  {
   "cell_type": "markdown",
   "id": "historical-matter",
   "metadata": {},
   "source": [
    "## ECB is deterministic\n",
    "\n",
    "Without using IV to incorporate extra randomness in each encryption, ECB mode will output the same cipher text whenever you encrypt the same plaintext.  \n",
    "\n",
    "Let's explore how this means we can lose IND-CPA when using ECB\n",
    "![image info](./images/ECB_encryption.png)"
   ]
  },
  {
   "cell_type": "code",
   "execution_count": 29,
   "id": "growing-teaching",
   "metadata": {},
   "outputs": [
    {
     "name": "stdout",
     "output_type": "stream",
     "text": [
      "encrypting the same message with the same key in ECB multiple times yield the same cipher text: \n",
      "\n",
      "4029150c578b7203117e978fbfa50806\n",
      "4029150c578b7203117e978fbfa50806\n",
      "4029150c578b7203117e978fbfa50806\n",
      "4029150c578b7203117e978fbfa50806\n",
      "4029150c578b7203117e978fbfa50806\n",
      "4029150c578b7203117e978fbfa50806\n",
      "4029150c578b7203117e978fbfa50806\n",
      "4029150c578b7203117e978fbfa50806\n"
     ]
    }
   ],
   "source": [
    "message = b\"a 16-byte string\" #16 bytes\n",
    "key = random_bytes(32)\n",
    "\n",
    "print(\"encrypting the same message with the same key in ECB multiple times yield the same cipher text: \\n\")\n",
    "\n",
    "for _ in range(num_encs_per_display):\n",
    "    cypher_text = AES_ECB_enc(data = message, key = key)\n",
    "    print(cypher_text.hex())"
   ]
  },
  {
   "cell_type": "markdown",
   "id": "disabled-greek",
   "metadata": {},
   "source": [
    "***we can use the following function to break IND-CPA***"
   ]
  },
  {
   "cell_type": "code",
   "execution_count": 23,
   "id": "accepting-commissioner",
   "metadata": {},
   "outputs": [],
   "source": [
    "def break_ind_cpa(mode):\n",
    "    #let m0 and m1 start with same bytes\n",
    "    m0 = b'1' * 16 + random_bytes(32)\n",
    "    m1 = b'2' * 16 + random_bytes(32)\n",
    "    \n",
    "    ind_cpa = ind_cpa_game(mode)\n",
    "    challange_text = ind_cpa.send_messages(m0, m1)\n",
    "    \n",
    "    cipher_text_m0 = ind_cpa.query_message(m0)\n",
    "    if cipher_text_m0[:16] == challange_text[:16]:\n",
    "        #if first block of the challenge ciphertext is the same as that of \n",
    "        #    m0, we know that m0 was encrypted\n",
    "        return ind_cpa.is_guess_correct(m0)\n",
    "    else:\n",
    "        #otherwise, m1 was encrypted, and we guess m1\n",
    "        return ind_cpa.is_guess_correct(m1)\n",
    "    \n",
    "def calc_success_rate(mode, num_tries):\n",
    "    success_rate = 0\n",
    "    for _ in range(100):\n",
    "        if break_ind_cpa(mode):\n",
    "            success_rate += 1\n",
    "    return success_rate"
   ]
  },
  {
   "cell_type": "code",
   "execution_count": 24,
   "id": "eight-programmer",
   "metadata": {},
   "outputs": [],
   "source": [
    "#feel free to change these parameters\n",
    "num_iterations = 5"
   ]
  },
  {
   "cell_type": "code",
   "execution_count": 25,
   "id": "official-medicare",
   "metadata": {},
   "outputs": [
    {
     "name": "stdout",
     "output_type": "stream",
     "text": [
      "Using the above method, the emperical chances of winning the IND-CPA game in the ECB mode are :\n",
      "100%\n",
      "100%\n",
      "100%\n",
      "100%\n",
      "100%\n"
     ]
    }
   ],
   "source": [
    "print(\"Using the above method, the emperical chances of winning the IND-CPA game in the ECB mode are :\")\n",
    "for _ in range(num_iterations):\n",
    "    success_rate = calc_success_rate(mode = modes.ECB, num_tries = 100)\n",
    "    print (str(success_rate) + '%')"
   ]
  },
  {
   "cell_type": "markdown",
   "id": "parental-programming",
   "metadata": {},
   "source": [
    "In contrast, let's look at CBC and CFB\n",
    "\n",
    "**Even though the first block (16 bytes) of input into CBC and CFB modes are the same, the use of IV adds in extra randomness such that the block of ciphertexts corresponding to the same plaintexts will look different.**  \n",
    "\n",
    "**Therefore, the above method of breaking IND-CPA won't work in CBC or CFB anymore:**"
   ]
  },
  {
   "cell_type": "code",
   "execution_count": 26,
   "id": "complete-campus",
   "metadata": {},
   "outputs": [
    {
     "name": "stdout",
     "output_type": "stream",
     "text": [
      "Using the above method, the emperical chances of winning the IND-CPA game in the CBC mode are :\n",
      "55%\n",
      "50%\n",
      "46%\n",
      "49%\n",
      "52%\n"
     ]
    }
   ],
   "source": [
    "print(\"Using the above method, the emperical chances of winning the IND-CPA game in the CBC mode are :\")\n",
    "for _ in range(num_iterations):\n",
    "    success_rate = calc_success_rate(mode = modes.CBC, num_tries = 100)\n",
    "    print (str(success_rate) + '%')"
   ]
  },
  {
   "cell_type": "markdown",
   "id": "acceptable-pepper",
   "metadata": {},
   "source": [
    "**Which is about 50%; it didn't win the IND-CPA game!**"
   ]
  },
  {
   "cell_type": "code",
   "execution_count": 27,
   "id": "essential-voluntary",
   "metadata": {},
   "outputs": [
    {
     "name": "stdout",
     "output_type": "stream",
     "text": [
      "Using the above method, the emperical chances of winning the IND-CPA game in the CFB mode are :\n",
      "51%\n",
      "48%\n",
      "61%\n",
      "50%\n",
      "49%\n"
     ]
    }
   ],
   "source": [
    "print(\"Using the above method, the emperical chances of winning the IND-CPA game in the CFB mode are :\")\n",
    "for _ in range(5):\n",
    "    success_rate = calc_success_rate(mode = modes.CFB, num_tries = 100)\n",
    "    print (str(success_rate) + '%')"
   ]
  },
  {
   "cell_type": "markdown",
   "id": "varying-pottery",
   "metadata": {},
   "source": [
    "---"
   ]
  },
  {
   "cell_type": "markdown",
   "id": "solid-prediction",
   "metadata": {},
   "source": [
    "## On the other hand, CBC is not"
   ]
  },
  {
   "cell_type": "code",
   "execution_count": 9,
   "id": "frequent-pixel",
   "metadata": {},
   "outputs": [
    {
     "name": "stdout",
     "output_type": "stream",
     "text": [
      "encrypting the same message with the same key in CBC multiple times: \n",
      "\n",
      "c363b0b8eed5ba9065d3d4fdc51d529e\n",
      "17e3b3486718489c482645f16b04f0d6\n",
      "acc40952b581102f8d6b06b8bcb65787\n",
      "a1cf764953ddb30ca89666f0af91fe20\n",
      "e2c1a5855ab94ab712e19bdec66d2dd2\n",
      "3a089f0592d7362e8e1120a39a0b2143\n",
      "ef57b955cd7af551a19b96b06967b833\n",
      "6d934120974a7c0ee02b8430f5750094\n",
      "a180b9ae6d372d049ce018c50902ce53\n",
      "d50032275fae245ac8c7e318d4a8c2fc\n",
      "25d6f34b8dc0cb697c1cab7a7096aa4a\n",
      "5baeb4ea5bce3df16b40d1b621112c42\n",
      "c0928bfc5068cd50453044844101b220\n",
      "8d3a5f8d370681c9de1dfcc3a8094c1b\n",
      "5105ee9087a19c8e21edbdba67c40ffe\n",
      "6a8d4b088945431d816e1bee3e8cf2f3\n"
     ]
    }
   ],
   "source": [
    "message = b\"a 16-byte string\" #16 bytes\n",
    "key = random_bytes(32)\n",
    "\n",
    "print(\"encrypting the same message with the same key in CBC multiple times: \\n\")\n",
    "\n",
    "for _ in range(num_encs_per_display):\n",
    "    cypher_text = AES_CBC_enc(data = message, key = key, iv = random_bytes(16))\n",
    "    print(cypher_text.hex())"
   ]
  },
  {
   "cell_type": "markdown",
   "id": "stuffed-supplement",
   "metadata": {},
   "source": [
    "---"
   ]
  },
  {
   "cell_type": "markdown",
   "id": "contained-presence",
   "metadata": {},
   "source": [
    "## Let's also look at CFB if you are curious"
   ]
  },
  {
   "cell_type": "code",
   "execution_count": 10,
   "id": "romance-victoria",
   "metadata": {},
   "outputs": [
    {
     "name": "stdout",
     "output_type": "stream",
     "text": [
      "encrypting the same message with the same key in CFB multiple times: \n",
      "\n",
      "e1fd2f7ac109c0ff69e680c7f1c1a23d\n",
      "80df012b29c17d9c445f820dca0a268b\n",
      "a83baf98e4a93e988e60dbf47cb7d534\n",
      "fdc360f61d6ccc5be730ebe72ff236ab\n",
      "1c571166c2cbde49c06c06bc09b5e6d0\n",
      "285ee6b0353a75cfa7cd8155ccbccc51\n",
      "feef74ef074f0d4694363e8978618ffc\n",
      "1af699098f3d4d5b3d250e7af39717ed\n",
      "fa799ea7839ab6a3165ac0ff3cfa49c5\n",
      "65a3c9fd1620616a31685e17c2f46087\n",
      "8a743073b3d06208faeb2dab0100fe89\n",
      "16b182379b1034a085763a533245df9a\n",
      "b36c990706d55eaf7d2a7774714aff7b\n",
      "a6a6cc3afdc7a0b53b430acf269b86c2\n",
      "0af15f6e897fcb691cc582049e862a2e\n",
      "605e5e991d82c57d4f1897b185c40912\n"
     ]
    }
   ],
   "source": [
    "message = b\"a 16-byte string\" #16 bytes\n",
    "key = random_bytes(32)\n",
    "\n",
    "print(\"encrypting the same message with the same key in CFB multiple times: \\n\")\n",
    "\n",
    "for _ in range(num_encs_per_display):\n",
    "    cypher_text = AES_CFB_enc(data = message, key = key, iv = random_bytes(16))\n",
    "    print(cypher_text.hex())"
   ]
  },
  {
   "cell_type": "code",
   "execution_count": null,
   "id": "after-remark",
   "metadata": {},
   "outputs": [],
   "source": []
  }
 ],
 "metadata": {
  "kernelspec": {
   "display_name": "Python 3",
   "language": "python",
   "name": "python3"
  },
  "language_info": {
   "codemirror_mode": {
    "name": "ipython",
    "version": 3
   },
   "file_extension": ".py",
   "mimetype": "text/x-python",
   "name": "python",
   "nbconvert_exporter": "python",
   "pygments_lexer": "ipython3",
   "version": "3.8.3"
  }
 },
 "nbformat": 4,
 "nbformat_minor": 5
}
