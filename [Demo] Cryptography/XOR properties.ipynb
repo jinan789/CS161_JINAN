{
 "cells": [
  {
   "cell_type": "markdown",
   "id": "protected-fleet",
   "metadata": {},
   "source": [
    "## XOR Demos\n",
    "***By Jinan Jiang, jinan@berkeley.edu***  \n",
    "  \n",
    "In this demo you will be shown examples of some XOR properties. Feel free to change the code and try out different calculations/parameters!"
   ]
  },
  {
   "cell_type": "markdown",
   "id": "figured-sodium",
   "metadata": {},
   "source": [
    "## XOR review\n",
    "***(source: https://textbook.cs161.org/crypto/symmetric.html)***\n",
    "\n",
    "Symmetric-key encryption often relies on the bitwise XOR (exclusive-or)\n",
    "operation (written as $$\\oplus$$), so let's review the definition of XOR.\n",
    "\n",
    "$$\n",
    "\\begin{aligned}\n",
    "0 \\oplus 0 &= 0 \\\\\n",
    "0 \\oplus 1 &= 1 \\\\\n",
    "1 \\oplus 0 &= 1 \\\\\n",
    "1 \\oplus 1 &= 0\n",
    "\\end{aligned}\n",
    "$$\n",
    "\n",
    "Given this definition, we can derive some useful properties:\n",
    "\n",
    "$$\n",
    "\\begin{aligned}\n",
    "x \\oplus 0 &= x & &\\text{0 is the identity} \\\\\n",
    "x \\oplus x &= 0 & &\\text{$x$ is its own inverse} \\\\\n",
    "x \\oplus y &= y \\oplus x & &\\text{commutative property} \\\\\n",
    "(x \\oplus y) \\oplus z &= x \\oplus (y \\oplus z) & &\\text{associative property}\n",
    "\\end{aligned}\n",
    "$$"
   ]
  },
  {
   "cell_type": "code",
   "execution_count": 1,
   "id": "relevant-costs",
   "metadata": {},
   "outputs": [],
   "source": [
    "from demo_lib import *"
   ]
  },
  {
   "cell_type": "code",
   "execution_count": 2,
   "id": "increased-disposition",
   "metadata": {},
   "outputs": [],
   "source": [
    "#feel free to change these parameters\n",
    "bit_str_len = 16\n",
    "num_loops_per_display = 16"
   ]
  },
  {
   "cell_type": "code",
   "execution_count": 5,
   "id": "confused-heath",
   "metadata": {},
   "outputs": [
    {
     "name": "stdout",
     "output_type": "stream",
     "text": [
      "[Demo]: x is its own inverse\n",
      "As you can see, any bit string XOR'ed with itself yields 0 \n",
      "\n",
      "If x = 34931     Then x^x = 0\n",
      "If x = 64586     Then x^x = 0\n",
      "If x = 53627     Then x^x = 0\n",
      "If x = 38945     Then x^x = 0\n",
      "If x = 41667     Then x^x = 0\n",
      "If x = 36844     Then x^x = 0\n",
      "If x = 39969     Then x^x = 0\n",
      "If x = 63113     Then x^x = 0\n",
      "If x = 21457     Then x^x = 0\n",
      "If x = 63107     Then x^x = 0\n",
      "If x = 59981     Then x^x = 0\n",
      "If x = 57236     Then x^x = 0\n",
      "If x = 20630     Then x^x = 0\n",
      "If x = 53492     Then x^x = 0\n",
      "If x = 15177     Then x^x = 0\n",
      "If x = 27168     Then x^x = 0\n"
     ]
    }
   ],
   "source": [
    "print(\"[Demo]: x is its own inverse\")\n",
    "print(\"As you can see, any bit string XOR'ed with itself yields 0 \\n\")\n",
    "\n",
    "for _ in range(num_loops_per_display):\n",
    "    x = random_bits(bit_str_len)\n",
    "    print(\"If x = \" + str(x) + \"     \" + \"Then x^x = \" + str(x ^ x))"
   ]
  },
  {
   "cell_type": "code",
   "execution_count": 8,
   "id": "behind-nutrition",
   "metadata": {},
   "outputs": [
    {
     "name": "stdout",
     "output_type": "stream",
     "text": [
      "[Demo]: 0 is the identity\n",
      "As you can see, XORing any bit string with 0 does not change the bit string \n",
      "\n",
      "If x = 12554     Then x^0 = 12554\n",
      "If x = 13680     Then x^0 = 13680\n",
      "If x = 61334     Then x^0 = 61334\n",
      "If x = 63083     Then x^0 = 63083\n",
      "If x = 11994     Then x^0 = 11994\n",
      "If x = 11572     Then x^0 = 11572\n",
      "If x = 44707     Then x^0 = 44707\n",
      "If x = 51975     Then x^0 = 51975\n",
      "If x = 32546     Then x^0 = 32546\n",
      "If x = 4316     Then x^0 = 4316\n",
      "If x = 44486     Then x^0 = 44486\n",
      "If x = 39595     Then x^0 = 39595\n",
      "If x = 55420     Then x^0 = 55420\n",
      "If x = 45741     Then x^0 = 45741\n",
      "If x = 238     Then x^0 = 238\n",
      "If x = 44840     Then x^0 = 44840\n"
     ]
    }
   ],
   "source": [
    "print(\"[Demo]: 0 is the identity\")\n",
    "print(\"As you can see, XORing any bit string with 0 does not change the bit string \\n\")\n",
    "\n",
    "for _ in range(num_loops_per_display):\n",
    "    x = random_bits(bit_str_len)\n",
    "    y = random_bits(bit_str_len)\n",
    "    print(\"If x = \" + str(x) + \"     \" + \"Then x^0 = \" + str(x ^ 0))"
   ]
  },
  {
   "cell_type": "code",
   "execution_count": 5,
   "id": "bronze-poultry",
   "metadata": {},
   "outputs": [
    {
     "name": "stdout",
     "output_type": "stream",
     "text": [
      "[Demo]: cumulative property\n",
      "As you can see, x^y is the same as y^x \n",
      "\n",
      "If x = 13446     Then x^y = 27276     and y^x = 27276\n",
      "If x = 53515     Then x^y = 1991     and y^x = 1991\n",
      "If x = 8402     Then x^y = 49023     and y^x = 49023\n",
      "If x = 8990     Then x^y = 64781     and y^x = 64781\n",
      "If x = 38636     Then x^y = 60559     and y^x = 60559\n",
      "If x = 47387     Then x^y = 27793     and y^x = 27793\n",
      "If x = 43455     Then x^y = 20554     and y^x = 20554\n",
      "If x = 12864     Then x^y = 43530     and y^x = 43530\n",
      "If x = 54661     Then x^y = 30463     and y^x = 30463\n",
      "If x = 62378     Then x^y = 33172     and y^x = 33172\n",
      "If x = 48039     Then x^y = 25206     and y^x = 25206\n",
      "If x = 12985     Then x^y = 1234     and y^x = 1234\n",
      "If x = 8343     Then x^y = 35647     and y^x = 35647\n",
      "If x = 37768     Then x^y = 45571     and y^x = 45571\n",
      "If x = 44410     Then x^y = 5299     and y^x = 5299\n",
      "If x = 29051     Then x^y = 53925     and y^x = 53925\n"
     ]
    }
   ],
   "source": [
    "print(\"[Demo]: cumulative property\")\n",
    "print(\"As you can see, x^y is the same as y^x \\n\")\n",
    "\n",
    "for _ in range(num_loops_per_display):\n",
    "    x = random_bits(bit_str_len)\n",
    "    y = random_bits(bit_str_len)\n",
    "    print(\"If x = \" + str(x) + \"     \" + \"Then x^y = \" + str(x ^ y) + \"     \" + \"and y^x = \" + str(y ^ x))"
   ]
  },
  {
   "cell_type": "code",
   "execution_count": 11,
   "id": "falling-clinton",
   "metadata": {},
   "outputs": [
    {
     "name": "stdout",
     "output_type": "stream",
     "text": [
      "[Demo]: x^y^y = x\n",
      "Proof: x^y^y = x^(y^y) = x^0 = x \n",
      "\n",
      "If x = 51824 and y = 28624     Then x^y^y = 51824\n",
      "If x = 6917 and y = 8962     Then x^y^y = 6917\n",
      "If x = 11796 and y = 54677     Then x^y^y = 11796\n",
      "If x = 39661 and y = 62492     Then x^y^y = 39661\n",
      "If x = 34373 and y = 6332     Then x^y^y = 34373\n",
      "If x = 54174 and y = 51014     Then x^y^y = 54174\n",
      "If x = 3170 and y = 35960     Then x^y^y = 3170\n",
      "If x = 11573 and y = 12234     Then x^y^y = 11573\n",
      "If x = 45859 and y = 43175     Then x^y^y = 45859\n",
      "If x = 19390 and y = 194     Then x^y^y = 19390\n",
      "If x = 49221 and y = 9245     Then x^y^y = 49221\n",
      "If x = 58310 and y = 11096     Then x^y^y = 58310\n",
      "If x = 27379 and y = 61912     Then x^y^y = 27379\n",
      "If x = 3660 and y = 42476     Then x^y^y = 3660\n",
      "If x = 54137 and y = 44463     Then x^y^y = 54137\n",
      "If x = 15337 and y = 24129     Then x^y^y = 15337\n"
     ]
    }
   ],
   "source": [
    "print(\"[Demo]: x^y^y = x\")\n",
    "print(\"Proof: x^y^y = x^(y^y) = x^0 = x \\n\")\n",
    "\n",
    "for _ in range(16):\n",
    "    x = random_bits(bit_str_len)\n",
    "    y = random_bits(bit_str_len)\n",
    "    print(\"If x = \" + str(x) + \" and y = \" + str(y) + \"     \" + \"Then x^y^y = \" + str(x ^ y ^ y))"
   ]
  },
  {
   "cell_type": "code",
   "execution_count": null,
   "id": "intermediate-wrapping",
   "metadata": {},
   "outputs": [],
   "source": []
  }
 ],
 "metadata": {
  "kernelspec": {
   "display_name": "Python 3",
   "language": "python",
   "name": "python3"
  },
  "language_info": {
   "codemirror_mode": {
    "name": "ipython",
    "version": 3
   },
   "file_extension": ".py",
   "mimetype": "text/x-python",
   "name": "python",
   "nbconvert_exporter": "python",
   "pygments_lexer": "ipython3",
   "version": "3.8.3"
  }
 },
 "nbformat": 4,
 "nbformat_minor": 5
}
